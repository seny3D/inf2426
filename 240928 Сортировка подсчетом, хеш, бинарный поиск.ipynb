{
 "cells": [
  {
   "cell_type": "markdown",
   "id": "28ac096a",
   "metadata": {},
   "source": [
    "# Представление символов"
   ]
  },
  {
   "cell_type": "code",
   "execution_count": 19,
   "id": "85230d7a",
   "metadata": {},
   "outputs": [
    {
     "data": {
      "text/plain": [
       "(97, 'a', 98, 122, 65, 89, 90)"
      ]
     },
     "execution_count": 19,
     "metadata": {},
     "output_type": "execute_result"
    }
   ],
   "source": [
    "ord('a'), chr(97), ord('b'), ord('z'), ord('A'), ord('Y'), ord('Z')"
   ]
  },
  {
   "cell_type": "code",
   "execution_count": 29,
   "id": "5ab2a8bb",
   "metadata": {},
   "outputs": [
    {
     "data": {
      "text/plain": [
       "('𘚜', 99996)"
      ]
     },
     "execution_count": 29,
     "metadata": {},
     "output_type": "execute_result"
    }
   ],
   "source": [
    "chr(99996), ord(\"𘚜\")"
   ]
  },
  {
   "cell_type": "code",
   "execution_count": 30,
   "id": "e128132b",
   "metadata": {},
   "outputs": [
    {
     "data": {
      "text/plain": [
       "5"
      ]
     },
     "execution_count": 30,
     "metadata": {},
     "output_type": "execute_result"
    }
   ],
   "source": [
    "𘚜 = 5\n",
    "𘚜"
   ]
  },
  {
   "cell_type": "code",
   "execution_count": 31,
   "id": "96c23aa4",
   "metadata": {},
   "outputs": [
    {
     "data": {
      "text/plain": [
       "5"
      ]
     },
     "execution_count": 31,
     "metadata": {},
     "output_type": "execute_result"
    }
   ],
   "source": [
    "вася = 5\n",
    "вася"
   ]
  },
  {
   "cell_type": "markdown",
   "id": "a4029dc8",
   "metadata": {},
   "source": [
    "# Хеш и словари"
   ]
  },
  {
   "cell_type": "markdown",
   "id": "ac332a6b",
   "metadata": {},
   "source": [
    "https://habr.com/ru/articles/432996/"
   ]
  },
  {
   "cell_type": "code",
   "execution_count": 37,
   "id": "418af757",
   "metadata": {},
   "outputs": [
    {
     "data": {
      "text/plain": [
       "(1, -5895402549525646272, 97, 97, 691215902509824927)"
      ]
     },
     "execution_count": 37,
     "metadata": {},
     "output_type": "execute_result"
    }
   ],
   "source": [
    "hash(1), hash(\"a\"), ord('a'), hash(97), hash(1031403041021031021024)"
   ]
  },
  {
   "cell_type": "code",
   "execution_count": 13,
   "id": "ee870a39",
   "metadata": {},
   "outputs": [
    {
     "name": "stdout",
     "output_type": "stream",
     "text": [
      "64\n"
     ]
    }
   ],
   "source": [
    "import sys\n",
    " \n",
    "d: dict[str, int] = {}\n",
    "print(sys.getsizeof(d))"
   ]
  },
  {
   "cell_type": "code",
   "execution_count": 14,
   "id": "2aa86628",
   "metadata": {},
   "outputs": [
    {
     "name": "stdout",
     "output_type": "stream",
     "text": [
      "184\n"
     ]
    }
   ],
   "source": [
    "d: dict[str, int] = {}\n",
    "d['python'] = 1\n",
    "print(sys.getsizeof(d))"
   ]
  },
  {
   "cell_type": "code",
   "execution_count": 38,
   "id": "fa5e8c94",
   "metadata": {},
   "outputs": [
    {
     "name": "stdout",
     "output_type": "stream",
     "text": [
      "224\n"
     ]
    }
   ],
   "source": [
    "d: dict[int, int] = {}\n",
    "d[2] = 1\n",
    "print(sys.getsizeof(d))"
   ]
  },
  {
   "cell_type": "code",
   "execution_count": 39,
   "id": "5b49a7db",
   "metadata": {},
   "outputs": [
    {
     "name": "stdout",
     "output_type": "stream",
     "text": [
      "Size of dictionary -> 184\n",
      "Size of a -> 42\n"
     ]
    }
   ],
   "source": [
    "d: dict[str, int] = {}\n",
    "d['a'] = 'a' * 100000\n",
    "print(\"Size of dictionary ->\", sys.getsizeof(d))\n",
    "print(\"Size of a ->\", sys.getsizeof('a'))"
   ]
  },
  {
   "cell_type": "code",
   "execution_count": 40,
   "id": "3f9c9449",
   "metadata": {},
   "outputs": [
    {
     "name": "stdout",
     "output_type": "stream",
     "text": [
      "0\n",
      "184\n"
     ]
    }
   ],
   "source": [
    "d: dict[str, int] = {}\n",
    "d['python'] = 1\n",
    "for key in list(d.keys()):\n",
    "    d.pop(key)\n",
    "\n",
    "print(len(d))\n",
    "print(sys.getsizeof(d))"
   ]
  },
  {
   "cell_type": "code",
   "execution_count": 42,
   "id": "b5185bcb",
   "metadata": {},
   "outputs": [
    {
     "name": "stdout",
     "output_type": "stream",
     "text": [
      "0\n",
      "184\n"
     ]
    }
   ],
   "source": [
    "d: dict[str, int] = {}\n",
    "d['python'] = 1\n",
    "for key in list(d.keys()):\n",
    "    del d[key]\n",
    "\n",
    "print(len(d))\n",
    "print(sys.getsizeof(d))"
   ]
  },
  {
   "cell_type": "code",
   "execution_count": 41,
   "id": "0e5b4dc2",
   "metadata": {},
   "outputs": [
    {
     "name": "stdout",
     "output_type": "stream",
     "text": [
      "0\n",
      "64\n"
     ]
    }
   ],
   "source": [
    "d: dict[str, int] = {}\n",
    "d['python'] = 1\n",
    "for key in list(d.keys()):\n",
    "  d.pop(key)\n",
    "   \n",
    "print(len(d))\n",
    "d.clear()\n",
    "print(sys.getsizeof(d))"
   ]
  },
  {
   "cell_type": "markdown",
   "id": "65be6981",
   "metadata": {},
   "source": [
    "# Сортировка подсчетом"
   ]
  },
  {
   "cell_type": "code",
   "execution_count": 12,
   "id": "dfdff324",
   "metadata": {},
   "outputs": [
    {
     "data": {
      "text/plain": [
       "('abcdefghijklmnopqrstuvwxyzABCDEFGHIJKLMNOPQRSTUVWXYZ',\n",
       " 'abcdefghijklmnopqrstuvwxyz')"
      ]
     },
     "execution_count": 12,
     "metadata": {},
     "output_type": "execute_result"
    }
   ],
   "source": [
    "import random \n",
    "from string import ascii_letters, ascii_lowercase\n",
    "\n",
    "ascii_letters, ascii_lowercase"
   ]
  },
  {
   "cell_type": "code",
   "execution_count": 21,
   "id": "27d35183",
   "metadata": {},
   "outputs": [
    {
     "name": "stdout",
     "output_type": "stream",
     "text": [
      "Help on method randint in module random:\n",
      "\n",
      "randint(a, b) method of random.Random instance\n",
      "    Return random integer in range [a, b], including both end points.\n",
      "\n"
     ]
    }
   ],
   "source": [
    "help(random.randint)"
   ]
  },
  {
   "cell_type": "code",
   "execution_count": 22,
   "id": "7fe82418",
   "metadata": {},
   "outputs": [
    {
     "name": "stdout",
     "output_type": "stream",
     "text": [
      "Help on built-in function random:\n",
      "\n",
      "random() method of random.Random instance\n",
      "    random() -> x in the interval [0, 1).\n",
      "\n"
     ]
    }
   ],
   "source": [
    "help(random.random)"
   ]
  },
  {
   "cell_type": "code",
   "execution_count": 23,
   "id": "c62d6dad",
   "metadata": {},
   "outputs": [],
   "source": [
    "def get_random_string(size: int) -> str:\n",
    "    \"\"\"\n",
    "    Генерирует случайную строку на основе модуля random размера size\n",
    "    \"\"\"\n",
    "    a: List[str] = []\n",
    "    for i in range(size):\n",
    "        if random.random() > 0.5:\n",
    "            c: str = chr(random.randint(65, 90))\n",
    "        else:\n",
    "            c: str = chr(random.randint(97, 122))\n",
    "        a.append(c)\n",
    "    return \"\".join(a)"
   ]
  },
  {
   "cell_type": "code",
   "execution_count": 43,
   "id": "5c98a0b5",
   "metadata": {},
   "outputs": [],
   "source": [
    "from typing import Hashable, Iterable\n",
    "\n",
    "\n",
    "\n",
    "def sort_counting[T: Hashable](a: Iterable[T]) -> list[T]:\n",
    "    \"\"\"\n",
    "    Сортировка списка конечного числа элементов за линию\n",
    "    \"\"\"\n",
    "    res: list[T] = []\n",
    "    d: dict[T, int] = {}\n",
    "    for el in a:\n",
    "        if el not in d:\n",
    "            d[el] = 1\n",
    "        else:\n",
    "            d[el] += 1\n",
    "    \n",
    "    for k in sorted(d.keys()):\n",
    "        for i in range(d[k]):\n",
    "            res.append(k)\n",
    "            \n",
    "    return res"
   ]
  },
  {
   "cell_type": "code",
   "execution_count": 44,
   "id": "9f894123",
   "metadata": {},
   "outputs": [
    {
     "name": "stdout",
     "output_type": "stream",
     "text": [
      "YdSohflPkBDWmVpkgWiAqCjarznVtmoUYFohxMsXmxQnPLSquvfczvPchddmggDYlKxdJGhQQfhNQEKsyMWzWRqjyvXqaMjFIQdPiFQxxfECfQozxlmspHLqrjfKYkkhjSdpSekPrprlhsHwApPMLwHhwfwJLSPjdsXOJFAfYuUVqasGXWQztNPfcvYKZROGdgzRkPeFVzFPBveXzmeWrTHlnJzVZvaPeWuWbiEIDiWmxDDkTWSLfoKoyfwSBkzxYpoAUfzFjuBDkbmrLtWeQIYYCEHsswVeEdDQKLxsPCdXPnTVzuvYuMkGYQaEZokjQGmswsLaxnwtpILplpqDlxKGhRcfitJJShjnXREBeEpnpfUPVFNfjgKfdSgVSfOAVaQsNIzFsfOdZWpbHsxtkpcGgLVOPOzWcQYgnJJhmUAJKwKXGTcWxgvVSqDOORxanbtCXNqDBYLCBUKjMQogjgURSzJWySbJLFKIexkAIKKAUxPdFIMjbnvTxtMAgdPVwQssjLlwiRPriJShqsLYrzlTfuNpGKLgvOWTWoGbKKIlbexjsTwNLCrksYrMRfFnMHNfDlDgmPRPSdRKbJVcXEtHeKJImCrLJzLqorxKuKlKWlRNNphqBsRDFPVyKENETRLdkoJgDDyzUtIwMlisAsPjCvmHjfsBkjKmLXQjDYclWzBmcPmZInJIsXVSJinmFBgyYNGkBCVpWpylZJKIjJxaxxGBsCRgUbGIkInPATtLIUAwnWTsgyqmbuKwFRJHEFkCnePNqfxINaPAypOWcSCLCAZpjiOZXlMwknthPbDlPauSjmfaTLBuqbNtTNeSpkrkXgPLXnjcAtmqefECcxMEHrCBamKOYoRWMNsBzJZozLPIKpsmDhdNNNQLQwZpFRGwIwKqNLljQIDikyQneXMxlMBrAtZECWlXxEKWFEpACPSqUFOxLnlUOlPipfBFmLwPUTfFpSaPlqRbpTdHSJwEDOJHAFTlvEYBJKMI\n"
     ]
    },
    {
     "data": {
      "text/plain": [
       "'AAAAAAAAAAAAAAAAAABBBBBBBBBBBBBBBBBBBCCCCCCCCCCCCCCCCCCDDDDDDDDDDDDDDDDDDDDEEEEEEEEEEEEEEEEEEEFFFFFFFFFFFFFFFFFFFFFFGGGGGGGGGGGGGGHHHHHHHHHHHHHIIIIIIIIIIIIIIIIIIIIIIJJJJJJJJJJJJJJJJJJJJJJJJJKKKKKKKKKKKKKKKKKKKKKKKKKKKKKKKLLLLLLLLLLLLLLLLLLLLLLLLLLLLLMMMMMMMMMMMMMMMMMNNNNNNNNNNNNNNNNNNNNNOOOOOOOOOOOOOOOPPPPPPPPPPPPPPPPPPPPPPPPPPPPPPPPPPQQQQQQQQQQQQQQQQQQQQQRRRRRRRRRRRRRRRRRRRSSSSSSSSSSSSSSSSSSSSSSTTTTTTTTTTTTTTTTUUUUUUUUUUUUUUVVVVVVVVVVVVVVVVVWWWWWWWWWWWWWWWWWWWWWWWWWXXXXXXXXXXXXXXXXXYYYYYYYYYYYYYYYYYYYZZZZZZZZZZZaaaaaaaaaaaaaabbbbbbbbbbbbbbcccccccccccccddddddddddddddddddeeeeeeeeeeeeeeefffffffffffffffffffffffffffggggggggggggggggggghhhhhhhhhhhhhhhiiiiiiiiiiiijjjjjjjjjjjjjjjjjjjjjjjjkkkkkkkkkkkkkkkkkkkkkkklllllllllllllllllllllllllmmmmmmmmmmmmmmmmmmmmmmmnnnnnnnnnnnnnnnnnnnnooooooooooooooppppppppppppppppppppppppppqqqqqqqqqqqqqqqqqqqrrrrrrrrrrrrrrrsssssssssssssssssssssssssssstttttttttttttttuuuuuuuuuuuvvvvvvvvvvvvwwwwwwwwwwwwwwwwwwwwwxxxxxxxxxxxxxxxxxxxxxxxxxxxyyyyyyyyyyyzzzzzzzzzzzzzzzzzzzzz'"
      ]
     },
     "execution_count": 44,
     "metadata": {},
     "output_type": "execute_result"
    }
   ],
   "source": [
    "a = get_random_string(1000)\n",
    "print(a)\n",
    "\"\".join(sort_counting(a))"
   ]
  },
  {
   "cell_type": "markdown",
   "id": "ea3b6e45",
   "metadata": {},
   "source": [
    "# Бинарный поиск"
   ]
  },
  {
   "cell_type": "code",
   "execution_count": null,
   "id": "62046030",
   "metadata": {},
   "outputs": [],
   "source": []
  },
  {
   "cell_type": "markdown",
   "id": "df5ae5e7",
   "metadata": {},
   "source": [
    "# Вещественный бинарный поиск"
   ]
  },
  {
   "cell_type": "code",
   "execution_count": null,
   "id": "bc33e8da",
   "metadata": {},
   "outputs": [],
   "source": []
  },
  {
   "cell_type": "code",
   "execution_count": 45,
   "id": "0926de8c",
   "metadata": {},
   "outputs": [
    {
     "data": {
      "text/plain": [
       "{'а': 0,\n",
       " 'б': 0,\n",
       " 'в': 0,\n",
       " 'г': 0,\n",
       " 'д': 0,\n",
       " 'е': 0,\n",
       " 'ж': 0,\n",
       " 'з': 0,\n",
       " 'и': 0,\n",
       " 'ё': 0}"
      ]
     },
     "execution_count": 45,
     "metadata": {},
     "output_type": "execute_result"
    }
   ],
   "source": [
    "s: str = 'абвгдежзиё'\n",
    "d: dict[str: int] = {}\n",
    "for el in s:\n",
    "    d[el] = 0\n",
    "    \n",
    "d"
   ]
  },
  {
   "cell_type": "code",
   "execution_count": null,
   "id": "575d8bf6",
   "metadata": {},
   "outputs": [],
   "source": [
    "s = 'фаэфлфолфцуоахйцойцушфамтйушнеорцукщйфм'\n",
    "for el in s:\n",
    "    d[el] =+ 1"
   ]
  },
  {
   "cell_type": "code",
   "execution_count": 46,
   "id": "ae8bac60",
   "metadata": {},
   "outputs": [
    {
     "data": {
      "text/plain": [
       "[[1, 2], [2, 1]]"
      ]
     },
     "execution_count": 46,
     "metadata": {},
     "output_type": "execute_result"
    }
   ],
   "source": [
    "sorted([[2,1], [1,2]])"
   ]
  },
  {
   "cell_type": "code",
   "execution_count": null,
   "id": "e44b36a2",
   "metadata": {},
   "outputs": [],
   "source": []
  }
 ],
 "metadata": {
  "kernelspec": {
   "display_name": "Python 3",
   "language": "python",
   "name": "python3"
  },
  "language_info": {
   "codemirror_mode": {
    "name": "ipython",
    "version": 3
   },
   "file_extension": ".py",
   "mimetype": "text/x-python",
   "name": "python",
   "nbconvert_exporter": "python",
   "pygments_lexer": "ipython3",
   "version": "3.12.3"
  }
 },
 "nbformat": 4,
 "nbformat_minor": 5
}
