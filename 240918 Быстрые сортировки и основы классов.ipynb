{
 "cells": [
  {
   "cell_type": "markdown",
   "id": "db7a1774",
   "metadata": {},
   "source": [
    "# Эффективные сортировки"
   ]
  },
  {
   "cell_type": "code",
   "execution_count": 48,
   "id": "0897e385",
   "metadata": {},
   "outputs": [],
   "source": [
    "# from typing import TypeVar\n",
    "\n",
    "# T = TypeVar('T')\n",
    "\n",
    "def merge[T: int|str](m1:list[T], m2:list[T]) -> list[T]:\n",
    "    res: list[T] = []\n",
    "    i: int = 0\n",
    "    j: int = 0\n",
    "    while i < len(m1) and j < len(m2):\n",
    "        if m1[i] <= m2[j]:\n",
    "            res.append(m1[i])\n",
    "            i += 1\n",
    "        else:\n",
    "            res.append(m2[j])\n",
    "            j += 1\n",
    "            \n",
    "    while i < len(m1):\n",
    "        res.append(m1[i])\n",
    "        i += 1\n",
    "        \n",
    "    while j < len(m2):\n",
    "        res.append(m2[j])\n",
    "        j += 1\n",
    "    \n",
    "    return res\n",
    "\n",
    "\n",
    "def sort_merge_rec[T: int](a: list[T]) -> list[T]:\n",
    "    \"\"\"\n",
    "    Сортировка слиянием рекурсивная\n",
    "    a: list[T] - не отсортированный (боо) массив\n",
    "    return list[T] - отсортированный массив\n",
    "    \n",
    "    Работает на O(nlogn)\n",
    "    \"\"\"\n",
    "    # проверить нужно ли разбивать массивы\n",
    "    if len(a) < 2:\n",
    "        return a\n",
    "    else:\n",
    "        # разбить массив на две части\n",
    "        m1: list[T]\n",
    "        m2: list[T]\n",
    "        m1, m2 = a[:len(a)//2], a[len(a)//2:]\n",
    "        # сортируем их\n",
    "        m1 = sort_merge(m1)\n",
    "        m2 = sort_merge(m2)\n",
    "        # сливаем два отсортированных массива в один\n",
    "        res: list[T] = merge(m1, m2)\n",
    "    return res\n",
    "\n",
    "\n",
    "def sort_merge[T: int](a: list[T]) -> list[T]:\n",
    "    \n",
    "    ar: list[list[T]] = []\n",
    "    for el in a:\n",
    "        ar.append([el])\n",
    "    b: bool = False\n",
    "    m1: list[T]\n",
    "    m2: list[T]\n",
    "    for el in ar:\n",
    "        if b:\n",
    "            m2 = el\n",
    "            ar.append(merge(m1, m2))\n",
    "        else:\n",
    "            m1 = el\n",
    "        b = not b\n",
    "    return m1"
   ]
  },
  {
   "cell_type": "code",
   "execution_count": 49,
   "id": "985899a4",
   "metadata": {},
   "outputs": [
    {
     "data": {
      "text/plain": [
       "[1, 3, 3, 4, 6, 8, 54]"
      ]
     },
     "execution_count": 49,
     "metadata": {},
     "output_type": "execute_result"
    }
   ],
   "source": [
    "sort_merge([4,3,8,6,1,3,54])"
   ]
  },
  {
   "cell_type": "code",
   "execution_count": 15,
   "id": "4e7f427d",
   "metadata": {},
   "outputs": [
    {
     "name": "stdout",
     "output_type": "stream",
     "text": [
      "1\n",
      "2\n",
      "3\n",
      "4\n",
      "5\n",
      "6\n"
     ]
    }
   ],
   "source": [
    "a: list[int] = [1,2,3]\n",
    "for el in a:\n",
    "    print(el)\n",
    "    if el == 2:\n",
    "        a.extend([4,5,6])"
   ]
  },
  {
   "cell_type": "code",
   "execution_count": 17,
   "id": "c76b6782",
   "metadata": {},
   "outputs": [
    {
     "name": "stdout",
     "output_type": "stream",
     "text": [
      "1\n",
      "2\n",
      "3\n"
     ]
    },
    {
     "data": {
      "text/plain": [
       "[1, 2, 3, 4, 5, 6]"
      ]
     },
     "execution_count": 17,
     "metadata": {},
     "output_type": "execute_result"
    }
   ],
   "source": [
    "a: list[int] = [1,2,3]\n",
    "for i in range(len(a)):\n",
    "    print(a[i])\n",
    "    if a[i] == 2:\n",
    "        a.extend([4,5,6])\n",
    "a"
   ]
  },
  {
   "cell_type": "code",
   "execution_count": 19,
   "id": "42403718",
   "metadata": {},
   "outputs": [
    {
     "ename": "TypeError",
     "evalue": "f() missing 1 required positional argument: 'c'",
     "output_type": "error",
     "traceback": [
      "\u001b[0;31m---------------------------------------------------------------------------\u001b[0m",
      "\u001b[0;31mTypeError\u001b[0m                                 Traceback (most recent call last)",
      "Cell \u001b[0;32mIn[19], line 5\u001b[0m\n\u001b[1;32m      2\u001b[0m     \u001b[38;5;28;01mreturn\u001b[39;00m a \u001b[38;5;241m+\u001b[39m b \u001b[38;5;241m+\u001b[39m c\n\u001b[1;32m      4\u001b[0m t: \u001b[38;5;28mtuple\u001b[39m[\u001b[38;5;28mint\u001b[39m] \u001b[38;5;241m=\u001b[39m (\u001b[38;5;241m1\u001b[39m,\u001b[38;5;241m3\u001b[39m)\n\u001b[0;32m----> 5\u001b[0m \u001b[43mf\u001b[49m\u001b[43m(\u001b[49m\u001b[38;5;241;43m*\u001b[39;49m\u001b[43mt\u001b[49m\u001b[43m)\u001b[49m\n",
      "\u001b[0;31mTypeError\u001b[0m: f() missing 1 required positional argument: 'c'"
     ]
    }
   ],
   "source": [
    "def f(a:int,b:int,c:int) -> int:\n",
    "    return a + b + c\n",
    "\n",
    "t: tuple[int] = (1,3)\n",
    "f(*t)"
   ]
  },
  {
   "cell_type": "code",
   "execution_count": 28,
   "id": "b858643c",
   "metadata": {},
   "outputs": [
    {
     "name": "stdout",
     "output_type": "stream",
     "text": [
      "10\n",
      "6\n",
      "10\n",
      "15\n",
      "12\n",
      "12\n",
      "20\n",
      "20\n"
     ]
    }
   ],
   "source": [
    "def f(a:int,b:int,c:int, d:int=0, e:int=0) -> int:\n",
    "    return a + b + c + d + e\n",
    "\n",
    "print(f(1,2,3,4))\n",
    "print(f(1,2,3))\n",
    "print(f(1,2,3, d=4))\n",
    "print(f(1,2,3,4,5))\n",
    "print(f(1,2,3,e=4, d=2))\n",
    "t: tuple[int] = (1,2,3)\n",
    "s: dict[str, int] = {'e': 4, 'd': 2}\n",
    "print(f(*t, **s))\n",
    "print(f(a=2, b=3, c=4, d=5, e=6))\n",
    "print(f(b=2, a=3, c=4, d=5, e=6))"
   ]
  },
  {
   "cell_type": "code",
   "execution_count": 29,
   "id": "45c7529c",
   "metadata": {},
   "outputs": [
    {
     "ename": "SyntaxError",
     "evalue": "positional argument follows keyword argument (3588640395.py, line 1)",
     "output_type": "error",
     "traceback": [
      "\u001b[0;36m  Cell \u001b[0;32mIn[29], line 1\u001b[0;36m\u001b[0m\n\u001b[0;31m    print(f(d=5, e=6, 1,2, 3))\u001b[0m\n\u001b[0m                            ^\u001b[0m\n\u001b[0;31mSyntaxError\u001b[0m\u001b[0;31m:\u001b[0m positional argument follows keyword argument\n"
     ]
    }
   ],
   "source": [
    "print(f(d=5, e=6, 1,2,3))"
   ]
  },
  {
   "cell_type": "code",
   "execution_count": 31,
   "id": "7905bcf3",
   "metadata": {},
   "outputs": [],
   "source": [
    "a: list[int] = [1,2,3]\n",
    "b,c,d = a"
   ]
  },
  {
   "cell_type": "code",
   "execution_count": 36,
   "id": "672bac78",
   "metadata": {},
   "outputs": [
    {
     "data": {
      "text/plain": [
       "(1, [2, 3])"
      ]
     },
     "execution_count": 36,
     "metadata": {},
     "output_type": "execute_result"
    }
   ],
   "source": [
    "b,*k = a\n",
    "b,k"
   ]
  },
  {
   "cell_type": "code",
   "execution_count": 38,
   "id": "7b445be8",
   "metadata": {},
   "outputs": [
    {
     "name": "stdout",
     "output_type": "stream",
     "text": [
      "6\n",
      "1\n",
      "6\n"
     ]
    }
   ],
   "source": [
    "from typing import Unpack\n",
    "\n",
    "def f(*a: Unpack[int]) -> int:\n",
    "    return sum(a)\n",
    "\n",
    "print(f(1,2,3))\n",
    "print(f(1))\n",
    "print(f(*[1,2,3]))"
   ]
  },
  {
   "cell_type": "code",
   "execution_count": 47,
   "id": "5b415af9",
   "metadata": {},
   "outputs": [
    {
     "ename": "TypeError",
     "evalue": "f() takes 0 positional arguments but 3 were given",
     "output_type": "error",
     "traceback": [
      "\u001b[0;31m---------------------------------------------------------------------------\u001b[0m",
      "\u001b[0;31mTypeError\u001b[0m                                 Traceback (most recent call last)",
      "Cell \u001b[0;32mIn[47], line 8\u001b[0m\n\u001b[1;32m      5\u001b[0m     \u001b[38;5;28mprint\u001b[39m(args)\n\u001b[1;32m      6\u001b[0m     \u001b[38;5;28;01mreturn\u001b[39;00m \u001b[38;5;28msum\u001b[39m(kwargs\u001b[38;5;241m.\u001b[39mvalues()) \u001b[38;5;241m+\u001b[39m \u001b[38;5;28msum\u001b[39m(args)\n\u001b[0;32m----> 8\u001b[0m \u001b[38;5;28mprint\u001b[39m(\u001b[43mf\u001b[49m\u001b[43m(\u001b[49m\u001b[38;5;241;43m1\u001b[39;49m\u001b[43m,\u001b[49m\u001b[38;5;241;43m2\u001b[39;49m\u001b[43m,\u001b[49m\u001b[38;5;241;43m3\u001b[39;49m\u001b[43m)\u001b[49m)\n\u001b[1;32m      9\u001b[0m \u001b[38;5;28mprint\u001b[39m(f(\u001b[38;5;241m1\u001b[39m))\n\u001b[1;32m     10\u001b[0m \u001b[38;5;28mprint\u001b[39m(f(\u001b[38;5;241m*\u001b[39m[\u001b[38;5;241m1\u001b[39m,\u001b[38;5;241m2\u001b[39m,\u001b[38;5;241m3\u001b[39m]))\n",
      "\u001b[0;31mTypeError\u001b[0m: f() takes 0 positional arguments but 3 were given"
     ]
    }
   ],
   "source": [
    "from typing import Unpack\n",
    "\n",
    "def f(*args: Unpack[int], **kwargs: Unpack[dict[str, int]]) -> int:\n",
    "    print(kwargs)\n",
    "    print(args)\n",
    "    return sum(kwargs.values()) + sum(args)\n",
    "\n",
    "print(f(1,2,3))\n",
    "print(f(1))\n",
    "print(f(*[1,2,3]))\n",
    "print(f(1,2,3,4,5,a=1,b=3))"
   ]
  },
  {
   "cell_type": "code",
   "execution_count": null,
   "id": "61bf5469",
   "metadata": {},
   "outputs": [],
   "source": []
  },
  {
   "cell_type": "code",
   "execution_count": 13,
   "id": "df5610e2",
   "metadata": {},
   "outputs": [
    {
     "name": "stdout",
     "output_type": "stream",
     "text": [
      "Help on function sort_merge_rec in module __main__:\n",
      "\n",
      "sort_merge_rec(a: list[T]) -> list[T]\n",
      "    Сортировка слиянием рекурсивная\n",
      "    a: list[T] - не отсортированный (боо) массив\n",
      "    return list[T] - отсортированный массив\n",
      "\n",
      "    Работает на O(nlogn)\n",
      "\n"
     ]
    }
   ],
   "source": [
    "help(sort_merge_rec)"
   ]
  },
  {
   "cell_type": "code",
   "execution_count": 14,
   "id": "29480b5a",
   "metadata": {},
   "outputs": [
    {
     "name": "stdout",
     "output_type": "stream",
     "text": [
      "Help on built-in function len in module builtins:\n",
      "\n",
      "len(obj, /)\n",
      "    Return the number of items in a container.\n",
      "\n"
     ]
    }
   ],
   "source": [
    "help(len)"
   ]
  },
  {
   "cell_type": "code",
   "execution_count": 9,
   "id": "c9f66a0e",
   "metadata": {},
   "outputs": [
    {
     "data": {
      "text/plain": [
       "[1, 2, 3, 4, 5, 6]"
      ]
     },
     "execution_count": 9,
     "metadata": {},
     "output_type": "execute_result"
    }
   ],
   "source": [
    "merge([1,2,3], [4,5,6])"
   ]
  },
  {
   "cell_type": "code",
   "execution_count": 10,
   "id": "1a997874",
   "metadata": {},
   "outputs": [
    {
     "data": {
      "text/plain": [
       "[0, 1, 4, 5, 7, 9, 23, 56]"
      ]
     },
     "execution_count": 10,
     "metadata": {},
     "output_type": "execute_result"
    }
   ],
   "source": [
    "sort_merge([1,5,23,9,7,0,4,56])"
   ]
  },
  {
   "cell_type": "markdown",
   "id": "898f1e6c",
   "metadata": {},
   "source": [
    "# Классы"
   ]
  },
  {
   "cell_type": "code",
   "execution_count": 62,
   "id": "b0a0fb13",
   "metadata": {},
   "outputs": [
    {
     "data": {
      "text/plain": [
       "<__main__.Fio at 0x7f03457ff830>"
      ]
     },
     "execution_count": 62,
     "metadata": {},
     "output_type": "execute_result"
    }
   ],
   "source": [
    "class Fio():\n",
    "    def __init__(self, f:str, i:str, o: str) -> None:\n",
    "        self.ff: str = f\n",
    "        self.i: str = i\n",
    "        self.o: str = o\n",
    "        \n",
    "def pretty_fio(el: Fio):\n",
    "    return el.i + \" \" + el.o + \" \" + el.ff\n",
    "\n",
    "def short_fio(el: Fio):\n",
    "    return el.ff + \" \" + el.i[:1] + \". \" + el.o[:1] + \".\"\n",
    "\n",
    "m1: Fio = Fio(\"Менделеев\", \"Дмитрий\", \"Иванович\")\n",
    "m1"
   ]
  },
  {
   "cell_type": "code",
   "execution_count": 57,
   "id": "bc6c3ba0",
   "metadata": {},
   "outputs": [
    {
     "data": {
      "text/plain": [
       "('Менделеев', 'Дмитрий', 'Иванович')"
      ]
     },
     "execution_count": 57,
     "metadata": {},
     "output_type": "execute_result"
    }
   ],
   "source": [
    "m1.ff, m1.i, m1.o"
   ]
  },
  {
   "cell_type": "code",
   "execution_count": 61,
   "id": "412334ce",
   "metadata": {},
   "outputs": [
    {
     "data": {
      "text/plain": [
       "('Дмитрий Иванович Менделеев', 'Менделеев Д. И.')"
      ]
     },
     "execution_count": 61,
     "metadata": {},
     "output_type": "execute_result"
    }
   ],
   "source": [
    "pretty_fio(m1), short_fio(m1)"
   ]
  },
  {
   "cell_type": "code",
   "execution_count": 80,
   "id": "5201c42f",
   "metadata": {},
   "outputs": [
    {
     "data": {
      "text/plain": [
       "<__main__.Fio at 0x7f03457d2c30>"
      ]
     },
     "execution_count": 80,
     "metadata": {},
     "output_type": "execute_result"
    }
   ],
   "source": [
    "class Fio():\n",
    "    def __init__(self, f:str, i:str, o: str) -> None:\n",
    "        self.ff: str = f\n",
    "        self.i: str = i\n",
    "        self.o: str = o\n",
    "        \n",
    "    def pretty_fio(self):\n",
    "        return self.i + \" \" + self.o + \" \" + self.ff\n",
    "\n",
    "    def short_fio(self):\n",
    "        return self.ff + \" \" + self.i[:1] + \". \" + self.o[:1] + \".\"\n",
    "\n",
    "m1: Fio = Fio(\"Менделеев\", \"Дмитрий\", \"Иванович\")\n",
    "m2: Fio = Fio(\"Пушкин\", \"Александр\", \"Сергеевич\")\n",
    "m1"
   ]
  },
  {
   "cell_type": "code",
   "execution_count": 73,
   "id": "b9206dd9",
   "metadata": {},
   "outputs": [
    {
     "data": {
      "text/plain": [
       "('Дмитрий Иванович Менделеев', 'Менделеев Д. И.')"
      ]
     },
     "execution_count": 73,
     "metadata": {},
     "output_type": "execute_result"
    }
   ],
   "source": [
    "m1.pretty_fio(), m1.short_fio()"
   ]
  },
  {
   "cell_type": "code",
   "execution_count": 76,
   "id": "d79d8fbb",
   "metadata": {},
   "outputs": [
    {
     "data": {
      "text/plain": [
       "('Дмитрий Иванович Менделеев', 'Александр Сергеевич Пушкин')"
      ]
     },
     "execution_count": 76,
     "metadata": {},
     "output_type": "execute_result"
    }
   ],
   "source": [
    "Fio.pretty_fio(m1), Fio.pretty_fio(m2)"
   ]
  },
  {
   "cell_type": "code",
   "execution_count": 77,
   "id": "41bb9b2d",
   "metadata": {},
   "outputs": [],
   "source": [
    "m1.k = 4"
   ]
  },
  {
   "cell_type": "code",
   "execution_count": 78,
   "id": "a3431a03",
   "metadata": {},
   "outputs": [
    {
     "data": {
      "text/plain": [
       "4"
      ]
     },
     "execution_count": 78,
     "metadata": {},
     "output_type": "execute_result"
    }
   ],
   "source": [
    "m1.k"
   ]
  },
  {
   "cell_type": "code",
   "execution_count": 79,
   "id": "47fde0a9",
   "metadata": {},
   "outputs": [
    {
     "ename": "AttributeError",
     "evalue": "'Fio' object has no attribute 'k'",
     "output_type": "error",
     "traceback": [
      "\u001b[0;31m---------------------------------------------------------------------------\u001b[0m",
      "\u001b[0;31mAttributeError\u001b[0m                            Traceback (most recent call last)",
      "Cell \u001b[0;32mIn[79], line 1\u001b[0m\n\u001b[0;32m----> 1\u001b[0m \u001b[43mm2\u001b[49m\u001b[38;5;241;43m.\u001b[39;49m\u001b[43mk\u001b[49m\n",
      "\u001b[0;31mAttributeError\u001b[0m: 'Fio' object has no attribute 'k'"
     ]
    }
   ],
   "source": [
    "m2.k"
   ]
  },
  {
   "cell_type": "code",
   "execution_count": 81,
   "id": "59f7ad7c",
   "metadata": {},
   "outputs": [
    {
     "data": {
      "text/plain": [
       "<__main__.Fio at 0x7f03457d3020>"
      ]
     },
     "execution_count": 81,
     "metadata": {},
     "output_type": "execute_result"
    }
   ],
   "source": [
    "class Fio():\n",
    "    def __init__(self, f:str, i:str, o: str) -> None:\n",
    "        self.ff: str = f\n",
    "        self.i: str = i\n",
    "        self.o: str = o\n",
    "        \n",
    "    def pretty_fio(self):\n",
    "        self.k = 5\n",
    "        return self.i + \" \" + self.o + \" \" + self.ff\n",
    "\n",
    "    def short_fio(self):\n",
    "        return self.ff + \" \" + self.i[:1] + \". \" + self.o[:1] + \".\"\n",
    "\n",
    "m1: Fio = Fio(\"Менделеев\", \"Дмитрий\", \"Иванович\")\n",
    "m2: Fio = Fio(\"Пушкин\", \"Александр\", \"Сергеевич\")\n",
    "m1"
   ]
  },
  {
   "cell_type": "code",
   "execution_count": 82,
   "id": "87268f7b",
   "metadata": {},
   "outputs": [
    {
     "data": {
      "text/plain": [
       "['__class__',\n",
       " '__delattr__',\n",
       " '__dict__',\n",
       " '__dir__',\n",
       " '__doc__',\n",
       " '__eq__',\n",
       " '__format__',\n",
       " '__ge__',\n",
       " '__getattribute__',\n",
       " '__getstate__',\n",
       " '__gt__',\n",
       " '__hash__',\n",
       " '__init__',\n",
       " '__init_subclass__',\n",
       " '__le__',\n",
       " '__lt__',\n",
       " '__module__',\n",
       " '__ne__',\n",
       " '__new__',\n",
       " '__reduce__',\n",
       " '__reduce_ex__',\n",
       " '__repr__',\n",
       " '__setattr__',\n",
       " '__sizeof__',\n",
       " '__str__',\n",
       " '__subclasshook__',\n",
       " '__weakref__',\n",
       " 'ff',\n",
       " 'i',\n",
       " 'o',\n",
       " 'pretty_fio',\n",
       " 'short_fio']"
      ]
     },
     "execution_count": 82,
     "metadata": {},
     "output_type": "execute_result"
    }
   ],
   "source": [
    "dir(m1)"
   ]
  },
  {
   "cell_type": "code",
   "execution_count": 83,
   "id": "8a8b4d59",
   "metadata": {},
   "outputs": [
    {
     "data": {
      "text/plain": [
       "'Дмитрий Иванович Менделеев'"
      ]
     },
     "execution_count": 83,
     "metadata": {},
     "output_type": "execute_result"
    }
   ],
   "source": [
    "m1.pretty_fio()"
   ]
  },
  {
   "cell_type": "code",
   "execution_count": 84,
   "id": "607f8e55",
   "metadata": {},
   "outputs": [
    {
     "data": {
      "text/plain": [
       "['__class__',\n",
       " '__delattr__',\n",
       " '__dict__',\n",
       " '__dir__',\n",
       " '__doc__',\n",
       " '__eq__',\n",
       " '__format__',\n",
       " '__ge__',\n",
       " '__getattribute__',\n",
       " '__getstate__',\n",
       " '__gt__',\n",
       " '__hash__',\n",
       " '__init__',\n",
       " '__init_subclass__',\n",
       " '__le__',\n",
       " '__lt__',\n",
       " '__module__',\n",
       " '__ne__',\n",
       " '__new__',\n",
       " '__reduce__',\n",
       " '__reduce_ex__',\n",
       " '__repr__',\n",
       " '__setattr__',\n",
       " '__sizeof__',\n",
       " '__str__',\n",
       " '__subclasshook__',\n",
       " '__weakref__',\n",
       " 'ff',\n",
       " 'i',\n",
       " 'k',\n",
       " 'o',\n",
       " 'pretty_fio',\n",
       " 'short_fio']"
      ]
     },
     "execution_count": 84,
     "metadata": {},
     "output_type": "execute_result"
    }
   ],
   "source": [
    "dir(m1)"
   ]
  },
  {
   "cell_type": "code",
   "execution_count": 85,
   "id": "4bf59c07",
   "metadata": {},
   "outputs": [
    {
     "data": {
      "text/plain": [
       "['__class__',\n",
       " '__delattr__',\n",
       " '__dict__',\n",
       " '__dir__',\n",
       " '__doc__',\n",
       " '__eq__',\n",
       " '__format__',\n",
       " '__ge__',\n",
       " '__getattribute__',\n",
       " '__getstate__',\n",
       " '__gt__',\n",
       " '__hash__',\n",
       " '__init__',\n",
       " '__init_subclass__',\n",
       " '__le__',\n",
       " '__lt__',\n",
       " '__module__',\n",
       " '__ne__',\n",
       " '__new__',\n",
       " '__reduce__',\n",
       " '__reduce_ex__',\n",
       " '__repr__',\n",
       " '__setattr__',\n",
       " '__sizeof__',\n",
       " '__str__',\n",
       " '__subclasshook__',\n",
       " '__weakref__',\n",
       " 'ff',\n",
       " 'i',\n",
       " 'o',\n",
       " 'pretty_fio',\n",
       " 'short_fio']"
      ]
     },
     "execution_count": 85,
     "metadata": {},
     "output_type": "execute_result"
    }
   ],
   "source": [
    "dir(m2)"
   ]
  },
  {
   "cell_type": "code",
   "execution_count": 97,
   "id": "02524c97",
   "metadata": {},
   "outputs": [],
   "source": [
    "class F():\n",
    "    ...\n",
    "#     def ff(self):\n",
    "#         self.k = 5\n",
    "        \n",
    "def gg(el: F):\n",
    "    el.k = 5"
   ]
  },
  {
   "cell_type": "code",
   "execution_count": 98,
   "id": "5261ab9c",
   "metadata": {},
   "outputs": [],
   "source": [
    "r1: F = F()\n",
    "\n",
    "# r1.ff()\n",
    "\n",
    "gg(r1)"
   ]
  },
  {
   "cell_type": "code",
   "execution_count": 99,
   "id": "40cbd138",
   "metadata": {},
   "outputs": [
    {
     "data": {
      "text/plain": [
       "['__class__',\n",
       " '__delattr__',\n",
       " '__dict__',\n",
       " '__dir__',\n",
       " '__doc__',\n",
       " '__eq__',\n",
       " '__format__',\n",
       " '__ge__',\n",
       " '__getattribute__',\n",
       " '__getstate__',\n",
       " '__gt__',\n",
       " '__hash__',\n",
       " '__init__',\n",
       " '__init_subclass__',\n",
       " '__le__',\n",
       " '__lt__',\n",
       " '__module__',\n",
       " '__ne__',\n",
       " '__new__',\n",
       " '__reduce__',\n",
       " '__reduce_ex__',\n",
       " '__repr__',\n",
       " '__setattr__',\n",
       " '__sizeof__',\n",
       " '__str__',\n",
       " '__subclasshook__',\n",
       " '__weakref__',\n",
       " 'k']"
      ]
     },
     "execution_count": 99,
     "metadata": {},
     "output_type": "execute_result"
    }
   ],
   "source": [
    "dir(r1)"
   ]
  },
  {
   "cell_type": "code",
   "execution_count": 139,
   "id": "be02175a",
   "metadata": {},
   "outputs": [],
   "source": [
    "from typing import Self\n",
    "\n",
    "class Fio():\n",
    "    def __init__(self, f:str, i:str, o: str) -> None:\n",
    "        self.ff: str = f\n",
    "        self.i: str = i\n",
    "        self.o: str = o\n",
    "        \n",
    "    def pretty_fio(self):\n",
    "        return self.i + \" \" + self.o + \" \" + self.ff\n",
    "\n",
    "    def short_fio(self):\n",
    "        return self.ff + \" \" + self.i[:1] + \". \" + self.o[:1] + \".\"\n",
    "    \n",
    "    def __str__(self)-> str:\n",
    "        return self.pretty_fio()\n",
    "    \n",
    "    def __repr__(self) -> str:\n",
    "        return f'Fio(\"{self.ff}\", \"{self.i}\", \"{self.o}\")'\n",
    "    \n",
    "    def __len__(self) -> int:\n",
    "        return len(self.ff) + len(self.i) + len(self.o)\n",
    "    \n",
    "    def __pow__(self, n: int) -> str:\n",
    "        return self.pretty_fio().upper()\n",
    "    \n",
    "    def __eq__(self, el: Self) -> bool:\n",
    "        return self.ff == el.ff\n",
    "    \n",
    "m1: Fio = Fio(\"Менделеев\", \"Дмитрий\", \"Иванович\")\n",
    "m2: Fio = Fio(\"Пушкин\", \"Александр\", \"Сергеевич\")\n",
    "m3: Fio = Fio(\"Пушкин\", \"Василий\", \"Петрович\")"
   ]
  },
  {
   "cell_type": "code",
   "execution_count": 115,
   "id": "ede0d7e4",
   "metadata": {},
   "outputs": [
    {
     "data": {
      "text/plain": [
       "('Дмитрий Иванович Менделеев', 'Дмитрий Иванович Менделеев')"
      ]
     },
     "execution_count": 115,
     "metadata": {},
     "output_type": "execute_result"
    }
   ],
   "source": [
    "str(m1), m1.__str__()"
   ]
  },
  {
   "cell_type": "code",
   "execution_count": 116,
   "id": "9fc1bc7c",
   "metadata": {},
   "outputs": [
    {
     "name": "stdout",
     "output_type": "stream",
     "text": [
      "Дмитрий Иванович Менделеев\n"
     ]
    }
   ],
   "source": [
    "print(m1)"
   ]
  },
  {
   "cell_type": "code",
   "execution_count": 117,
   "id": "7b60f997",
   "metadata": {},
   "outputs": [
    {
     "data": {
      "text/plain": [
       "Fio(\"Менделеев\", \"Дмитрий\", \"Иванович\")"
      ]
     },
     "execution_count": 117,
     "metadata": {},
     "output_type": "execute_result"
    }
   ],
   "source": [
    "m1"
   ]
  },
  {
   "cell_type": "code",
   "execution_count": 127,
   "id": "611fb8fb",
   "metadata": {},
   "outputs": [
    {
     "data": {
      "text/plain": [
       "'Fio(\"Менделеев\", \"Дмитрий\", \"Иванович\")'"
      ]
     },
     "execution_count": 127,
     "metadata": {},
     "output_type": "execute_result"
    }
   ],
   "source": [
    "repr(m1)"
   ]
  },
  {
   "cell_type": "code",
   "execution_count": 128,
   "id": "677c5c06",
   "metadata": {},
   "outputs": [],
   "source": [
    "a: list[Fio] = [m1, m2]"
   ]
  },
  {
   "cell_type": "code",
   "execution_count": 129,
   "id": "63d40617",
   "metadata": {},
   "outputs": [
    {
     "data": {
      "text/plain": [
       "[Fio(\"Менделеев\", \"Дмитрий\", \"Иванович\"),\n",
       " Fio(\"Пушкин\", \"Александр\", \"Сергеевич\")]"
      ]
     },
     "execution_count": 129,
     "metadata": {},
     "output_type": "execute_result"
    }
   ],
   "source": [
    "a"
   ]
  },
  {
   "cell_type": "code",
   "execution_count": 130,
   "id": "9592700f",
   "metadata": {},
   "outputs": [
    {
     "name": "stdout",
     "output_type": "stream",
     "text": [
      "[Fio(\"Менделеев\", \"Дмитрий\", \"Иванович\"), Fio(\"Пушкин\", \"Александр\", \"Сергеевич\")]\n"
     ]
    }
   ],
   "source": [
    "print(a)"
   ]
  },
  {
   "cell_type": "code",
   "execution_count": 118,
   "id": "880f5d34",
   "metadata": {},
   "outputs": [
    {
     "data": {
      "text/plain": [
       "24"
      ]
     },
     "execution_count": 118,
     "metadata": {},
     "output_type": "execute_result"
    }
   ],
   "source": [
    "len(m1)"
   ]
  },
  {
   "cell_type": "code",
   "execution_count": 119,
   "id": "51441ec1",
   "metadata": {},
   "outputs": [
    {
     "data": {
      "text/plain": [
       "['__abs__',\n",
       " '__add__',\n",
       " '__and__',\n",
       " '__bool__',\n",
       " '__ceil__',\n",
       " '__class__',\n",
       " '__delattr__',\n",
       " '__dir__',\n",
       " '__divmod__',\n",
       " '__doc__',\n",
       " '__eq__',\n",
       " '__float__',\n",
       " '__floor__',\n",
       " '__floordiv__',\n",
       " '__format__',\n",
       " '__ge__',\n",
       " '__getattribute__',\n",
       " '__getnewargs__',\n",
       " '__getstate__',\n",
       " '__gt__',\n",
       " '__hash__',\n",
       " '__index__',\n",
       " '__init__',\n",
       " '__init_subclass__',\n",
       " '__int__',\n",
       " '__invert__',\n",
       " '__le__',\n",
       " '__lshift__',\n",
       " '__lt__',\n",
       " '__mod__',\n",
       " '__mul__',\n",
       " '__ne__',\n",
       " '__neg__',\n",
       " '__new__',\n",
       " '__or__',\n",
       " '__pos__',\n",
       " '__pow__',\n",
       " '__radd__',\n",
       " '__rand__',\n",
       " '__rdivmod__',\n",
       " '__reduce__',\n",
       " '__reduce_ex__',\n",
       " '__repr__',\n",
       " '__rfloordiv__',\n",
       " '__rlshift__',\n",
       " '__rmod__',\n",
       " '__rmul__',\n",
       " '__ror__',\n",
       " '__round__',\n",
       " '__rpow__',\n",
       " '__rrshift__',\n",
       " '__rshift__',\n",
       " '__rsub__',\n",
       " '__rtruediv__',\n",
       " '__rxor__',\n",
       " '__setattr__',\n",
       " '__sizeof__',\n",
       " '__str__',\n",
       " '__sub__',\n",
       " '__subclasshook__',\n",
       " '__truediv__',\n",
       " '__trunc__',\n",
       " '__xor__',\n",
       " 'as_integer_ratio',\n",
       " 'bit_count',\n",
       " 'bit_length',\n",
       " 'conjugate',\n",
       " 'denominator',\n",
       " 'from_bytes',\n",
       " 'imag',\n",
       " 'is_integer',\n",
       " 'numerator',\n",
       " 'real',\n",
       " 'to_bytes']"
      ]
     },
     "execution_count": 119,
     "metadata": {},
     "output_type": "execute_result"
    }
   ],
   "source": [
    "dir(5)"
   ]
  },
  {
   "cell_type": "code",
   "execution_count": 122,
   "id": "e2a3880e",
   "metadata": {},
   "outputs": [
    {
     "data": {
      "text/plain": [
       "'ДМИТРИЙ ИВАНОВИЧ МЕНДЕЛЕЕВ'"
      ]
     },
     "execution_count": 122,
     "metadata": {},
     "output_type": "execute_result"
    }
   ],
   "source": [
    "m1**2"
   ]
  },
  {
   "cell_type": "code",
   "execution_count": 125,
   "id": "2e296b36",
   "metadata": {},
   "outputs": [
    {
     "name": "stdout",
     "output_type": "stream",
     "text": [
      "Help on method-wrapper:\n",
      "\n",
      "__pow__(value, mod=None, /) unbound builtins.int method\n",
      "    Return pow(self, value, mod).\n",
      "\n"
     ]
    }
   ],
   "source": [
    "help((5).__pow__)"
   ]
  },
  {
   "cell_type": "code",
   "execution_count": 126,
   "id": "a05cd896",
   "metadata": {},
   "outputs": [
    {
     "data": {
      "text/plain": [
       "'S'"
      ]
     },
     "execution_count": 126,
     "metadata": {},
     "output_type": "execute_result"
    }
   ],
   "source": [
    "\"s\".upper()"
   ]
  },
  {
   "cell_type": "code",
   "execution_count": 132,
   "id": "571897d4",
   "metadata": {},
   "outputs": [
    {
     "name": "stdout",
     "output_type": "stream",
     "text": [
      "11\n"
     ]
    }
   ],
   "source": [
    "exec(\"\"\"\n",
    "x = 5\n",
    "p = 6\n",
    "print(p + x)\n",
    "\"\"\")"
   ]
  },
  {
   "cell_type": "code",
   "execution_count": 135,
   "id": "f92e7376",
   "metadata": {},
   "outputs": [
    {
     "data": {
      "text/plain": [
       "False"
      ]
     },
     "execution_count": 135,
     "metadata": {},
     "output_type": "execute_result"
    }
   ],
   "source": [
    "m1 == m2"
   ]
  },
  {
   "cell_type": "code",
   "execution_count": 140,
   "id": "ad5b0fbb",
   "metadata": {},
   "outputs": [
    {
     "data": {
      "text/plain": [
       "True"
      ]
     },
     "execution_count": 140,
     "metadata": {},
     "output_type": "execute_result"
    }
   ],
   "source": [
    "m2 == m3"
   ]
  },
  {
   "cell_type": "markdown",
   "id": "e83035be",
   "metadata": {},
   "source": [
    "# ДЗ"
   ]
  },
  {
   "cell_type": "markdown",
   "id": "6c04be93",
   "metadata": {},
   "source": []
  },
  {
   "cell_type": "code",
   "execution_count": 2,
   "id": "67fe290b",
   "metadata": {},
   "outputs": [
    {
     "ename": "SyntaxError",
     "evalue": "invalid syntax (3051016480.py, line 1)",
     "output_type": "error",
     "traceback": [
      "\u001b[0;36m  Cell \u001b[0;32mIn[2], line 1\u001b[0;36m\u001b[0m\n\u001b[0;31m    Реализуйте быструю сортировку. Можно использовать рекурсию\u001b[0m\n\u001b[0m               ^\u001b[0m\n\u001b[0;31mSyntaxError\u001b[0m\u001b[0;31m:\u001b[0m invalid syntax\n"
     ]
    }
   ],
   "source": [
    "# https://habr.com/ru/articles/186608/\n",
    "# dz240918\n",
    "# sort.py\n",
    "# Реализуйте быструю сортировку. Можно использовать рекурсию\n",
    "# не забудьте проверить, что корректно сортирует список чисел и прокомментировать.\n",
    "\n",
    "def quick_sort[T](a: list[T]) -> list[T]:\n",
    "    ...\n",
    "\n",
    "    \n",
    "# corob.py\n",
    "# создайте класс Corob, который описывает коробки длинны x см и ширины y см, если\n",
    "# измерять снаружи\n",
    "# высота у всех коробок одинаковая, поэтому ее запоминать не будем\n",
    "# одна коробка считается меньше другой если может в нее поместиться\n",
    "# края считаем жесткими шириной 0.01 см\n",
    "# не забываем, что коробки можно вертеть, чтобы одна в другую поместилась\n",
    "# реализуйте методы нужные для сравнения см статью выше двух коробок\n",
    "# реализуйте метод __str__ и __repr__\n",
    "# коробка при печати должна выглядить как \"[20, 10.10]\"\n",
    "\n",
    "# main.py\n",
    "# запустите \n",
    "from sort import quick_sort\n",
    "from corob import Corob\n",
    "\n",
    "if __name__ == \"__main__\":\n",
    "    a: list[Corob] = [\n",
    "        Corob(20, 20),\n",
    "        Corob(10, 10),\n",
    "        Corob(25, 50),\n",
    "        Corob(5, 2),\n",
    "        Corob(26, 51),\n",
    "        Corob(7, 8),\n",
    "        Corob(3,6),\n",
    "        Corob(45, 20),\n",
    "        Corob(44.98, 19,98),\n",
    "    ]\n",
    "    print(quick_sort(a))\n",
    "    \n",
    "# Если все сделали правильно должно отработать без ошибок\n",
    "\n",
    "\n",
    "# 643.py\n",
    "# https://leetcode.com/problems/maximum-average-subarray-i/description/?envType=problem-list-v2&envId=array&difficulty=EASY\n",
    "\n",
    "# 674.py\n",
    "# https://leetcode.com/problems/longest-continuous-increasing-subsequence/description/?envType=problem-list-v2&envId=array&difficulty=EASY\n",
    "\n",
    "# 697.py\n",
    "# https://leetcode.com/problems/degree-of-an-array/description/?envType=problem-list-v2&envId=array&difficulty=EASY"
   ]
  },
  {
   "cell_type": "code",
   "execution_count": null,
   "id": "a2860816",
   "metadata": {},
   "outputs": [],
   "source": []
  }
 ],
 "metadata": {
  "kernelspec": {
   "display_name": "Python 3",
   "language": "python",
   "name": "python3"
  },
  "language_info": {
   "codemirror_mode": {
    "name": "ipython",
    "version": 3
   },
   "file_extension": ".py",
   "mimetype": "text/x-python",
   "name": "python",
   "nbconvert_exporter": "python",
   "pygments_lexer": "ipython3",
   "version": "3.12.3"
  }
 },
 "nbformat": 4,
 "nbformat_minor": 5
}
