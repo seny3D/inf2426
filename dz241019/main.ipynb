{
 "cells": [
  {
   "cell_type": "markdown",
   "id": "1bdbea83-8d44-4516-a88c-02910578a570",
   "metadata": {},
   "source": [
    "Задача 1"
   ]
  },
  {
   "cell_type": "code",
   "execution_count": 139,
   "id": "5690cec4-8036-40c7-8f06-aadcb0e1d0a2",
   "metadata": {},
   "outputs": [
    {
     "data": {
      "image/png": "[encoded data removed]",
      "text/plain": [
       "<Figure size 640x480 with 1 Axes>"
      ]
     },
     "metadata": {},
     "output_type": "display_data"
    }
   ],
   "source": [
    "import math\n",
    "import matplotlib.pyplot as plot\n",
    "from typing import Any\n",
    "\n",
    "\n",
    "def bernoulli(p: float, n: int, m: int) -> float:\n",
    "    return math.comb(n, m) * (p ** m) * ((1 - p) ** (n - m))\n",
    "\n",
    "\n",
    "def puasson(p: float, n: int, m: int) -> float:\n",
    "    if m != 0:\n",
    "        return (1 / math.sqrt(2 * math.pi * m)) * ((n * p) / m) ** m * (math.e ** (m - n * p))\n",
    "    return ((n * p) ** m) * (math.e ** (-n * p))\n",
    "\n",
    "\n",
    "p: float = 0.01\n",
    "n: int = 50\n",
    "m: list[int] = list(range(0, n + 1))\n",
    "\n",
    "brn: Any = list(map(lambda mv: bernoulli(p, n, mv), m))\n",
    "pous: Any = list(map(lambda mv: puasson(p, n, mv), m))\n",
    "\n",
    "plot.plot(m, brn, '.')\n",
    "plot.plot(m, pous, '.')\n",
    "plot.xlim(-10, n + 10)\n",
    "plot.ylim(-0.1, 1)\n",
    "plot.grid()\n",
    "plot.show()\n"
   ]
  },
  {
   "cell_type": "markdown",
   "id": "24ee97e4-f4fe-4ae2-9e13-507cc7830c71",
   "metadata": {},
   "source": [
    "Задача 3"
   ]
  },
  {
   "cell_type": "code",
   "execution_count": 140,
   "id": "14a76681-bdeb-4364-aabf-ef44fe24856e",
   "metadata": {},
   "outputs": [
    {
     "name": "stdout",
     "output_type": "stream",
     "text": [
      "Ответ а 0.24609375\n",
      "Ответ б 0.93457031\n"
     ]
    }
   ],
   "source": [
    "import math\n",
    "\n",
    "\n",
    "def bernoulli(p: float, n: int, m: int) -> float:\n",
    "    return math.comb(n, m) * (p ** m) * ((1 - p) ** (n - m))\n",
    "\n",
    "\n",
    "p: float = 0.5\n",
    "n: int = 10\n",
    "\n",
    "# a)\n",
    "m: int = 5  # 5 мальчиков\n",
    "# считаем по бернулли\n",
    "print('Ответ а', bernoulli(p, n, m))  # без round(), округление не требуется\n",
    "\n",
    "# б) \n",
    "b: float = 0\n",
    "\n",
    "for x in range(3, 9):  # от 3 до 8(включая 8) мальчиков\n",
    "    b += bernoulli(p, n, x)\n",
    "print('Ответ б', round(b, 8))\n"
   ]
  },
  {
   "cell_type": "markdown",
   "id": "1deeb072-5f8b-40a8-9017-dd1af47abf7e",
   "metadata": {},
   "source": [
    "Задача 4"
   ]
  },
  {
   "cell_type": "code",
   "execution_count": 141,
   "id": "46c3fa83-17ce-4f63-883a-90cfd6a3774e",
   "metadata": {},
   "outputs": [
    {
     "name": "stdout",
     "output_type": "stream",
     "text": [
      "Ответ а: 0.0075757576\n",
      "Ответ б: 0.0021219136\n"
     ]
    }
   ],
   "source": [
    "import math\n",
    "\n",
    "\n",
    "def bernoulli(p: float, n: int, m: int) -> float:\n",
    "    return math.comb(n, m) * (p ** m) * ((1 - p) ** (n - m))\n",
    "\n",
    "\n",
    "p: float = 1 / 12\n",
    "n: int = 4\n",
    "\n",
    "# a) \n",
    "\n",
    "# 3 человека родится в январе, вероятность 1/12 * 1/12 * 1/12, но по условию они втроем родились в январе и поэтому \n",
    "# вероятность 1/12. 1 человек родится в октябре, и точно не в январе вероятность 1/11 найдем вероятность 1/12 * 1/11\n",
    "print('Ответ а:', round(1 / 12 * 1 / 11, 10))\n",
    "\n",
    "# б) \n",
    "# 3 человека рождаются в одном месяце, один в каком-то другом\n",
    "# 3 человека в одном месяце равны переменной m, m = 3\n",
    "# считаем вероятность по Бернулли\n",
    "print('Ответ б:', round(bernoulli(1 / 12, n, 3), 10))\n"
   ]
  },
  {
   "cell_type": "markdown",
   "id": "3ce55b64-0026-4650-9242-3925981a84b3",
   "metadata": {},
   "source": [
    "Задача 5"
   ]
  },
  {
   "cell_type": "code",
   "execution_count": 158,
   "id": "a83b426d-5ecd-4f3b-a63f-572b5f564eb0",
   "metadata": {},
   "outputs": [
    {
     "name": "stdout",
     "output_type": "stream",
     "text": [
      "Ответ а: 0.1353352832\n",
      "Ответ б: 0.8964666049\n",
      "Ответ в: 4\n"
     ]
    }
   ],
   "source": [
    "import math\n",
    "\n",
    "\n",
    "def puasson(p: float, n: int, m: int) -> float:\n",
    "    if m != 0:\n",
    "        return (1 / math.sqrt(2 * math.pi * m)) * ((n * p) / m) ** m * (math.e ** (m - n * p))\n",
    "    return ((n * p) ** m) * (math.e ** (-n * p))\n",
    "\n",
    "\n",
    "p: float = 0.02\n",
    "n: int = 100\n",
    "\n",
    "# a) \n",
    "m: int = 0  # нет брака\n",
    "print('Ответ а:', round(puasson(0.02, 100, m), 10))\n",
    "\n",
    "# б)\n",
    "vera: float = round(puasson(0.02, 100, m), 10)\n",
    "x: int = 1\n",
    "while x != 4:  # от 1 до 3 сверл(включительно)\n",
    "    vera += puasson(p, n, x)\n",
    "    x += 1\n",
    "print('Ответ б:', round(vera, 10))\n",
    "\n",
    "# в)\n",
    "vera: float = round(puasson(0.02, 100, m), 10)\n",
    "sverla: int = 0\n",
    "while vera < 0.9:\n",
    "    sverla += 1\n",
    "    vera += puasson(p, n + sverla, sverla)\n",
    "print('Ответ в:', sverla)\n"
   ]
  }
 ],
 "metadata": {
  "kernelspec": {
   "display_name": "Python 3 (ipykernel)",
   "language": "python",
   "name": "python3"
  },
  "language_info": {
   "codemirror_mode": {
    "name": "ipython",
    "version": 3
   },
   "file_extension": ".py",
   "mimetype": "text/x-python",
   "name": "python",
   "nbconvert_exporter": "python",
   "pygments_lexer": "ipython3",
   "version": "3.12.6"
  }
 },
 "nbformat": 4,
 "nbformat_minor": 5
}
