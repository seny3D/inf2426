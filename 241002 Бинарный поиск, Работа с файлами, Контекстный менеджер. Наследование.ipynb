{
 "cells": [
  {
   "cell_type": "code",
   "execution_count": 10,
   "id": "518605b5",
   "metadata": {},
   "outputs": [],
   "source": [
    "a = [-10, -4, 0, 1, 5, 8, 1000]\n",
    "\n",
    "def bin_search(a: list[int], p: int) -> int:\n",
    "    i_min: int = 0\n",
    "    i_max: int = len(a)\n",
    "    \n",
    "    while i_min < i_max:\n",
    "    \n",
    "        m: int = (i_max + i_min) // 2 \n",
    "        if p == a[m]:\n",
    "            return m\n",
    "\n",
    "        if p > a[m]:\n",
    "            i_min = m + 1\n",
    "        else:\n",
    "            i_max = m\n",
    "    \n",
    "#     if i_min >= len(a):\n",
    "#         return len(a)\n",
    "    \n",
    "#     if i_max == 0:\n",
    "#         return 0\n",
    "    return i_max\n",
    "\n",
    "def bin_real_search(a: list[float], p: float, d: float) -> int:\n",
    "    i_min: int = 0\n",
    "    i_max: int = len(a)\n",
    "    \n",
    "    def equal(el1, el2):\n",
    "        return abs(el1 - el2) < d\n",
    "    \n",
    "    while i_min < i_max:\n",
    "    \n",
    "        m: int = (i_max + i_min) // 2 \n",
    "        if equal(p, a[m]):\n",
    "            return m\n",
    "\n",
    "        if p > a[m]:\n",
    "            i_min = m + 1\n",
    "        else:\n",
    "            i_max = m\n",
    "    \n",
    "#     if i_min >= len(a):\n",
    "#         return len(a)\n",
    "    \n",
    "#     if i_max == 0:\n",
    "#         return 0\n",
    "    return i_max\n",
    "    "
   ]
  },
  {
   "cell_type": "code",
   "execution_count": 9,
   "id": "f40be80d",
   "metadata": {},
   "outputs": [
    {
     "data": {
      "text/plain": [
       "(4, 3, 7, 0, 0)"
      ]
     },
     "execution_count": 9,
     "metadata": {},
     "output_type": "execute_result"
    }
   ],
   "source": [
    "bin_search(a, 4), bin_search(a, 1), bin_search(a, 10001), bin_search(a, -11), \\\n",
    "                                                                bin_search(a, -10)"
   ]
  },
  {
   "cell_type": "code",
   "execution_count": 13,
   "id": "85908c53",
   "metadata": {},
   "outputs": [
    {
     "data": {
      "text/plain": [
       "(4, 4, 7, 0, 0)"
      ]
     },
     "execution_count": 13,
     "metadata": {},
     "output_type": "execute_result"
    }
   ],
   "source": [
    "bin_real_search(a, 4, 0.1), bin_real_search(a, 1.1, 0.1), \\\n",
    "    bin_real_search(a, 10001, 0.1), bin_real_search(a, -11, 0.1), \\\n",
    "    bin_real_search(a, -10, 0.1)"
   ]
  },
  {
   "cell_type": "code",
   "execution_count": 3,
   "id": "440654c9",
   "metadata": {},
   "outputs": [
    {
     "data": {
      "text/plain": [
       "(3, 3)"
      ]
     },
     "execution_count": 3,
     "metadata": {},
     "output_type": "execute_result"
    }
   ],
   "source": [
    "(7 + 0) // 2, int((7 + 0) / 2)"
   ]
  },
  {
   "cell_type": "code",
   "execution_count": null,
   "id": "431466e7",
   "metadata": {},
   "outputs": [],
   "source": [
    "(n + n + 1)// 2 = n"
   ]
  },
  {
   "cell_type": "markdown",
   "id": "ab1e695a",
   "metadata": {},
   "source": [
    "# Работа с файлами"
   ]
  },
  {
   "cell_type": "markdown",
   "id": "bbe7ba9d",
   "metadata": {},
   "source": [
    "https://habr.com/ru/articles/739326/"
   ]
  },
  {
   "cell_type": "code",
   "execution_count": null,
   "id": "057bf1d5",
   "metadata": {},
   "outputs": [],
   "source": [
    "file = open(\"file.txt\", \"r\")\n",
    "try:\n",
    "    # Действия с файлом\n",
    "    content = file.read()\n",
    "    print(content)\n",
    "finally:\n",
    "    file.close()"
   ]
  },
  {
   "cell_type": "code",
   "execution_count": null,
   "id": "934b07e3",
   "metadata": {},
   "outputs": [],
   "source": [
    "with open(\"file.txt\", \"r\") as file:\n",
    "    content = file.read()\n",
    "    print(content)"
   ]
  },
  {
   "cell_type": "code",
   "execution_count": 16,
   "id": "6428862b",
   "metadata": {},
   "outputs": [
    {
     "data": {
      "text/plain": [
       "float"
      ]
     },
     "execution_count": 16,
     "metadata": {},
     "output_type": "execute_result"
    }
   ],
   "source": [
    "import time\n",
    "\n",
    "type(time.time())"
   ]
  },
  {
   "cell_type": "code",
   "execution_count": 20,
   "id": "a8823182",
   "metadata": {},
   "outputs": [
    {
     "name": "stdout",
     "output_type": "stream",
     "text": [
      "init\n",
      "enter\n",
      "Начал работать\n",
      "enter\n",
      "Закончить работать\n",
      "Elapsed time: 4.673004150390625e-05 seconds\n"
     ]
    }
   ],
   "source": [
    "import time\n",
    "\n",
    "class Timer:\n",
    "    def __init__(self):\n",
    "        print(\"init\")\n",
    "        self.start_time: float|None = None\n",
    "\n",
    "    def __enter__(self):\n",
    "        print(\"enter\")\n",
    "        self.start_time = time.time()\n",
    "        return self\n",
    "    \n",
    "    def __exit__(self, exc_type, exc_val, exc_tb):\n",
    "        elapsed_time = time.time() - self.start_time\n",
    "        print(f\"Elapsed time: {elapsed_time} seconds\")\n",
    "\n",
    "# Пример использования контекстного менеджера\n",
    "with Timer() as timer:\n",
    "    # Ваш блок кода\n",
    "    print(\"Начал работать\")\n",
    "    time.sleep(2)\n",
    "    timer.__enter__()\n",
    "    print(\"Закончить работать\")\n",
    "a = 2"
   ]
  },
  {
   "cell_type": "markdown",
   "id": "609c2903",
   "metadata": {},
   "source": [
    "https://pythonru.com/osnovy/fajly-v-python-vvod-vyvod"
   ]
  },
  {
   "cell_type": "code",
   "execution_count": 30,
   "id": "f35ae486",
   "metadata": {},
   "outputs": [],
   "source": [
    "with open(\"lec20241002/file.csv\", \"w\", encoding=\"utf-8\") as file:\n",
    "    file.write(\"index, index2, index3\\n\")\n",
    "    for i in range(10):\n",
    "        file.write(f\"{i}, {i**2}, {i**3}\\n\")"
   ]
  },
  {
   "cell_type": "code",
   "execution_count": 31,
   "id": "daa4c7cd",
   "metadata": {},
   "outputs": [
    {
     "name": "stdout",
     "output_type": "stream",
     "text": [
      "index, index2, index3\r\n",
      "0, 0, 0\r\n",
      "1, 1, 1\r\n",
      "2, 4, 8\r\n",
      "3, 9, 27\r\n",
      "4, 16, 64\r\n",
      "5, 25, 125\r\n",
      "6, 36, 216\r\n",
      "7, 49, 343\r\n",
      "8, 64, 512\r\n",
      "9, 81, 729\r\n"
     ]
    }
   ],
   "source": [
    "!cat lec20241002/file.csv"
   ]
  },
  {
   "cell_type": "code",
   "execution_count": 35,
   "id": "2f2a4447",
   "metadata": {},
   "outputs": [],
   "source": [
    "# pip install pandas"
   ]
  },
  {
   "cell_type": "code",
   "execution_count": 36,
   "id": "32b6d5aa",
   "metadata": {},
   "outputs": [],
   "source": [
    "import pandas as pd"
   ]
  },
  {
   "cell_type": "code",
   "execution_count": 37,
   "id": "2b00782a",
   "metadata": {},
   "outputs": [],
   "source": [
    "data = pd.read_csv(\"lec20241002/file.csv\")"
   ]
  },
  {
   "cell_type": "code",
   "execution_count": 39,
   "id": "3e8bb4f6",
   "metadata": {},
   "outputs": [
    {
     "data": {
      "text/plain": [
       "index      int64\n",
       " index2    int64\n",
       " index3    int64\n",
       "dtype: object"
      ]
     },
     "execution_count": 39,
     "metadata": {},
     "output_type": "execute_result"
    }
   ],
   "source": [
    "data.dtypes"
   ]
  },
  {
   "cell_type": "code",
   "execution_count": 42,
   "id": "1b09cdd1",
   "metadata": {},
   "outputs": [
    {
     "data": {
      "text/plain": [
       "0     0\n",
       "1     1\n",
       "2     4\n",
       "3     9\n",
       "4    16\n",
       "5    25\n",
       "6    36\n",
       "7    49\n",
       "8    64\n",
       "9    81\n",
       "Name: index, dtype: int64"
      ]
     },
     "execution_count": 42,
     "metadata": {},
     "output_type": "execute_result"
    }
   ],
   "source": [
    "data[\"index\"]**2"
   ]
  },
  {
   "cell_type": "code",
   "execution_count": 43,
   "id": "d2ce373c",
   "metadata": {},
   "outputs": [
    {
     "data": {
      "text/plain": [
       "<AxesSubplot: >"
      ]
     },
     "execution_count": 43,
     "metadata": {},
     "output_type": "execute_result"
    },
    {
     "data": {
      "image/png": "[encoded data removed]",
      "text/plain": [
       "<Figure size 640x480 with 1 Axes>"
      ]
     },
     "metadata": {},
     "output_type": "display_data"
    }
   ],
   "source": [
    "data.plot()"
   ]
  },
  {
   "cell_type": "code",
   "execution_count": 46,
   "id": "f3455865",
   "metadata": {},
   "outputs": [
    {
     "name": "stdout",
     "output_type": "stream",
     "text": [
      "index, index2, index3\n",
      "0, 0, 0\n",
      "1, 1, 1\n",
      "2, 4, 8\n",
      "3, 9, 27\n",
      "4, 16, 64\n",
      "5, 25, 125\n",
      "6, 36, 216\n",
      "7, 49, 343\n",
      "8, 64, 512\n",
      "9, 81, 729\n"
     ]
    }
   ],
   "source": [
    "with open(\"lec20241002/file.csv\", \"r\", encoding=\"utf-8\") as file:\n",
    "    for line in file.readlines():\n",
    "        print(line, end=\"\")"
   ]
  },
  {
   "cell_type": "code",
   "execution_count": 47,
   "id": "24ac0c2e",
   "metadata": {},
   "outputs": [
    {
     "name": "stdout",
     "output_type": "stream",
     "text": [
      "index, index2, index3\n",
      "0, 0, 0\n",
      "1, 1, 1\n",
      "2, 4, 8\n",
      "3, 9, 27\n",
      "4, 16, 64\n",
      "5, 25, 125\n",
      "6, 36, 216\n",
      "7, 49, 343\n",
      "8, 64, 512\n",
      "9, 81, 729\n"
     ]
    }
   ],
   "source": [
    "with open(\"lec20241002/file.csv\", \"r\", encoding=\"utf-8\") as file:\n",
    "    for line in file.readlines():\n",
    "        print(line.strip())"
   ]
  },
  {
   "cell_type": "code",
   "execution_count": 56,
   "id": "870b819a",
   "metadata": {},
   "outputs": [
    {
     "data": {
      "text/plain": [
       "(['index, index2, index3\\n', '0, 0, 0\\n'], ['1, 1, 1\\n', '2, 4, 8\\n'])"
      ]
     },
     "execution_count": 56,
     "metadata": {},
     "output_type": "execute_result"
    }
   ],
   "source": [
    "with open(\"lec20241002/file.csv\", \"r\", encoding=\"utf-8\") as file:\n",
    "    lines = []\n",
    "    lines1 = []\n",
    "    for i in range(2):\n",
    "        lines.append(file.readline())\n",
    "    for j in range(2):\n",
    "        lines1.append(file.readline())\n",
    "lines, lines1"
   ]
  },
  {
   "cell_type": "code",
   "execution_count": 57,
   "id": "860d14ae",
   "metadata": {},
   "outputs": [
    {
     "data": {
      "text/plain": [
       "['index, index2, index3\\n', '0, 0, 0\\n']"
      ]
     },
     "execution_count": 57,
     "metadata": {},
     "output_type": "execute_result"
    }
   ],
   "source": [
    "with open(\"lec20241002/file.csv\", \"r\", encoding=\"utf-8\") as file:\n",
    "    lines = []\n",
    "    for i in range(2):\n",
    "        lines.append(file.readline())\n",
    "lines"
   ]
  },
  {
   "cell_type": "code",
   "execution_count": 58,
   "id": "4a5d4eaa",
   "metadata": {},
   "outputs": [
    {
     "data": {
      "text/plain": [
       "['index, index2, index3\\n',\n",
       " '0, 0, 0\\n',\n",
       " '1, 1, 1\\n',\n",
       " '2, 4, 8\\n',\n",
       " '3, 9, 27\\n',\n",
       " '4, 16, 64\\n',\n",
       " '5, 25, 125\\n',\n",
       " '6, 36, 216\\n',\n",
       " '7, 49, 343\\n',\n",
       " '8, 64, 512\\n',\n",
       " '9, 81, 729\\n']"
      ]
     },
     "execution_count": 58,
     "metadata": {},
     "output_type": "execute_result"
    }
   ],
   "source": [
    "with open(\"lec20241002/file.csv\", \"r\", encoding=\"utf-8\") as file:\n",
    "    lines = list(file.readlines())\n",
    "lines"
   ]
  },
  {
   "cell_type": "code",
   "execution_count": 60,
   "id": "75d71339",
   "metadata": {},
   "outputs": [],
   "source": [
    "with open(\"lec20241002/file.csv\", \"r\", encoding=\"utf-8\") as file:\n",
    "    lines = list(map(lambda el: el.strip().split(\",\"), file.readlines()))"
   ]
  },
  {
   "cell_type": "code",
   "execution_count": 61,
   "id": "a177096a",
   "metadata": {},
   "outputs": [
    {
     "data": {
      "text/plain": [
       "[['index', ' index2', ' index3'],\n",
       " ['0', ' 0', ' 0'],\n",
       " ['1', ' 1', ' 1'],\n",
       " ['2', ' 4', ' 8'],\n",
       " ['3', ' 9', ' 27'],\n",
       " ['4', ' 16', ' 64'],\n",
       " ['5', ' 25', ' 125'],\n",
       " ['6', ' 36', ' 216'],\n",
       " ['7', ' 49', ' 343'],\n",
       " ['8', ' 64', ' 512'],\n",
       " ['9', ' 81', ' 729']]"
      ]
     },
     "execution_count": 61,
     "metadata": {},
     "output_type": "execute_result"
    }
   ],
   "source": [
    "lines"
   ]
  },
  {
   "cell_type": "code",
   "execution_count": 62,
   "id": "7b71ebcf",
   "metadata": {},
   "outputs": [
    {
     "data": {
      "text/plain": [
       "9"
      ]
     },
     "execution_count": 62,
     "metadata": {},
     "output_type": "execute_result"
    }
   ],
   "source": [
    "class T:\n",
    "    def __init__(self, x: int, y: int) -> None:\n",
    "        self.x: int = x\n",
    "        self.y: int = y\n",
    "        \n",
    "    def plus(self) -> int:\n",
    "        return self.x + self.y\n",
    "    \n",
    "t = T(5,4)\n",
    "t.plus()"
   ]
  },
  {
   "cell_type": "code",
   "execution_count": 65,
   "id": "034e09a1",
   "metadata": {},
   "outputs": [
    {
     "data": {
      "text/plain": [
       "(5, -1)"
      ]
     },
     "execution_count": 65,
     "metadata": {},
     "output_type": "execute_result"
    }
   ],
   "source": [
    "class P(T):\n",
    "    def minus(self):\n",
    "        return self.x - self.y\n",
    "    \n",
    "p = P(2,3)\n",
    "p.plus(), p.minus()"
   ]
  },
  {
   "cell_type": "code",
   "execution_count": 69,
   "id": "fe1d9327",
   "metadata": {},
   "outputs": [
    {
     "data": {
      "text/plain": [
       "(True, True, False, True)"
      ]
     },
     "execution_count": 69,
     "metadata": {},
     "output_type": "execute_result"
    }
   ],
   "source": [
    "isinstance(t, T), isinstance(p, P), isinstance(t, P), isinstance(p, T)"
   ]
  },
  {
   "cell_type": "markdown",
   "id": "ce4b2e7f",
   "metadata": {},
   "source": [
    "# ДЗ\n",
    "## dz241002\n",
    "\n",
    "задачи на литкоде решать с помощью бинарного поиска. бин поиск писать самостоятельно.\n",
    "\n",
    "### 35.py\n",
    "https://leetcode.com/problems/search-insert-position/description/?envType=problem-list-v2&envId=array&favoriteSlug=&difficulty=EASY\n",
    "\n",
    "### 268.py\n",
    "https://leetcode.com/problems/missing-number/description/?envType=problem-list-v2&envId=array&favoriteSlug=&difficulty=EASY\n",
    "\n",
    "### 34.py\n",
    "https://leetcode.com/problems/find-first-and-last-position-of-element-in-sorted-array/description/?envType=problem-list-v2&envId=array&favoriteSlug=&difficulty=MEDIUM\n",
    "\n",
    "### 33.py\n",
    "https://leetcode.com/problems/search-in-rotated-sorted-array/description/?envType=problem-list-v2&envId=array&favoriteSlug=&difficulty=MEDIUM\n",
    "\n",
    "\n",
    "в задачах на вероятность по-прежнему не забывать описывать все три компонента вероятносного пространства\n",
    "\n",
    "### ver1.py\n",
    "В эксперименте используются карточки белого и зеленого цветов, на\n",
    "которых изображены геометрические фигуры: квадрат или треугольник. Вероятность\n",
    "того, что на зеленой карточке изображен треугольник, равна 0,85. Для белой карточки эта\n",
    "вероятность равна 0,9. Найти вероятность того, что наудачу взятая карточка будет\n",
    "содержать треугольник, если в эксперименте используется одинаковое количество\n",
    "карточек зеленого и белого цветов.\n",
    "\n",
    "### ver2.py\n",
    "Прибор, установленный на борту самолета, может работать в двух\n",
    "режимах: в условиях нормального крейсеровского полѐта и в условиях перегрузки при\n",
    "взлете и посадке. Крейсерский режим полета составляет 80% всего времени полѐта,\n",
    "условия перегрузки – 20%. Вероятность выхода прибора из строя за время полета в\n",
    "нормальном режиме равна 0,1, в условиях перегрузки – 0,4. Найти вероятность того, что\n",
    "прибор не откажет в течение всего полѐта.\n",
    "\n",
    "### ver3.py\n",
    "Среди определенной группы людей вероятность некоторой болезни 0,02.\n",
    "Тест, позволяющий выявить болезнь, несовершенен. На больном он дает позитивный\n",
    "результат в 98 случаях из 100, и, кроме того, он дает позитивный результат в 4 случаях из\n",
    "100 на здоровом. Найдите вероятность того, что человек, на котором тест дал\n",
    "положительный результат, действительно болен.\n",
    "(тест дал положительный (позитивный) результат на болезнь это значит, что тест показывает наличие полезни, а не отсутствие).\n",
    "\n",
    "### main.py\n",
    "напишите контекстный менеджер класс FileContextManager, который, если нет файла file.log открывает его на запись, тем самым еще и создавая его, а если есть открывает на добавление (использовать file=open(..)). После чего записывает слово open и дату и время открытия. При выходе из контекстного менеджера он записывает в файл слово  close и текущее дату и время и закрывает его (file.close()). Проверить наличие файла можно с помощью модуля os (os.path.exists). Как записать дату и время и как их получить поищите самостоятельно. Доработайте класс FileContextManager добавив ему необязательный параметр type_open, если он не передан, то класс работает как описано выше, а, если передан параметр type_open равный \"r\", то FileContextManager открывает файл на чтение, и ничего в него не записывает. Файл должен сохраняться в кодировке utf-8.\n",
    "\n",
    "```python\n",
    "import os\n",
    "import time\n",
    "\n",
    "\n",
    "class FileContextManager:\n",
    "    ...\n",
    "    \n",
    "\n",
    "if __name__ == \"__main__\":\n",
    "    with FileContextManager() as f:\n",
    "        f.write(\"запись 1\\n\")\n",
    "        time.sleep(2)\n",
    "        \n",
    "    time.sleep(10)\n",
    "    \n",
    "    with FileContextManager() as f:\n",
    "        f.write(\"запись 2\\n\")\n",
    "        time.sleep(10)\n",
    "        \n",
    "    teme.sleep(2)\n",
    "    \n",
    "    with FileContextManager() as f:\n",
    "        f.write(\"запись 3\\n\")\n",
    "        time.sleep(15)\n",
    "        \n",
    "    with FileContextManager(\"r\") as f:\n",
    "        for line in f.readlines():\n",
    "            print(line.strip())\n",
    "```"
   ]
  },
  {
   "cell_type": "code",
   "execution_count": null,
   "id": "3f827164",
   "metadata": {},
   "outputs": [],
   "source": []
  }
 ],
 "metadata": {
  "kernelspec": {
   "display_name": "Python 3 (ipykernel)",
   "language": "python",
   "name": "python3"
  },
  "language_info": {
   "codemirror_mode": {
    "name": "ipython",
    "version": 3
   },
   "file_extension": ".py",
   "mimetype": "text/x-python",
   "name": "python",
   "nbconvert_exporter": "python",
   "pygments_lexer": "ipython3",
   "version": "3.12.5"
  }
 },
 "nbformat": 4,
 "nbformat_minor": 5
}
