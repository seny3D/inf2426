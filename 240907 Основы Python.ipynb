{
 "cells": [
  {
   "cell_type": "markdown",
   "id": "1b8f0ddb",
   "metadata": {},
   "source": [
    "# Работа с git"
   ]
  },
  {
   "cell_type": "markdown",
   "id": "841cae56",
   "metadata": {},
   "source": [
    "https://habr.com/ru/articles/541258/\n",
    "\n",
    "https://git-scm.com/book/ru/v2/Введение-О-системе-контроля-версий\n",
    "\n",
    "https://learngitbranching.js.org/?locale=ru_RU\n",
    "\n",
    "\n",
    "Настройка git\n",
    "```shell\n",
    "git config --global user.name \"<ваше_имя>\"\n",
    "git config --global user.email \"<адрес_почты@email.com>\"\n",
    "```\n",
    "\n",
    "Для создание репозитория, надо зайти в папку проекта и выполнить\n",
    "```shell\n",
    "git init\n",
    "```\n",
    "Скачивание (клонирование) существующего репозитория\n",
    "```shell\n",
    "git clone <url>\n",
    "```\n",
    "\n",
    "Выкачать последние изменения "
   ]
  },
  {
   "cell_type": "code",
   "execution_count": null,
   "id": "2100af38",
   "metadata": {},
   "outputs": [],
   "source": []
  },
  {
   "cell_type": "code",
   "execution_count": null,
   "id": "a8d7d71a",
   "metadata": {},
   "outputs": [],
   "source": [
    "# Эта команда обновит все ссылки на удаленные ветки, но не будет изменять файлы в твоей рабочей директории.\n",
    "git fetch  \n",
    "\n",
    "# обновить свою локальную копию основной ветки (например, main), \n",
    "# чтобы она содержала последние изменения из удаленного репозитория.\n",
    "git pull origin main\n",
    "\n",
    "# переключиться на ветку feature-branch\n",
    "git checkout feature-branch\n",
    "\n",
    "# слить изменения из ветки main в текущую\n",
    "git merge main"
   ]
  },
  {
   "cell_type": "code",
   "execution_count": null,
   "id": "f4b4e72a",
   "metadata": {},
   "outputs": [],
   "source": [
    "git clone - клонировать репозиторий  \n",
    "git pull - выкачать последние изменения из репозитория и слить их с текущей веткой  \n",
    "git commit -m'comment' - зафиксировать изменения  \n",
    "git push - отправить изменения в репозиторий  \n",
    "git status - посмотреть статус файлов "
   ]
  },
  {
   "cell_type": "markdown",
   "id": "1b0584bb",
   "metadata": {},
   "source": [
    "# Основы Python"
   ]
  },
  {
   "cell_type": "code",
   "execution_count": null,
   "id": "b256c0be",
   "metadata": {},
   "outputs": [],
   "source": [
    "# создали ветку\n",
    "git checkout -b login_dz20240907\n",
    "\n",
    "mkdir dz20240907\n",
    "\n",
    "cd dz20240907\n",
    "\n",
    "# создание виртуального окружение\n",
    "python -m venv venv\n",
    "\n",
    "# активация виртуального окружение\n",
    "venv\\Scripts\\activate.bat  # windows\n",
    "source venv/bin/activate  # linux\n",
    "\n",
    "pip install name\n",
    "\n",
    "python main.py"
   ]
  },
  {
   "cell_type": "code",
   "execution_count": 1,
   "id": "28581754",
   "metadata": {},
   "outputs": [
    {
     "data": {
      "text/plain": [
       "1"
      ]
     },
     "execution_count": 1,
     "metadata": {},
     "output_type": "execute_result"
    }
   ],
   "source": [
    "# Числа целые\n",
    "1"
   ]
  },
  {
   "cell_type": "code",
   "execution_count": 2,
   "id": "a0ffcf9a",
   "metadata": {},
   "outputs": [
    {
     "data": {
      "text/plain": [
       "1.0"
      ]
     },
     "execution_count": 2,
     "metadata": {},
     "output_type": "execute_result"
    }
   ],
   "source": [
    "# Вещественные числа\n",
    "1."
   ]
  },
  {
   "cell_type": "code",
   "execution_count": 24,
   "id": "4ed53fb9",
   "metadata": {},
   "outputs": [
    {
     "name": "stdout",
     "output_type": "stream",
     "text": [
      "a\n",
      "s\n",
      "d\n",
      "f\n",
      "a\n",
      "s\n",
      "d\n",
      "f\n"
     ]
    },
    {
     "data": {
      "text/plain": [
       "'a'"
      ]
     },
     "execution_count": 24,
     "metadata": {},
     "output_type": "execute_result"
    }
   ],
   "source": [
    "# Строки\n",
    "s = \"asdfasdf\"\n",
    "for ch in s:\n",
    "    print(ch)\n",
    "    \n",
    "s[0]"
   ]
  },
  {
   "cell_type": "code",
   "execution_count": 26,
   "id": "4629c139",
   "metadata": {},
   "outputs": [
    {
     "ename": "TypeError",
     "evalue": "'str' object does not support item assignment",
     "output_type": "error",
     "traceback": [
      "\u001b[0;31m---------------------------------------------------------------------------\u001b[0m",
      "\u001b[0;31mTypeError\u001b[0m                                 Traceback (most recent call last)",
      "Cell \u001b[0;32mIn[26], line 1\u001b[0m\n\u001b[0;32m----> 1\u001b[0m \u001b[43ms\u001b[49m\u001b[43m[\u001b[49m\u001b[38;5;241;43m0\u001b[39;49m\u001b[43m]\u001b[49m \u001b[38;5;241m=\u001b[39m \u001b[38;5;124m'\u001b[39m\u001b[38;5;124mb\u001b[39m\u001b[38;5;124m'\u001b[39m\n\u001b[1;32m      2\u001b[0m s\n",
      "\u001b[0;31mTypeError\u001b[0m: 'str' object does not support item assignment"
     ]
    }
   ],
   "source": [
    "s[0] = 'b'\n",
    "s"
   ]
  },
  {
   "cell_type": "code",
   "execution_count": 27,
   "id": "b01d9c28",
   "metadata": {},
   "outputs": [
    {
     "data": {
      "text/plain": [
       "'dfa'"
      ]
     },
     "execution_count": 27,
     "metadata": {},
     "output_type": "execute_result"
    }
   ],
   "source": [
    "s[2:5]"
   ]
  },
  {
   "cell_type": "code",
   "execution_count": 28,
   "id": "b519244e",
   "metadata": {},
   "outputs": [
    {
     "data": {
      "text/plain": [
       "'asdfa'"
      ]
     },
     "execution_count": 28,
     "metadata": {},
     "output_type": "execute_result"
    }
   ],
   "source": [
    "s[:5]"
   ]
  },
  {
   "cell_type": "code",
   "execution_count": 29,
   "id": "ea6828bc",
   "metadata": {},
   "outputs": [
    {
     "data": {
      "text/plain": [
       "'sdf'"
      ]
     },
     "execution_count": 29,
     "metadata": {},
     "output_type": "execute_result"
    }
   ],
   "source": [
    "s[-3:]"
   ]
  },
  {
   "cell_type": "code",
   "execution_count": 30,
   "id": "fe7a6ccb",
   "metadata": {},
   "outputs": [
    {
     "data": {
      "text/plain": [
       "'f'"
      ]
     },
     "execution_count": 30,
     "metadata": {},
     "output_type": "execute_result"
    }
   ],
   "source": [
    "s[-1]"
   ]
  },
  {
   "cell_type": "code",
   "execution_count": null,
   "id": "f7e024db",
   "metadata": {},
   "outputs": [],
   "source": []
  },
  {
   "cell_type": "code",
   "execution_count": 31,
   "id": "14fa3b45",
   "metadata": {},
   "outputs": [
    {
     "name": "stdout",
     "output_type": "stream",
     "text": [
      "1\n",
      "1.0\n",
      "1234\n",
      "(1, 2, 3)\n"
     ]
    }
   ],
   "source": [
    "# Кортеж\n",
    "a = (1,1.,\"1234\", (1,2,3),)\n",
    "\n",
    "for el in a:\n",
    "    print(el)"
   ]
  },
  {
   "cell_type": "code",
   "execution_count": 32,
   "id": "5ab6970a",
   "metadata": {},
   "outputs": [
    {
     "data": {
      "text/plain": [
       "('1234', (1, 2, 3))"
      ]
     },
     "execution_count": 32,
     "metadata": {},
     "output_type": "execute_result"
    }
   ],
   "source": [
    "a[-2:]"
   ]
  },
  {
   "cell_type": "code",
   "execution_count": 34,
   "id": "e7480e4f",
   "metadata": {},
   "outputs": [
    {
     "data": {
      "text/plain": [
       "3"
      ]
     },
     "execution_count": 34,
     "metadata": {},
     "output_type": "execute_result"
    }
   ],
   "source": [
    "a[-1][2]"
   ]
  },
  {
   "cell_type": "code",
   "execution_count": 35,
   "id": "7698ffb6",
   "metadata": {},
   "outputs": [
    {
     "data": {
      "text/plain": [
       "True"
      ]
     },
     "execution_count": 35,
     "metadata": {},
     "output_type": "execute_result"
    }
   ],
   "source": [
    "# Список\n",
    "a = [1,2,3, \"asdf\", 1., (1,2,3)]\n",
    "(1,2,3) in a"
   ]
  },
  {
   "cell_type": "code",
   "execution_count": 36,
   "id": "84425d60",
   "metadata": {},
   "outputs": [
    {
     "name": "stdout",
     "output_type": "stream",
     "text": [
      "1\n",
      "2\n",
      "3\n",
      "asdf\n",
      "1.0\n",
      "(1, 2, 3)\n"
     ]
    }
   ],
   "source": [
    "for el in a:\n",
    "    print(el)"
   ]
  },
  {
   "cell_type": "code",
   "execution_count": 37,
   "id": "bd874cc9",
   "metadata": {},
   "outputs": [
    {
     "data": {
      "text/plain": [
       "[1, 2, 3, 'asdf', 1.0, (1, 2, 3), 10]"
      ]
     },
     "execution_count": 37,
     "metadata": {},
     "output_type": "execute_result"
    }
   ],
   "source": [
    "a.append(10)\n",
    "a"
   ]
  },
  {
   "cell_type": "code",
   "execution_count": null,
   "id": "b1f82702",
   "metadata": {},
   "outputs": [],
   "source": []
  },
  {
   "cell_type": "code",
   "execution_count": 38,
   "id": "45f09f05",
   "metadata": {},
   "outputs": [
    {
     "data": {
      "text/plain": [
       "True"
      ]
     },
     "execution_count": 38,
     "metadata": {},
     "output_type": "execute_result"
    }
   ],
   "source": [
    "# Множество\n",
    "a = {1,2,4,4}\n",
    "1 in a"
   ]
  },
  {
   "cell_type": "code",
   "execution_count": 39,
   "id": "61687c6c",
   "metadata": {},
   "outputs": [
    {
     "name": "stdout",
     "output_type": "stream",
     "text": [
      "1\n",
      "2\n",
      "4\n"
     ]
    }
   ],
   "source": [
    "for el in a:\n",
    "    print(el)"
   ]
  },
  {
   "cell_type": "code",
   "execution_count": 40,
   "id": "8d51e2cd",
   "metadata": {},
   "outputs": [
    {
     "data": {
      "text/plain": [
       "{1, 2, 4, 5}"
      ]
     },
     "execution_count": 40,
     "metadata": {},
     "output_type": "execute_result"
    }
   ],
   "source": [
    "a.add(5)\n",
    "a"
   ]
  },
  {
   "cell_type": "code",
   "execution_count": 41,
   "id": "7da48966",
   "metadata": {},
   "outputs": [
    {
     "data": {
      "text/plain": [
       "True"
      ]
     },
     "execution_count": 41,
     "metadata": {},
     "output_type": "execute_result"
    }
   ],
   "source": [
    "# Словарь\n",
    "d = {\n",
    "    1:\"123\", \n",
    "    (1,2,3):[1,2,3],\n",
    "    \"asdfasd\": 2,\n",
    "    \n",
    "}\n",
    "\n",
    "1 in d"
   ]
  },
  {
   "cell_type": "code",
   "execution_count": 12,
   "id": "89d172aa",
   "metadata": {},
   "outputs": [
    {
     "data": {
      "text/plain": [
       "'123'"
      ]
     },
     "execution_count": 12,
     "metadata": {},
     "output_type": "execute_result"
    }
   ],
   "source": [
    "d[1]"
   ]
  },
  {
   "cell_type": "code",
   "execution_count": 20,
   "id": "1bb6afec",
   "metadata": {},
   "outputs": [
    {
     "ename": "KeyError",
     "evalue": "2",
     "output_type": "error",
     "traceback": [
      "\u001b[0;31m---------------------------------------------------------------------------\u001b[0m",
      "\u001b[0;31mKeyError\u001b[0m                                  Traceback (most recent call last)",
      "Cell \u001b[0;32mIn[20], line 1\u001b[0m\n\u001b[0;32m----> 1\u001b[0m \u001b[43md\u001b[49m\u001b[43m[\u001b[49m\u001b[38;5;241;43m2\u001b[39;49m\u001b[43m]\u001b[49m\n",
      "\u001b[0;31mKeyError\u001b[0m: 2"
     ]
    }
   ],
   "source": [
    "d[2]"
   ]
  },
  {
   "cell_type": "code",
   "execution_count": 19,
   "id": "ccd19355",
   "metadata": {},
   "outputs": [
    {
     "data": {
      "text/plain": [
       "'Не нашел'"
      ]
     },
     "execution_count": 19,
     "metadata": {},
     "output_type": "execute_result"
    }
   ],
   "source": [
    "d.get(2, \"Не нашел\")"
   ]
  },
  {
   "cell_type": "code",
   "execution_count": 42,
   "id": "8d2f1bf7",
   "metadata": {},
   "outputs": [],
   "source": [
    "d[123] = \"Новое значение\""
   ]
  },
  {
   "cell_type": "code",
   "execution_count": 22,
   "id": "5ead081e",
   "metadata": {},
   "outputs": [
    {
     "data": {
      "text/plain": [
       "{1: '123', (1, 2, 3): [1, 2, 3], 'asdfasd': 2, 123: 'Новое значение'}"
      ]
     },
     "execution_count": 22,
     "metadata": {},
     "output_type": "execute_result"
    }
   ],
   "source": [
    "d"
   ]
  },
  {
   "cell_type": "code",
   "execution_count": 44,
   "id": "b9f04989",
   "metadata": {},
   "outputs": [
    {
     "name": "stdout",
     "output_type": "stream",
     "text": [
      "1\n",
      "(1, 2, 3)\n",
      "asdfasd\n",
      "123\n"
     ]
    }
   ],
   "source": [
    "for k in d:\n",
    "    print(k)"
   ]
  },
  {
   "cell_type": "code",
   "execution_count": 47,
   "id": "720a90fc",
   "metadata": {},
   "outputs": [
    {
     "name": "stdout",
     "output_type": "stream",
     "text": [
      "1 --- 123\n",
      "(1, 2, 3) --- [1, 2, 3]\n",
      "asdfasd --- 2\n",
      "123 --- Новое значение\n"
     ]
    }
   ],
   "source": [
    "for k,v in d.items():\n",
    "    print(k,\"---\", v)"
   ]
  },
  {
   "cell_type": "code",
   "execution_count": 48,
   "id": "307cc2e9",
   "metadata": {},
   "outputs": [
    {
     "name": "stdout",
     "output_type": "stream",
     "text": [
      "hi\n"
     ]
    }
   ],
   "source": [
    "if 1 == 1:\n",
    "    print('hi')"
   ]
  },
  {
   "cell_type": "code",
   "execution_count": 49,
   "id": "67390cc1",
   "metadata": {},
   "outputs": [
    {
     "data": {
      "text/plain": [
       "'abc'"
      ]
     },
     "execution_count": 49,
     "metadata": {},
     "output_type": "execute_result"
    }
   ],
   "source": [
    "a = \"aBc\"\n",
    "a.lower()"
   ]
  },
  {
   "cell_type": "code",
   "execution_count": 50,
   "id": "019be6c1",
   "metadata": {},
   "outputs": [
    {
     "name": "stdout",
     "output_type": "stream",
     "text": [
      "aBc hi\n"
     ]
    }
   ],
   "source": [
    "if a.lower() == \"abc\":\n",
    "    print(a, \"hi\")"
   ]
  },
  {
   "cell_type": "code",
   "execution_count": 64,
   "id": "66ee865f",
   "metadata": {},
   "outputs": [],
   "source": [
    "def add(a, b):\n",
    "    return a + b\n",
    "\n",
    "def sub(a, b):\n",
    "    return a - b\n",
    "\n",
    "def mul(a, b):\n",
    "    return a * b\n",
    "\n",
    "d = {\n",
    "    '+': add,\n",
    "    '-': sub,\n",
    "    '*': mul,\n",
    "}"
   ]
  },
  {
   "cell_type": "code",
   "execution_count": null,
   "id": "7b959a1e",
   "metadata": {},
   "outputs": [],
   "source": []
  },
  {
   "cell_type": "code",
   "execution_count": 52,
   "id": "cc990fd8",
   "metadata": {},
   "outputs": [
    {
     "data": {
      "text/plain": [
       "['a', 'b', 'c']"
      ]
     },
     "execution_count": 52,
     "metadata": {},
     "output_type": "execute_result"
    }
   ],
   "source": [
    "\"a b c\".split()"
   ]
  },
  {
   "cell_type": "code",
   "execution_count": 53,
   "id": "e43187a6",
   "metadata": {},
   "outputs": [
    {
     "data": {
      "text/plain": [
       "['a', 'b', 'c']"
      ]
     },
     "execution_count": 53,
     "metadata": {},
     "output_type": "execute_result"
    }
   ],
   "source": [
    "\"a,b,c\".split(',')"
   ]
  },
  {
   "cell_type": "code",
   "execution_count": 55,
   "id": "9b8f6f0d",
   "metadata": {},
   "outputs": [
    {
     "data": {
      "text/plain": [
       "'1,2,3'"
      ]
     },
     "execution_count": 55,
     "metadata": {},
     "output_type": "execute_result"
    }
   ],
   "source": [
    "\",\".join([\"1\",\"2\",\"3\"])"
   ]
  },
  {
   "cell_type": "code",
   "execution_count": 58,
   "id": "9d8627de",
   "metadata": {},
   "outputs": [
    {
     "data": {
      "text/plain": [
       "((0, 1, 2, 3, 4, 5, 6, 7, 8, 9), [0, 1, 2, 3, 4, 5, 6, 7, 8, 9])"
      ]
     },
     "execution_count": 58,
     "metadata": {},
     "output_type": "execute_result"
    }
   ],
   "source": [
    "tuple(range(10)), list(range(10))"
   ]
  },
  {
   "cell_type": "code",
   "execution_count": 59,
   "id": "02b24b34",
   "metadata": {},
   "outputs": [
    {
     "data": {
      "text/plain": [
       "[2, 4, 6, 8]"
      ]
     },
     "execution_count": 59,
     "metadata": {},
     "output_type": "execute_result"
    }
   ],
   "source": [
    "list(range(2, 10, 2))"
   ]
  },
  {
   "cell_type": "code",
   "execution_count": 60,
   "id": "c82fd1fb",
   "metadata": {},
   "outputs": [
    {
     "name": "stdout",
     "output_type": "stream",
     "text": [
      "0\n",
      "1\n",
      "2\n",
      "3\n",
      "4\n",
      "5\n",
      "6\n",
      "7\n",
      "8\n",
      "9\n"
     ]
    }
   ],
   "source": [
    "for i in range(10):\n",
    "    print(i)"
   ]
  },
  {
   "cell_type": "code",
   "execution_count": 62,
   "id": "84d3928f",
   "metadata": {},
   "outputs": [
    {
     "data": {
      "text/plain": [
       "('1', '2', '3')"
      ]
     },
     "execution_count": 62,
     "metadata": {},
     "output_type": "execute_result"
    }
   ],
   "source": [
    "tuple(map(str, [1,2,3]))"
   ]
  },
  {
   "cell_type": "code",
   "execution_count": 63,
   "id": "972ec6c3",
   "metadata": {},
   "outputs": [
    {
     "data": {
      "text/plain": [
       "'1,2,3'"
      ]
     },
     "execution_count": 63,
     "metadata": {},
     "output_type": "execute_result"
    }
   ],
   "source": [
    "\",\".join(map(str, [1,2,3]))"
   ]
  },
  {
   "cell_type": "code",
   "execution_count": 66,
   "id": "e3b9f93d",
   "metadata": {},
   "outputs": [
    {
     "name": "stdout",
     "output_type": "stream",
     "text": [
      "100 10 *\n",
      "1000\n"
     ]
    }
   ],
   "source": [
    "a,b,c = input().split()\n",
    "a,b = int(a), int(b)\n",
    "\n",
    "print(d[c](a,b))"
   ]
  },
  {
   "cell_type": "markdown",
   "id": "915db0b8",
   "metadata": {},
   "source": [
    "# Подключение Телеграмм бота\n",
    "\n",
    "https://pypi.org/project/pyTelegramBotAPI/\n",
    "\n"
   ]
  },
  {
   "cell_type": "code",
   "execution_count": null,
   "id": "80f699d2",
   "metadata": {},
   "outputs": [],
   "source": [
    "pip install pytelegrambotapi"
   ]
  },
  {
   "cell_type": "markdown",
   "id": "929f1bf0",
   "metadata": {},
   "source": [
    "https://www.youtube.com/watch?v=ObwoMskHDoA&list=PL0lO_mIqDDFUev1gp9yEwmwcy8SicqKbt&index=1"
   ]
  }
 ],
 "metadata": {
  "kernelspec": {
   "display_name": "Python 3",
   "language": "python",
   "name": "python3"
  },
  "language_info": {
   "codemirror_mode": {
    "name": "ipython",
    "version": 3
   },
   "file_extension": ".py",
   "mimetype": "text/x-python",
   "name": "python",
   "nbconvert_exporter": "python",
   "pygments_lexer": "ipython3",
   "version": "3.12.3"
  }
 },
 "nbformat": 4,
 "nbformat_minor": 5
}
