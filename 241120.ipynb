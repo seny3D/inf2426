{
 "cells": [
  {
   "cell_type": "code",
   "execution_count": 9,
   "id": "fc8a8e85",
   "metadata": {},
   "outputs": [],
   "source": [
    "from collections.abc import  Iterator, Iterable\n",
    "from typing import  Any\n",
    "\n",
    "\n",
    "class WordsCollection(Iterable):\n",
    "    \"\"\"\n",
    "    Конкретные Коллекции предоставляют один или несколько методов для получения\n",
    "    новых экземпляров итератора, совместимых с классом коллекции.\n",
    "    \"\"\"\n",
    "\n",
    "    def __init__(self, collection: list[Any] | None = None) -> None:\n",
    "        self._collection = collection or []\n",
    "\n",
    "\n",
    "    def __getitem__(self, index: int) -> Any:\n",
    "        return self._collection[index]\n",
    "\n",
    "    def __iter__(self) -> \"AlphabeticalOrderIterator\":\n",
    "        \"\"\"\n",
    "        Метод __iter__() возвращает объект итератора, по умолчанию мы возвращаем\n",
    "        итератор с сортировкой по возрастанию.\n",
    "        \"\"\"\n",
    "        return AlphabeticalOrderIterator(self)\n",
    "\n",
    "    def get_reverse_iterator(self) -> \"AlphabeticalOrderIterator\":\n",
    "        return AlphabeticalOrderIterator(self, True)\n",
    "\n",
    "    def add_item(self, item: Any) -> None:\n",
    "        self._collection.append(item)\n",
    "        \n",
    "\n",
    "class AlphabeticalOrderIterator(Iterator):\n",
    "    \"\"\"\n",
    "    Конкретные Итераторы реализуют различные алгоритмы обхода. Эти классы\n",
    "    постоянно хранят текущее положение обхода.\n",
    "    \"\"\"\n",
    "\n",
    "    \"\"\"\n",
    "    Атрибут _position хранит текущее положение обхода. У итератора может быть\n",
    "    множество других полей для хранения состояния итерации, особенно когда он\n",
    "    должен работать с определённым типом коллекции.\n",
    "    \"\"\"\n",
    "    _position: int = None\n",
    "\n",
    "    \"\"\"\n",
    "    Этот атрибут указывает направление обхода.\n",
    "    \"\"\"\n",
    "    _reverse: bool = False\n",
    "\n",
    "    def __init__(self, collection: WordsCollection, reverse: bool = False) -> None:\n",
    "        self._collection = collection\n",
    "        self._reverse = reverse\n",
    "        self._position = -1 if reverse else 0\n",
    "\n",
    "    def __next__(self) -> Any:\n",
    "        \"\"\"\n",
    "        Метод __next __() должен вернуть следующий элемент в последовательности.\n",
    "        При достижении конца коллекции и в последующих вызовах должно вызываться\n",
    "        исключение StopIteration.\n",
    "        \"\"\"\n",
    "        try:\n",
    "            value = self._collection[self._position]\n",
    "            self._position += -1 if self._reverse else 1\n",
    "        except IndexError:\n",
    "            raise StopIteration()\n",
    "\n",
    "        return value"
   ]
  },
  {
   "cell_type": "code",
   "execution_count": 10,
   "id": "a7fff3ec",
   "metadata": {},
   "outputs": [
    {
     "name": "stdout",
     "output_type": "stream",
     "text": [
      "1\n",
      "2\n",
      "3\n"
     ]
    }
   ],
   "source": [
    "for el in AlphabeticalOrderIterator([1,2,3]):\n",
    "    print(el)"
   ]
  },
  {
   "cell_type": "code",
   "execution_count": 11,
   "id": "01726186",
   "metadata": {},
   "outputs": [
    {
     "name": "stdout",
     "output_type": "stream",
     "text": [
      "0\n",
      "1\n",
      "2\n",
      "3\n",
      "4\n",
      "5\n",
      "6\n",
      "7\n",
      "8\n",
      "9\n"
     ]
    }
   ],
   "source": [
    "for i in range(10):\n",
    "    print(i)"
   ]
  },
  {
   "cell_type": "code",
   "execution_count": null,
   "id": "e4f89909",
   "metadata": {},
   "outputs": [],
   "source": [
    "# Клиентский код может знать или не знать о Конкретном Итераторе или классах\n",
    "# Коллекций, в зависимости от уровня косвенности, который вы хотите\n",
    "# сохранить в своей программе.\n",
    "collection = WordsCollection()\n",
    "collection.add_item(\"First\")\n",
    "collection.add_item(\"Second\")\n",
    "collection.add_item(\"Third\")\n",
    "\n",
    "print(\"Straight traversal:\")\n",
    "print(\"\\n\".join(collection))\n",
    "print(\"\")\n",
    "\n",
    "print(\"Reverse traversal:\")\n",
    "print(\"\\n\".join(collection.get_reverse_iterator()), end=\"\")"
   ]
  }
 ],
 "metadata": {
  "kernelspec": {
   "display_name": "Python 3",
   "language": "python",
   "name": "python3"
  },
  "language_info": {
   "codemirror_mode": {
    "name": "ipython",
    "version": 3
   },
   "file_extension": ".py",
   "mimetype": "text/x-python",
   "name": "python",
   "nbconvert_exporter": "python",
   "pygments_lexer": "ipython3",
   "version": "3.12.3"
  }
 },
 "nbformat": 4,
 "nbformat_minor": 5
}
