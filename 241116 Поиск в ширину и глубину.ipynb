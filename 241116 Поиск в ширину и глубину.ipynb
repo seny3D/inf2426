{
 "cells": [
  {
   "cell_type": "markdown",
   "id": "99cac93e",
   "metadata": {},
   "source": [
    "https://rosavtodor.gov.ru/opendata/7717509757-klassifikator\n",
    "\n",
    "https://habr.com/ru/articles/349860/"
   ]
  },
  {
   "cell_type": "code",
   "execution_count": 2,
   "id": "97f19d32",
   "metadata": {},
   "outputs": [],
   "source": [
    "import pandas as pd"
   ]
  },
  {
   "cell_type": "code",
   "execution_count": 5,
   "id": "958965cd",
   "metadata": {},
   "outputs": [],
   "source": [
    "data = pd.read_csv(\"lec20241116/data-2024-04-17T00-00-structure-2024-04-17T00-00.csv\",\n",
    "                  encoding=\"cp1251\", sep=\";\")"
   ]
  },
  {
   "cell_type": "code",
   "execution_count": 84,
   "id": "3c104efa",
   "metadata": {},
   "outputs": [
    {
     "data": {
      "text/plain": [
       "Index(['Учетные номера автомобильных дорог и их наименование', 'Идентификационные номера автомобильных дорог'], dtype='object')"
      ]
     },
     "execution_count": 84,
     "metadata": {},
     "output_type": "execute_result"
    }
   ],
   "source": [
    "data.columns"
   ]
  },
  {
   "cell_type": "code",
   "execution_count": 75,
   "id": "8274313d",
   "metadata": {},
   "outputs": [
    {
     "name": "stderr",
     "output_type": "stream",
     "text": [
      "<>:5: SyntaxWarning: invalid escape sequence '\\w'\n",
      "<>:5: SyntaxWarning: invalid escape sequence '\\w'\n",
      "/tmp/ipykernel_1074772/1241570511.py:5: SyntaxWarning: invalid escape sequence '\\w'\n",
      "  .str.replace(\"\\w-\\d+ \", \"\", regex=True).str.strip()\\\n"
     ]
    },
    {
     "data": {
      "text/plain": [
       "['Улан-Удэ', 'Кяхта', 'граница с Монголией']"
      ]
     },
     "execution_count": 75,
     "metadata": {},
     "output_type": "execute_result"
    }
   ],
   "source": [
    "a = data[\"Учетные номера автомобильных дорог и их наименование\"].str.strip()\\\n",
    "         .str.replace(\"\\xa0\" , \" \").str.replace('\".*\"', '$', regex=True)\\\n",
    "            .str.replace(\" к \", \" - \").str.replace(\".* от\", \"\", regex=True)\\\n",
    "            .str.replace(\".*[$]\", \"\", regex=True)\\\n",
    "            .str.replace(\"\\w-\\d+ \", \"\", regex=True).str.strip()\\\n",
    "            .str.replace(\"^-.*\", \"\", regex=True).str.strip().str.split(\" - \") # .tolist()\n",
    "\n",
    "#         .str.replace(\"\\xa0\" , \" \").str.replace(\" к \", \" - \")\\\n",
    "#         .str.replace(\".* от\", \"\", regex=True).str.replace('\".*\"', '', regex=True)\\\n",
    "#         .str.strip().str.split(\" - \").tolist()\n",
    "a.iloc[-13]"
   ]
  },
  {
   "cell_type": "code",
   "execution_count": 83,
   "id": "92d2d5ac",
   "metadata": {},
   "outputs": [],
   "source": [
    "with open(\"lec20241116/input.txt\", \"w\") as f:\n",
    "    for city_list in a:\n",
    "        if not isinstance(city_list, list):\n",
    "            continue\n",
    "        for i in range(len(city_list)-1):\n",
    "            f.write(f\"{city_list[i].strip()},{city_list[i+1].strip()}\\n\")"
   ]
  },
  {
   "cell_type": "code",
   "execution_count": null,
   "id": "805c2bc3",
   "metadata": {},
   "outputs": [],
   "source": [
    "s = \"a\\n\".strip(\"\\n\")"
   ]
  },
  {
   "cell_type": "code",
   "execution_count": 119,
   "id": "00837378",
   "metadata": {},
   "outputs": [],
   "source": [
    "def f(a):\n",
    "    print(1,a)\n",
    "    for i in range(10):\n",
    "        print(2,i,a)\n",
    "        yield 0\n",
    "        \n",
    "def ff(b,a):\n",
    "    print(3,b,a)\n",
    "    for j in range(5):\n",
    "        print(4,j,b)\n",
    "        g = f(a)\n",
    "        for l in g:\n",
    "            yield 0"
   ]
  },
  {
   "cell_type": "code",
   "execution_count": 120,
   "id": "02159460",
   "metadata": {},
   "outputs": [],
   "source": [
    "b = ff(50,40)"
   ]
  },
  {
   "cell_type": "code",
   "execution_count": 173,
   "id": "5395d546",
   "metadata": {},
   "outputs": [
    {
     "ename": "StopIteration",
     "evalue": "",
     "output_type": "error",
     "traceback": [
      "\u001b[0;31m---------------------------------------------------------------------------\u001b[0m",
      "\u001b[0;31mStopIteration\u001b[0m                             Traceback (most recent call last)",
      "Cell \u001b[0;32mIn[173], line 1\u001b[0m\n\u001b[0;32m----> 1\u001b[0m \u001b[38;5;28;43mnext\u001b[39;49m\u001b[43m(\u001b[49m\u001b[43mb\u001b[49m\u001b[43m)\u001b[49m\n",
      "\u001b[0;31mStopIteration\u001b[0m: "
     ]
    }
   ],
   "source": [
    "try:\n",
    "    next(b)\n",
    "except StopIteration as err:\n",
    "    print(err)\n",
    "except RuntimeError as err:\n",
    "    print(err)"
   ]
  },
  {
   "cell_type": "markdown",
   "id": "c5e50e08",
   "metadata": {},
   "source": [
    "# BFS (поиск  в ширину)"
   ]
  },
  {
   "cell_type": "code",
   "execution_count": null,
   "id": "54aee69d",
   "metadata": {},
   "outputs": [],
   "source": [
    "import collections\n",
    "def bfs(graph, root): \n",
    "    visited, queue = set(), collections.deque([root])\n",
    "    visited.add(root)\n",
    "    while queue: \n",
    "        vertex = queue.popleft()\n",
    "        for neighbour in graph[vertex]: \n",
    "            if neighbour not in visited: \n",
    "                visited.add(neighbour) \n",
    "                queue.append(neighbour) \n",
    "                \n",
    "if __name__ == '__main__':\n",
    "    graph = {0: [1, 2], 1: [2], 2: [3], 3: [1,2]} \n",
    "    breadth_first_search(graph, 0)"
   ]
  },
  {
   "cell_type": "markdown",
   "id": "1d3cf656",
   "metadata": {},
   "source": [
    "# ДЗ"
   ]
  },
  {
   "cell_type": "markdown",
   "id": "27191734",
   "metadata": {},
   "source": [
    "0. Нарисовать среднего размера граф с одной компонентой связности, чтобы он быстро отображался, но был достаточно разветвленным. На его примере сделать задание 1 и 2.\n",
    "\n",
    "1. Реализовать аналогично классной работе поиск в глубину.\n",
    "\n",
    "2. Реализовать с помощью поиска в ширину поиск кратчашейго пути в графе. Граф отображается на экране. После этого вы мышкой кликаете на одной вершине, потом на другой, запускается поиск в ширину от первой вершины и когда он доходит до второй он завершается (процесс поиска визуализируется) и показывается другим цветом кратчайший путь."
   ]
  },
  {
   "cell_type": "code",
   "execution_count": null,
   "id": "2d4e0c72",
   "metadata": {},
   "outputs": [],
   "source": []
  }
 ],
 "metadata": {
  "kernelspec": {
   "display_name": "Python 3",
   "language": "python",
   "name": "python3"
  },
  "language_info": {
   "codemirror_mode": {
    "name": "ipython",
    "version": 3
   },
   "file_extension": ".py",
   "mimetype": "text/x-python",
   "name": "python",
   "nbconvert_exporter": "python",
   "pygments_lexer": "ipython3",
   "version": "3.12.3"
  }
 },
 "nbformat": 4,
 "nbformat_minor": 5
}
