{
 "cells": [
  {
   "cell_type": "code",
   "execution_count": null,
   "id": "4a439646",
   "metadata": {},
   "outputs": [],
   "source": [
    "main1.py\n",
    "функция fib(n: int) -> tuple[int] возвращающая первые n чисел Фиббоначи, \n",
    "реализованная через рекурсию\n",
    "\n",
    "функция sum_list(a: list[int]) -> int|None сумма элементов через цикл\n",
    "\n",
    "функция max_list(a: list[int]) -> int|None максимальный элемент списка\n",
    "\n",
    "функция max2_list(a: list[int]) -> tuple[int|None] два максимальных \n",
    "элемента в порядке убывания\n",
    "\n",
    "функция min_max_list(a: list[int]) -> tuple[int|None] минимум и максимум\n",
    "списка\n",
    "\n",
    "функция mean_list(a: list[int]) -> float|None среднее значение списка\n",
    "\n",
    "функция median_list(a: list[int]) -> float|None вернеть медиану списка"
   ]
  },
  {
   "cell_type": "code",
   "execution_count": null,
   "id": "5ca5c682",
   "metadata": {},
   "outputs": [],
   "source": [
    "def sum_list(a: list[int]) -> int|None:\n",
    "    if len(a):\n",
    "        s: int = 0\n",
    "        for el in a:\n",
    "            s += el\n",
    "        return s\n",
    "    else:\n",
    "        return None\n",
    "    \n",
    "    \n",
    "def max_list(a: list[int]) -> int|None:\n",
    "    if len(a):\n",
    "        m: int = a[0]\n",
    "        for i in range(1, len(a)):\n",
    "            if a[i] > m:\n",
    "                m = a[i]\n",
    "        return m\n",
    "    else:\n",
    "        return None\n",
    "    \n",
    "\n",
    "def max2_list(a: list[int]) -> int|None:\n",
    "    if len(a) > 1:\n",
    "        m1: int = a[0]\n",
    "        m2: int = a[1]\n",
    "        \n",
    "        if m2 > m1:\n",
    "            m1, m2 = m2, m1\n",
    "            \n",
    "        for i in range(2, len(a)):\n",
    "            if a[i] > m1:\n",
    "                m2 = m1\n",
    "                m1 = a[i]\n",
    "            elif a[i] > m2:\n",
    "                m2 = a[i]\\\n",
    "                \n",
    "        return m1, m2\n",
    "    \n",
    "    elif len(a) == 1:\n",
    "        return a[0], a[0]\n",
    "    \n",
    "    else:\n",
    "        return None, None\n",
    "    \n",
    "    \n",
    "def min_max_list(a: list[int]) -> tuple[int|None]:\n",
    "    if len(a):\n",
    "        el_min: int = a[0]\n",
    "        el_max: int = a[0]\n",
    "        \n",
    "        for i in range(1, len(a)):\n",
    "            if a[i] > el_max:\n",
    "                el_max = a[i]\n",
    "                \n",
    "            if a[i] < el_min:\n",
    "                el_min = a[i]\n",
    "                \n",
    "        return el_min, el_max\n",
    "    else:\n",
    "        return None, None\n",
    "    \n",
    "    \n",
    "def mean_list(a: list[int]) -> float|None:\n",
    "    if len(a):\n",
    "        return sum_list(a)/len(a)\n",
    "    else:\n",
    "        return None\n",
    "    \n",
    "def median_list(a: list[int]) -> float|None:\n",
    "    if len(a):\n",
    "        if len(a) % 2 == 1:\n",
    "            return a[len(a) // 2]\n",
    "        else:\n",
    "            return mean_list([a[len(a)//2 - 1], a[len(a)//2]])\n",
    "    else:\n",
    "        return None\n",
    "    \n",
    "def fib(n: int) -> list[int]:\n",
    "    if n == 1:\n",
    "        return [1]\n",
    "    elif n == 2:\n",
    "        return [1, 1]\n",
    "    else:\n",
    "        a = fib(n-1)\n",
    "        a.append(a[-1] + a[-2])\n",
    "        return a"
   ]
  },
  {
   "cell_type": "code",
   "execution_count": 12,
   "id": "8cf69e89",
   "metadata": {},
   "outputs": [
    {
     "data": {
      "text/plain": [
       "[1, 2, 3, 2, 3, 4]"
      ]
     },
     "execution_count": 12,
     "metadata": {},
     "output_type": "execute_result"
    }
   ],
   "source": [
    "[1,2,3] + [2,3,4]"
   ]
  },
  {
   "cell_type": "code",
   "execution_count": 9,
   "id": "abbbe6aa",
   "metadata": {},
   "outputs": [],
   "source": [
    "for i in range(2, 2):\n",
    "    print(i)"
   ]
  },
  {
   "cell_type": "code",
   "execution_count": 6,
   "id": "3cdbd160",
   "metadata": {},
   "outputs": [
    {
     "data": {
      "text/plain": [
       "(2, 2, 2)"
      ]
     },
     "execution_count": 6,
     "metadata": {},
     "output_type": "execute_result"
    }
   ],
   "source": [
    "a = [1,2,3,4,5]\n",
    "int(len(a)/2), len(a)//2, round(len(a)/2)"
   ]
  },
  {
   "cell_type": "code",
   "execution_count": 8,
   "id": "89393da0",
   "metadata": {},
   "outputs": [
    {
     "data": {
      "text/plain": [
       "(4, 3)"
      ]
     },
     "execution_count": 8,
     "metadata": {},
     "output_type": "execute_result"
    }
   ],
   "source": [
    "round(3.5), round(3.4)"
   ]
  },
  {
   "cell_type": "code",
   "execution_count": 11,
   "id": "ce7574ac",
   "metadata": {},
   "outputs": [
    {
     "data": {
      "text/plain": [
       "(2, 3)"
      ]
     },
     "execution_count": 11,
     "metadata": {},
     "output_type": "execute_result"
    }
   ],
   "source": [
    "a = [1,2,3,4,5,6]\n",
    "len(a)//2 - 1, len(a)//2"
   ]
  },
  {
   "cell_type": "markdown",
   "id": "c03d3e27",
   "metadata": {},
   "source": [
    "# Select sort"
   ]
  },
  {
   "cell_type": "code",
   "execution_count": 13,
   "id": "fa1332f7",
   "metadata": {},
   "outputs": [
    {
     "name": "stdout",
     "output_type": "stream",
     "text": [
      "[1, 6, 2, 4, 9, 0, -2, 10, 4]\n",
      "[-2, 6, 2, 4, 9, 0, 1, 10, 4]\n",
      "[-2, 0, 2, 4, 9, 6, 1, 10, 4]\n",
      "[-2, 0, 1, 4, 9, 6, 2, 10, 4]\n",
      "[-2, 0, 1, 2, 9, 6, 4, 10, 4]\n",
      "[-2, 0, 1, 2, 4, 6, 9, 10, 4]\n",
      "[-2, 0, 1, 2, 4, 4, 9, 10, 6]\n",
      "[-2, 0, 1, 2, 4, 4, 6, 10, 9]\n",
      "[-2, 0, 1, 2, 4, 4, 6, 9, 10]\n"
     ]
    }
   ],
   "source": [
    "def select_sort(a: list[int]) -> list[int]:\n",
    "    for i in range(len(a)):\n",
    "        m: int = a[i]\n",
    "        mj: int = i\n",
    "        for j in range(i, len(a)):\n",
    "            if a[j] < m:\n",
    "                m = a[j]\n",
    "                mj = j\n",
    "        a[i], a[mj] = a[mj], a[i]\n",
    "    return a\n",
    "        \n",
    "select_sort([1,6,2,4,9,0,-2,10,4])"
   ]
  },
  {
   "cell_type": "code",
   "execution_count": null,
   "id": "3702d740",
   "metadata": {},
   "outputs": [],
   "source": [
    "def insertion_sort(a: list[int]) -> list[int]:\n",
    "    for i in range(1, len(a)):\n",
    "        m: int = a[i]\n",
    "        j = i - 1\n",
    "        while j >= 0 and m < a[j]:\n",
    "            a[j], a[j+1] = a[j+1], a[j]\n",
    "            j -= 1\n",
    "    return a"
   ]
  },
  {
   "cell_type": "code",
   "execution_count": 14,
   "id": "d0cd943e",
   "metadata": {},
   "outputs": [],
   "source": [
    "for i in range(1, 0):\n",
    "    print(i)"
   ]
  },
  {
   "cell_type": "markdown",
   "id": "047b561c",
   "metadata": {},
   "source": [
    "cw240914/\n",
    "main.py\n",
    "def buble_sort(a: list[int]) -> list[int]"
   ]
  },
  {
   "cell_type": "markdown",
   "id": "bc661e0c",
   "metadata": {},
   "source": [
    "dz240914/\n",
    "66.py\n",
    "https://leetcode.com/problems/plus-one/description/?envType=problem-list-v2&envId=array&difficulty=EASY\n",
    "\n",
    "1.py\n",
    "https://leetcode.com/problems/two-sum/description/?envType=problem-list-v2&envId=array&difficulty=EASY\n",
    "\n",
    "26.py\n",
    "https://leetcode.com/problems/remove-duplicates-from-sorted-array/?envType=problem-list-v2&envId=array&difficulty=EASY\n",
    "\n",
    "\n",
    "118.py\n",
    "https://leetcode.com/problems/pascals-triangle/description/?envType=problem-list-v2&envId=array&difficulty=EASY\n",
    "\n",
    "\n",
    "119.py\n",
    "https://leetcode.com/problems/pascals-triangle-ii/description/?envType=problem-list-v2&envId=array&difficulty=EASY\n",
    "\n",
    "121.py\n",
    "https://leetcode.com/problems/best-time-to-buy-and-sell-stock/description/?envType=problem-list-v2&envId=array&difficulty=EASY\n",
    "\n",
    "169.py  # используйте сортировку\n",
    "https://leetcode.com/problems/majority-element/description/?envType=problem-list-v2&envId=array&difficulty=EASY\n",
    "\n",
    "217.py  # используйте сортировку\n",
    "https://leetcode.com/problems/contains-duplicate/description/?envType=problem-list-v2&envId=array&difficulty=EASY\n",
    "\n",
    "228.py\n",
    "https://leetcode.com/problems/summary-ranges/description/?envType=problem-list-v2&envId=array&difficulty=EASY\n",
    "\n",
    "628.py # используйте сортировку\n",
    "https://leetcode.com/problems/maximum-product-of-three-numbers/description/?envType=problem-list-v2&envId=array&difficulty=EASY"
   ]
  }
 ],
 "metadata": {
  "kernelspec": {
   "display_name": "Python 3",
   "language": "python",
   "name": "python3"
  },
  "language_info": {
   "codemirror_mode": {
    "name": "ipython",
    "version": 3
   },
   "file_extension": ".py",
   "mimetype": "text/x-python",
   "name": "python",
   "nbconvert_exporter": "python",
   "pygments_lexer": "ipython3",
   "version": "3.12.3"
  }
 },
 "nbformat": 4,
 "nbformat_minor": 5
}
