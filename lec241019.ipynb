{
 "cells": [
  {
   "cell_type": "code",
   "execution_count": 26,
   "id": "2a47b93c",
   "metadata": {},
   "outputs": [],
   "source": [
    "import numpy as np\n",
    "import math\n",
    "from functools import partial\n",
    "import matplotlib.pyplot as plt\n",
    "from typing import Callable"
   ]
  },
  {
   "cell_type": "markdown",
   "id": "972e6399",
   "metadata": {},
   "source": [
    "# Последовательность независимых испытаний Бернулли\n",
    "Прочитайте Гнеденко. Курс теории вероятности. Главу 2. Последовательность независимых испытаний.\n",
    "\n",
    "## Формула Бернулли\n",
    "$$\n",
    "P_n(m) = C_n^m p^m q^{n-m}\n",
    "$$\n",
    "Описывает вероятность наступления $m$ событий $A$ при $n$ испытаниях, когда возможны только два события $A$ и $\\overline{A}$, и $P(A) = p$.\n",
    "\n",
    "**Например** при 50 подбрасываний монетки мы хотим найти вероятность выпадения $m$ орлов - она равна $P_{50}(m)$.\n",
    "\n",
    "**Еще пример**:  \n",
    "Вероятность изделию некоторого производства оказаться бракованным равна 0.005. Чему равна вероятность того, что из 10000 наудачу взятых изделий бракованных изделий окажется не более 70?.  \n",
    "Ответ: $P\\{\\mu \\leq 70\\} = \\sum_{m=0}^{70} P_n(m)$\n"
   ]
  },
  {
   "cell_type": "code",
   "execution_count": 27,
   "id": "b4d0b497",
   "metadata": {},
   "outputs": [],
   "source": [
    "comb50: Callable = partial(math.comb, 50)"
   ]
  },
  {
   "cell_type": "code",
   "execution_count": 25,
   "id": "76a97339",
   "metadata": {},
   "outputs": [
    {
     "data": {
      "text/plain": [
       "[<matplotlib.lines.Line2D at 0x7baa8b28b710>]"
      ]
     },
     "execution_count": 25,
     "metadata": {},
     "output_type": "execute_result"
    },
    {
     "data": {
      "image/png": "[encoded data removed]",
      "text/plain": [
       "<Figure size 640x480 with 1 Axes>"
      ]
     },
     "metadata": {},
     "output_type": "display_data"
    }
   ],
   "source": [
    "x:list[int] = list(range(0,51))\n",
    "plt.plot(x, list(map(lambda x: x/(2**50), map(comb50, x))), '.')"
   ]
  },
  {
   "cell_type": "code",
   "execution_count": 28,
   "id": "e8a267a6",
   "metadata": {},
   "outputs": [
    {
     "data": {
      "text/plain": [
       "7.408982462459107"
      ]
     },
     "execution_count": 28,
     "metadata": {},
     "output_type": "execute_result"
    }
   ],
   "source": [
    "x1:list[int] = list(range(0,20)) + list(range(31,51))\n",
    "x2:list[int] = list(range(20,31))\n",
    "sum(list(map(lambda x: x/(2**50), map(comb50, x2))))/sum(list(map(lambda x: x/(2**50), map(comb50, x1))))"
   ]
  },
  {
   "cell_type": "markdown",
   "id": "ace2c5cc",
   "metadata": {},
   "source": [
    "Оценить $P_n(m)$ при больших $n$ и $p$ не близких к  $1$ или $0$ можно по формуле **Муавра**: \n",
    "$$\n",
    "P_n(m) \\sim \\frac{1}{\\sqrt{2\\pi}} e^{-\\frac{1}{2}\\big(\\frac{m - np}{\\sqrt{npq}}\\big)^2}\n",
    "$$\n",
    "\n",
    "Если же $p$ близка к 1 или 0 то лучше использовать формулу:\n",
    "$$\n",
    "P_n(m) \\sim \\frac{(np)^m}{m!}e^{-np}\n",
    "$$\n",
    "Последнюю формулу еще называют распределением **Пуассона**  \n",
    "\n",
    "для вычисления факториала используйте формулу **Стирлинга** \n",
    "$$\n",
    "n! \\sim \\sqrt{2\\pi n}\\Big(\\frac{n}{e}\\Big)^n\n",
    "$$"
   ]
  },
  {
   "cell_type": "code",
   "execution_count": 85,
   "id": "3041854e",
   "metadata": {},
   "outputs": [],
   "source": [
    "def st(n:int, p:float, q:float, m:int) -> float:\n",
    "    return np.e**(-(((m - n*p)/np.sqrt(n*p*q))**2)/2)/(np.sqrt(2*np.pi*n*p*q))\n",
    "\n",
    "n:int = 50\n",
    "p:float = 0.5\n",
    "st50: Callable = partial(st, n, p, 1-p)"
   ]
  },
  {
   "cell_type": "code",
   "execution_count": 86,
   "id": "8143fc64",
   "metadata": {},
   "outputs": [
    {
     "data": {
      "text/plain": [
       "[<matplotlib.lines.Line2D at 0x7baa8a5af080>]"
      ]
     },
     "execution_count": 86,
     "metadata": {},
     "output_type": "execute_result"
    },
    {
     "data": {
      "image/png": "[encoded data removed]",
      "text/plain": [
       "<Figure size 640x480 with 1 Axes>"
      ]
     },
     "metadata": {},
     "output_type": "display_data"
    }
   ],
   "source": [
    "m:list[int] = list(range(0,n+1))\n",
    "plt.plot(x, list(map(lambda t: t[0]*p**t[1]*(1-p)**(n-t[1]), map(lambda m: (comb50(m), m), m))), '.')\n",
    "plt.plot(x, list(map(lambda x: x, map(st50, m))), '.')"
   ]
  },
  {
   "cell_type": "markdown",
   "id": "1af19c70",
   "metadata": {},
   "source": [
    "# ДЗ"
   ]
  },
  {
   "cell_type": "markdown",
   "id": "f0376e6e",
   "metadata": {},
   "source": [
    "dz241019/\n",
    "\n",
    "**main.ipynb**\n",
    "Решение задач запишите в юпитер ноутбук. Каждая задача должна начинаться **заголовком** \"Задача \" и дальше номер задачи, например \"Задача 1\".\n",
    "\n",
    "1. Приблизить $P_n(m)$ для $p$ близких к нулю и нарисовать график, аналогичный графику сверху, где была бы видна разница между точным и приближенном значении.\n",
    "\n",
    "2. Для n = 50 определите, начиная с какого p формула для малых p точнее приближает $P_n(m)$ чем формула Муавра. Для этого Найдите для каждого значения m разницу между приближенным значением и точным, возьмите среднее этой разницы вы получите среднюю оценку ошибки. И сравните средние ошибки формулы Муавра и формулы для малых p для каждого значения p от 0.5 до 0.01 с шагом 0.01. На одном графике выведите эти значения для наглядности: средние ошибки от p.\n",
    "\n",
    "3. В некотором семействе имеется 10 детей. Считая вероятности рождения\n",
    "мальчика и девочки равными 1/2, найти вероятность того, что в семействе\n",
    "а) 5 мальчиков и 5 девочек;\n",
    "б) число мальчиков заключается между 3 и 8.\n",
    "\n",
    "4. В обществе, состоящем из 4 человек, дни рождения трех приходятся\n",
    "на один месяц, а четвертого — на один из остальных одиннадцати. Считая\n",
    "вероятность рождения в течение каждого из месяцев для каждого лица равной\n",
    "1/12, найти вероятность того, что\n",
    "а) указанные три лица родились в январе, а четвертое лицо в октябре;\n",
    "б) три лица родились в каком-то одном месяце, а четвертое в каком-то из \n",
    "остальных одиннадцати.\n",
    "\n",
    "5. Известно, что вероятность выпуска сверла повышенной хрупкости (брак)\n",
    "равна 0,02. Сверла укладываются в коробки по 100 штук. Чему равна вероятность\n",
    "того, что\n",
    "а) в коробке не окажется бракованных сверл;\n",
    "б) число бракованных сверл окажется не более 3;\n",
    "в) сколько нужно класть в коробку сверл, чтобы с вероятностью, не меньшей\n",
    "0,9, в ней было не менее 100 исправных?\n",
    "Указание. Воспользоваться распределением Пуассона.\n",
    "\n",
    "6. В страховом обществе застраховано 10 000 лиц одного возраста и одной\n",
    "социальной группы. Вероятность смерти в течение года для каждого лица равна\n",
    "0,006. Каждый застрахованный вносит 1 января 12 руб. страховых и в случае\n",
    "смерти его родственники получают от общества 1000 руб. Чему равна вероятность\n",
    "того, что\n",
    "а) общество потерпит убытки;\n",
    "б) получит прибыль, не меньшую 40000, 60000, 80000 руб.?\n",
    "\n",
    "7. (Необязательная задача)\n",
    "Задача Банаха. Некий математик носит с собой две коробки спичек.\n",
    "Каждый раз, когда он хочет достать спичку, он выбирает наугад одну из коробок.\n",
    "Найти вероятность того, что когда математик вынет пустую коробку, в другой\n",
    "коробке окажется г спичек (г = 0,1,2, ...,n; n — число спичек, бывших\n",
    "первоначально в каждой из коробок)."
   ]
  },
  {
   "cell_type": "code",
   "execution_count": null,
   "id": "7e6e89dd",
   "metadata": {},
   "outputs": [],
   "source": []
  }
 ],
 "metadata": {
  "kernelspec": {
   "display_name": "Python 3",
   "language": "python",
   "name": "python3"
  },
  "language_info": {
   "codemirror_mode": {
    "name": "ipython",
    "version": 3
   },
   "file_extension": ".py",
   "mimetype": "text/x-python",
   "name": "python",
   "nbconvert_exporter": "python",
   "pygments_lexer": "ipython3",
   "version": "3.12.3"
  }
 },
 "nbformat": 4,
 "nbformat_minor": 5
}
