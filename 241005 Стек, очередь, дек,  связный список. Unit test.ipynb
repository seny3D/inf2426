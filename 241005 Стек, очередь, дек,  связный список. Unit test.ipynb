{
 "cells": [
  {
   "cell_type": "markdown",
   "id": "c0fed364",
   "metadata": {},
   "source": [
    "# Слепая печать"
   ]
  },
  {
   "cell_type": "markdown",
   "id": "c80d8afa",
   "metadata": {},
   "source": [
    "https://keyboard-type-simulator.vercel.app/learn"
   ]
  },
  {
   "cell_type": "markdown",
   "id": "e34062b4",
   "metadata": {},
   "source": [
    "# Сложность операций над стандартными типами данных Python"
   ]
  },
  {
   "cell_type": "markdown",
   "id": "4b5ab514",
   "metadata": {},
   "source": [
    "## Список\n",
    "![list methods](lec20241005/list.png)\n",
    "\n",
    "## Словарь\n",
    "![dict methods](lec20241005/dict.png)\n",
    "\n",
    "## Множество\n",
    "![set methods](lec20241005/set.png)"
   ]
  },
  {
   "cell_type": "markdown",
   "id": "df13b24b",
   "metadata": {},
   "source": [
    "Изображения взяты из книги \"Структуры данных в Python: начальный курс\" Дональд Р. Шихи"
   ]
  },
  {
   "cell_type": "code",
   "execution_count": 26,
   "id": "68bc3fe3",
   "metadata": {},
   "outputs": [],
   "source": [
    "class A:\n",
    "    def __init__(self, a: int):\n",
    "        self.__a = a\n",
    "        \n",
    "a = A(5)"
   ]
  },
  {
   "cell_type": "code",
   "execution_count": 28,
   "id": "dba7f0ff",
   "metadata": {},
   "outputs": [
    {
     "data": {
      "text/plain": [
       "['_A__a',\n",
       " '__class__',\n",
       " '__delattr__',\n",
       " '__dict__',\n",
       " '__dir__',\n",
       " '__doc__',\n",
       " '__eq__',\n",
       " '__format__',\n",
       " '__ge__',\n",
       " '__getattribute__',\n",
       " '__getstate__',\n",
       " '__gt__',\n",
       " '__hash__',\n",
       " '__init__',\n",
       " '__init_subclass__',\n",
       " '__le__',\n",
       " '__lt__',\n",
       " '__module__',\n",
       " '__ne__',\n",
       " '__new__',\n",
       " '__reduce__',\n",
       " '__reduce_ex__',\n",
       " '__repr__',\n",
       " '__setattr__',\n",
       " '__sizeof__',\n",
       " '__str__',\n",
       " '__subclasshook__',\n",
       " '__weakref__']"
      ]
     },
     "execution_count": 28,
     "metadata": {},
     "output_type": "execute_result"
    }
   ],
   "source": [
    "dir(a)"
   ]
  },
  {
   "cell_type": "code",
   "execution_count": 29,
   "id": "41c823c6",
   "metadata": {},
   "outputs": [
    {
     "data": {
      "text/plain": [
       "5"
      ]
     },
     "execution_count": 29,
     "metadata": {},
     "output_type": "execute_result"
    }
   ],
   "source": [
    "a._A__a"
   ]
  },
  {
   "cell_type": "markdown",
   "id": "d8e7d40a",
   "metadata": {},
   "source": [
    "# Стек"
   ]
  },
  {
   "cell_type": "markdown",
   "id": "ecffc8b4",
   "metadata": {},
   "source": [
    "Абстрактный тип данных «стек»\n",
    " - push – добавление нового элемента в стек.\n",
    " - pop – удаление и возврат очередного элемента в порядке «последним вошел, первым вышел» (Last In First Out – LIFO).\n",
    " - peek – возврат очередного элемента в порядке «последним вошел, первым вышел» (LIFO).\n",
    " - size – возврат числа элементов в стеке (будет использоваться метод в стиле Python \\_\\_len\\_\\_).\n",
    " - isempty – возврат True, если в стеке нет элементов, иначе возврат False."
   ]
  },
  {
   "cell_type": "code",
   "execution_count": 32,
   "id": "08b58574",
   "metadata": {},
   "outputs": [],
   "source": [
    "class ListStack[T: object]:\n",
    "    def __init__(self) -> None:\n",
    "        self._a: list[T] = []\n",
    "        \n",
    "    def push(self, item: T) -> None:\n",
    "        self._a.append(item)\n",
    "        \n",
    "    def pop(self) -> T:\n",
    "        return self._a.pop()\n",
    "    \n",
    "    def peek(self) -> T:\n",
    "        return self._a[-1]\n",
    "    \n",
    "    def __len__(self) -> int:\n",
    "        return len(self._a)\n",
    "    \n",
    "    def isempty(self) -> bool:\n",
    "        return len(self) == 0"
   ]
  },
  {
   "cell_type": "code",
   "execution_count": 31,
   "id": "29e3b0bb",
   "metadata": {},
   "outputs": [
    {
     "data": {
      "text/plain": [
       "[]"
      ]
     },
     "execution_count": 31,
     "metadata": {},
     "output_type": "execute_result"
    }
   ],
   "source": [
    "s = ListStack()\n",
    "s._a"
   ]
  },
  {
   "cell_type": "code",
   "execution_count": 33,
   "id": "1a9d0896",
   "metadata": {},
   "outputs": [
    {
     "ename": "IndexError",
     "evalue": "pop from empty list",
     "output_type": "error",
     "traceback": [
      "\u001b[0;31m---------------------------------------------------------------------------\u001b[0m",
      "\u001b[0;31mIndexError\u001b[0m                                Traceback (most recent call last)",
      "Cell \u001b[0;32mIn[33], line 4\u001b[0m\n\u001b[1;32m      2\u001b[0m s\u001b[38;5;241m.\u001b[39mpush(\u001b[38;5;241m5\u001b[39m)\n\u001b[1;32m      3\u001b[0m s\u001b[38;5;241m.\u001b[39mpop()\n\u001b[0;32m----> 4\u001b[0m \u001b[43ms\u001b[49m\u001b[38;5;241;43m.\u001b[39;49m\u001b[43mpop\u001b[49m\u001b[43m(\u001b[49m\u001b[43m)\u001b[49m\n",
      "Cell \u001b[0;32mIn[32], line 9\u001b[0m, in \u001b[0;36mListStack.pop\u001b[0;34m(self)\u001b[0m\n\u001b[1;32m      8\u001b[0m \u001b[38;5;28;01mdef\u001b[39;00m \u001b[38;5;21mpop\u001b[39m(\u001b[38;5;28mself\u001b[39m) \u001b[38;5;241m-\u001b[39m\u001b[38;5;241m>\u001b[39m T:\n\u001b[0;32m----> 9\u001b[0m     \u001b[38;5;28;01mreturn\u001b[39;00m \u001b[38;5;28;43mself\u001b[39;49m\u001b[38;5;241;43m.\u001b[39;49m\u001b[43m_a\u001b[49m\u001b[38;5;241;43m.\u001b[39;49m\u001b[43mpop\u001b[49m\u001b[43m(\u001b[49m\u001b[43m)\u001b[49m\n",
      "\u001b[0;31mIndexError\u001b[0m: pop from empty list"
     ]
    }
   ],
   "source": [
    "s = ListStack()\n",
    "s.push(5)\n",
    "s.pop()\n",
    "s.pop()"
   ]
  },
  {
   "cell_type": "code",
   "execution_count": 36,
   "id": "aedd5073",
   "metadata": {},
   "outputs": [],
   "source": [
    "class AnotherStack[T: object](ListStack):\n",
    "    def pop(self) -> T:\n",
    "        try:\n",
    "            return self._a.pop()\n",
    "        except IndexError:\n",
    "            raise RuntimeError(\"pop from empty stack\")"
   ]
  },
  {
   "cell_type": "code",
   "execution_count": 37,
   "id": "5a11c28c",
   "metadata": {},
   "outputs": [
    {
     "ename": "RuntimeError",
     "evalue": "pop from empty stack",
     "output_type": "error",
     "traceback": [
      "\u001b[0;31m---------------------------------------------------------------------------\u001b[0m",
      "\u001b[0;31mIndexError\u001b[0m                                Traceback (most recent call last)",
      "Cell \u001b[0;32mIn[36], line 4\u001b[0m, in \u001b[0;36mAnotherStack.pop\u001b[0;34m(self)\u001b[0m\n\u001b[1;32m      3\u001b[0m \u001b[38;5;28;01mtry\u001b[39;00m:\n\u001b[0;32m----> 4\u001b[0m     \u001b[38;5;28;01mreturn\u001b[39;00m \u001b[38;5;28;43mself\u001b[39;49m\u001b[38;5;241;43m.\u001b[39;49m\u001b[43m_a\u001b[49m\u001b[38;5;241;43m.\u001b[39;49m\u001b[43mpop\u001b[49m\u001b[43m(\u001b[49m\u001b[43m)\u001b[49m\n\u001b[1;32m      5\u001b[0m \u001b[38;5;28;01mexcept\u001b[39;00m \u001b[38;5;167;01mIndexError\u001b[39;00m:\n",
      "\u001b[0;31mIndexError\u001b[0m: pop from empty list",
      "\nDuring handling of the above exception, another exception occurred:\n",
      "\u001b[0;31mRuntimeError\u001b[0m                              Traceback (most recent call last)",
      "Cell \u001b[0;32mIn[37], line 4\u001b[0m\n\u001b[1;32m      2\u001b[0m s\u001b[38;5;241m.\u001b[39mpush(\u001b[38;5;241m5\u001b[39m)\n\u001b[1;32m      3\u001b[0m s\u001b[38;5;241m.\u001b[39mpop()\n\u001b[0;32m----> 4\u001b[0m \u001b[43ms\u001b[49m\u001b[38;5;241;43m.\u001b[39;49m\u001b[43mpop\u001b[49m\u001b[43m(\u001b[49m\u001b[43m)\u001b[49m\n",
      "Cell \u001b[0;32mIn[36], line 6\u001b[0m, in \u001b[0;36mAnotherStack.pop\u001b[0;34m(self)\u001b[0m\n\u001b[1;32m      4\u001b[0m     \u001b[38;5;28;01mreturn\u001b[39;00m \u001b[38;5;28mself\u001b[39m\u001b[38;5;241m.\u001b[39m_a\u001b[38;5;241m.\u001b[39mpop()\n\u001b[1;32m      5\u001b[0m \u001b[38;5;28;01mexcept\u001b[39;00m \u001b[38;5;167;01mIndexError\u001b[39;00m:\n\u001b[0;32m----> 6\u001b[0m     \u001b[38;5;28;01mraise\u001b[39;00m \u001b[38;5;167;01mRuntimeError\u001b[39;00m(\u001b[38;5;124m\"\u001b[39m\u001b[38;5;124mpop from empty stack\u001b[39m\u001b[38;5;124m\"\u001b[39m)\n",
      "\u001b[0;31mRuntimeError\u001b[0m: pop from empty stack"
     ]
    }
   ],
   "source": [
    "s = AnotherStack()\n",
    "s.push(5)\n",
    "s.pop()\n",
    "s.pop()"
   ]
  },
  {
   "cell_type": "markdown",
   "id": "2e92da5a",
   "metadata": {},
   "source": [
    "# Очередь"
   ]
  },
  {
   "cell_type": "markdown",
   "id": "fe394f55",
   "metadata": {},
   "source": [
    "Абстрактный тип данных «очередь»\n",
    "- enqueue(item) – добавление нового элемента в очередь.\n",
    "- dequeue() – удаление и возврат очередного элемента в порядке «первым вошел, первым вышел» (First In First Out – FIFO).\n",
    "- peek() – возврат (без удаления) очередного элемента в очереди в порядке FIFO.\n",
    "- \\_\\_len()\\_\\_ – возврат числа элементов в очереди.\n",
    "- isempty() – возврат True, если в очереди нет элементов, иначе возврат False."
   ]
  },
  {
   "cell_type": "markdown",
   "id": "c1b15e13",
   "metadata": {},
   "source": [
    "Сложность dequeue линия"
   ]
  },
  {
   "cell_type": "code",
   "execution_count": 38,
   "id": "0c03001c",
   "metadata": {},
   "outputs": [],
   "source": [
    "class ListQueueSimple[T: object]:\n",
    "    def __init__(self):\n",
    "        self._a: list[T] = []\n",
    "        \n",
    "    def enqueue(self, item: T) -> None:\n",
    "        self._a.append(item)\n",
    "        \n",
    "    def dequeue(self) -> T:\n",
    "        return self._a.pop(0)\n",
    "    \n",
    "    def peek(self) -> T:\n",
    "        return self._a[0]\n",
    "    \n",
    "    def __len__(self) -> int:\n",
    "        return len(self._a)\n",
    "    \n",
    "    def isempty(self) -> bool:\n",
    "        return len(self) == 0"
   ]
  },
  {
   "cell_type": "markdown",
   "id": "d1e678b4",
   "metadata": {},
   "source": [
    "Сложность dequeue константа, но мы не удаляем элементы"
   ]
  },
  {
   "cell_type": "code",
   "execution_count": 10,
   "id": "e66c3b3f",
   "metadata": {},
   "outputs": [],
   "source": [
    "class ListQueueFakeDelete[T]:\n",
    "    def __init__(self):\n",
    "        self._head: int = 0\n",
    "        self._a: list[T] = []\n",
    "        \n",
    "    def enqueue(self, item: T) -> None:\n",
    "        self._a.append(item)\n",
    "        \n",
    "    def peek(self) -> T:\n",
    "        return self._a[self._head]\n",
    "    \n",
    "    def dequeue(self) -> T:\n",
    "        item: T = self.peek()\n",
    "        self._head += 1\n",
    "        return item\n",
    "    \n",
    "    def __len__(self) -> int:\n",
    "        return len(self._a) - self._head\n",
    "    \n",
    "    def isempty(self) -> bool:\n",
    "        return len(self) == 0"
   ]
  },
  {
   "cell_type": "markdown",
   "id": "6bc27796",
   "metadata": {},
   "source": [
    "удаляем элементы когда удаленных накапливается половина"
   ]
  },
  {
   "cell_type": "code",
   "execution_count": 17,
   "id": "a0b48440",
   "metadata": {},
   "outputs": [],
   "source": [
    "class ListQueue[T: object](ListQueueFakeDelete):\n",
    "    def dequeue(self) -> T:\n",
    "        item: list[T] = self._a[self._head]\n",
    "        self._head += 1\n",
    "        if self._head > len(self._a)//2:\n",
    "            self._a = self._a[self._head:]\n",
    "            self._head = 0\n",
    "        return item"
   ]
  },
  {
   "cell_type": "markdown",
   "id": "0f5f8231",
   "metadata": {},
   "source": [
    "# Деки"
   ]
  },
  {
   "cell_type": "markdown",
   "id": "57d403fb",
   "metadata": {},
   "source": [
    "Абстрактный тип данных «дек»\n",
    "- addfirst(item) – добавляет элемент item в начало дека.\n",
    "- addlast(item) – добавляет элемент item в конец дека.\n",
    "- removefirst(item) – удаляет и возвращает первый элемент в деке.\n",
    "- removelast(item) – удаляет и возвращает последний элемент в деке.\n",
    "- len – возвращает число элементов в деке."
   ]
  },
  {
   "cell_type": "markdown",
   "id": "46118017",
   "metadata": {},
   "source": [
    "addfirst - медленная"
   ]
  },
  {
   "cell_type": "code",
   "execution_count": 18,
   "id": "cb2e7434",
   "metadata": {},
   "outputs": [],
   "source": [
    "class ListDeque[T: object]:\n",
    "    def __init__(self):\n",
    "        self._a: list[T] = []\n",
    "        \n",
    "    def addfirst(self, item: T) -> None:\n",
    "        self._a.insert(0, item)\n",
    "        \n",
    "    def addlast(self, item: T) -> None:\n",
    "        self._a.append(item)\n",
    "        \n",
    "    def removefirst(self) -> T:\n",
    "        return self._a.pop(0)\n",
    "    \n",
    "    def removelast(self) -> T:\n",
    "        return self._a.pop()\n",
    "    \n",
    "    def __len__(self) -> int:\n",
    "        return len(self._a)"
   ]
  },
  {
   "cell_type": "code",
   "execution_count": 41,
   "id": "2d1294d8",
   "metadata": {},
   "outputs": [
    {
     "data": {
      "text/plain": [
       "(True, True, True)"
      ]
     },
     "execution_count": 41,
     "metadata": {},
     "output_type": "execute_result"
    }
   ],
   "source": [
    "isinstance(5, object), isinstance(ListDeque(), object), isinstance(ListDeque, object)"
   ]
  },
  {
   "cell_type": "markdown",
   "id": "c7651bbe",
   "metadata": {},
   "source": [
    "# Связные списки"
   ]
  },
  {
   "cell_type": "code",
   "execution_count": 43,
   "id": "668e4fe8",
   "metadata": {},
   "outputs": [],
   "source": [
    "from typing import Self\n",
    "\n",
    "class ListNode[T: object]:\n",
    "    def __init__(self, data: T, link: Self|None = None) -> None:\n",
    "        self.data: T = data\n",
    "        self.link: Self|None = link\n",
    "        \n",
    "     "
   ]
  },
  {
   "cell_type": "code",
   "execution_count": 46,
   "id": "b1ad24eb",
   "metadata": {},
   "outputs": [],
   "source": [
    "   \n",
    "class LinkedList[T: object]:\n",
    "    def __init__(self):\n",
    "        self._head: ListNode|None = None\n",
    "        \n",
    "    def addfirst(self, item: T):\n",
    "        self._head = ListNode(item, self._head)\n",
    "        \n",
    "    def removefirst(self):\n",
    "        try:\n",
    "            item: T = self._head.data\n",
    "            self._head = self._head.link\n",
    "        except AttributeError:\n",
    "            raise RuntimeError(\"empty linked list\")\n",
    "        return item"
   ]
  },
  {
   "cell_type": "code",
   "execution_count": 47,
   "id": "09b485b4",
   "metadata": {},
   "outputs": [
    {
     "ename": "RuntimeError",
     "evalue": "empty linked list",
     "output_type": "error",
     "traceback": [
      "\u001b[0;31m---------------------------------------------------------------------------\u001b[0m",
      "\u001b[0;31mAttributeError\u001b[0m                            Traceback (most recent call last)",
      "Cell \u001b[0;32mIn[46], line 10\u001b[0m, in \u001b[0;36mLinkedList.removefirst\u001b[0;34m(self)\u001b[0m\n\u001b[1;32m      9\u001b[0m \u001b[38;5;28;01mtry\u001b[39;00m:\n\u001b[0;32m---> 10\u001b[0m     item: T \u001b[38;5;241m=\u001b[39m \u001b[38;5;28;43mself\u001b[39;49m\u001b[38;5;241;43m.\u001b[39;49m\u001b[43m_head\u001b[49m\u001b[38;5;241;43m.\u001b[39;49m\u001b[43mdata\u001b[49m\n\u001b[1;32m     11\u001b[0m     \u001b[38;5;28mself\u001b[39m\u001b[38;5;241m.\u001b[39m_head \u001b[38;5;241m=\u001b[39m \u001b[38;5;28mself\u001b[39m\u001b[38;5;241m.\u001b[39m_head\u001b[38;5;241m.\u001b[39mlink\n",
      "\u001b[0;31mAttributeError\u001b[0m: 'NoneType' object has no attribute 'data'",
      "\nDuring handling of the above exception, another exception occurred:\n",
      "\u001b[0;31mRuntimeError\u001b[0m                              Traceback (most recent call last)",
      "Cell \u001b[0;32mIn[47], line 2\u001b[0m\n\u001b[1;32m      1\u001b[0m ll \u001b[38;5;241m=\u001b[39m LinkedList()\n\u001b[0;32m----> 2\u001b[0m \u001b[43mll\u001b[49m\u001b[38;5;241;43m.\u001b[39;49m\u001b[43mremovefirst\u001b[49m\u001b[43m(\u001b[49m\u001b[43m)\u001b[49m\n",
      "Cell \u001b[0;32mIn[46], line 13\u001b[0m, in \u001b[0;36mLinkedList.removefirst\u001b[0;34m(self)\u001b[0m\n\u001b[1;32m     11\u001b[0m     \u001b[38;5;28mself\u001b[39m\u001b[38;5;241m.\u001b[39m_head \u001b[38;5;241m=\u001b[39m \u001b[38;5;28mself\u001b[39m\u001b[38;5;241m.\u001b[39m_head\u001b[38;5;241m.\u001b[39mlink\n\u001b[1;32m     12\u001b[0m \u001b[38;5;28;01mexcept\u001b[39;00m \u001b[38;5;167;01mAttributeError\u001b[39;00m:\n\u001b[0;32m---> 13\u001b[0m     \u001b[38;5;28;01mraise\u001b[39;00m \u001b[38;5;167;01mRuntimeError\u001b[39;00m(\u001b[38;5;124m\"\u001b[39m\u001b[38;5;124mempty linked list\u001b[39m\u001b[38;5;124m\"\u001b[39m)\n\u001b[1;32m     14\u001b[0m \u001b[38;5;28;01mreturn\u001b[39;00m item\n",
      "\u001b[0;31mRuntimeError\u001b[0m: empty linked list"
     ]
    }
   ],
   "source": [
    "ll = LinkedList()\n",
    "ll.removefirst()"
   ]
  },
  {
   "cell_type": "code",
   "execution_count": null,
   "id": "c759daf3",
   "metadata": {},
   "outputs": [],
   "source": [
    "class LinkedList[T: object]:\n",
    "    def __init__(self) -> None:\n",
    "        self._head: ListNode|None = None\n",
    "        \n",
    "    def addfirst(self, item: T) -> None:\n",
    "        self._head = ListNode(item, self._head)\n",
    "        \n",
    "    def addlast(self, item: T) -> None:\n",
    "        if self._head is None:\n",
    "            self.addfirst(item)\n",
    "        else:\n",
    "            current_node: ListNode = self._head\n",
    "            while current_node.link is not None:\n",
    "                current_node = current_node.link\n",
    "            current_node.link = ListNode(item)\n",
    "            \n",
    "    def removefirst(self) -> T:\n",
    "        item: T = self._head.data\n",
    "        self._head = self._head.link\n",
    "        return item\n",
    "     \n",
    "    def removelast(self) -> T:\n",
    "        if self._head.link is None:\n",
    "            return self.removefirst()\n",
    "        else:\n",
    "            current_node: ListNode = self._head\n",
    "            while current_node.link.link is not None:\n",
    "                current_node = current_node.link\n",
    "            item: T = current_node.link.data\n",
    "            current_node.link = None\n",
    "            return item"
   ]
  },
  {
   "cell_type": "code",
   "execution_count": null,
   "id": "b7379d47",
   "metadata": {},
   "outputs": [],
   "source": [
    "class LinkedList:\n",
    "    def __init__(self):\n",
    "        self._head = None\n",
    "        self._tail = None\n",
    "        \n",
    "    def addfirst(self, item):\n",
    "        self._head = ListNode(item, self._head)\n",
    "        if self._tail is None: \n",
    "            self._tail = self._head\n",
    "            \n",
    "    def addlast(self, item):\n",
    "        if self._head is None:\n",
    "            self.addfirst(item)\n",
    "        else:\n",
    "            self._tail.link = ListNode(item)\n",
    "            self._tail = self._tail.link\n",
    "        \n",
    "    def removefirst(self):\n",
    "        item = self._head.data\n",
    "        self._head = self._head.link\n",
    "        if self._head is None: \n",
    "            self._tail = None\n",
    "        return item\n",
    "    \n",
    "    def removelast(self):\n",
    "        if self._head is self._tail:\n",
    "            return self.removefirst()\n",
    "        else:\n",
    "            currentnode = self._head\n",
    "            while currentnode.link is not self._tail:\n",
    "                currentnode = currentnode.link\n",
    "            item = self._tail.data\n",
    "            self._tail = currentnode\n",
    "            self._tail.link = None\n",
    "            return item"
   ]
  },
  {
   "cell_type": "code",
   "execution_count": 52,
   "id": "8b5888f9",
   "metadata": {},
   "outputs": [
    {
     "name": "stdout",
     "output_type": "stream",
     "text": [
      "5\n",
      "6\n"
     ]
    }
   ],
   "source": [
    "ppp = 5\n",
    "\n",
    "def f():\n",
    "    global ppp\n",
    "    ppp = 6\n",
    "\n",
    "print(ppp)\n",
    "f()\n",
    "print(ppp)"
   ]
  },
  {
   "cell_type": "code",
   "execution_count": 56,
   "id": "db119269",
   "metadata": {},
   "outputs": [],
   "source": [
    "class LinkedList:\n",
    "    def __init__(self):\n",
    "        self._head = None\n",
    "        self._tail = None\n",
    "        self._length = 0\n",
    "        \n",
    "    def addfirst(self, item):\n",
    "        self._head = ListNode(item, self._head)\n",
    "        if self._tail is None: \n",
    "            self._tail = self._head\n",
    "        self._length += 1\n",
    "        \n",
    "    def addlast(self, item):\n",
    "        if self._head is None:\n",
    "            self.addfirst(item)\n",
    "        else:\n",
    "            self._tail.link = ListNode(item)\n",
    "            self._tail = self._tail.link\n",
    "            self._length += 1\n",
    "    \n",
    "    def removefirst(self):\n",
    "        item = self._head.data\n",
    "        self._head = self._head.link\n",
    "        if self._head is None: \n",
    "            self._tail = None\n",
    "        self._length -= 1\n",
    "        return item\n",
    "\n",
    "    def removelast(self):\n",
    "        if self._head is self._tail:\n",
    "            return self.removefirst()\n",
    "        else:\n",
    "            currentnode = self._head\n",
    "            while currentnode.link is not self._tail:\n",
    "                currentnode = currentnode.link\n",
    "            item = self._tail.data\n",
    "            self._tail = currentnode\n",
    "            self._tail.link = None\n",
    "            self._length -= 1\n",
    "            return item\n",
    "\n",
    "    def __len__(self):\n",
    "        return self._length"
   ]
  },
  {
   "cell_type": "code",
   "execution_count": null,
   "id": "47831d8d",
   "metadata": {},
   "outputs": [],
   "source": [
    "class LinkedQueue:\n",
    "    def __init__(self):\n",
    "        self._L = LinkedList()\n",
    "        \n",
    "    def enqueue(self, item):\n",
    "        self._L.addlast(item)\n",
    "        \n",
    "    def dequeue(self):\n",
    "        return self._L.removefirst()\n",
    "    \n",
    "    def peek(self):\n",
    "        item = self._L.removefirst()\n",
    "        self._L.addfirst(item)\n",
    "        return item\n",
    "    \n",
    "    def __len__(self):\n",
    "        return len(self._L)\n",
    "    \n",
    "    def isempty(self):\n",
    "        return len(self) == 0"
   ]
  },
  {
   "cell_type": "code",
   "execution_count": null,
   "id": "01654b5e",
   "metadata": {},
   "outputs": [],
   "source": [
    "cw241005/\n",
    "linked_list.py\n",
    "\n",
    "LinkedList\n",
    "ListNode"
   ]
  },
  {
   "cell_type": "code",
   "execution_count": null,
   "id": "111c5e3c",
   "metadata": {},
   "outputs": [],
   "source": [
    "(data, link, link_backward) -> (data, link, link_backward) -> ... -> (data, link, link_backward)"
   ]
  },
  {
   "cell_type": "code",
   "execution_count": 53,
   "id": "acff7afa",
   "metadata": {},
   "outputs": [
    {
     "name": "stdout",
     "output_type": "stream",
     "text": [
      "<__main__.A object at 0x705c0c217aa0>\n"
     ]
    }
   ],
   "source": [
    "class A:\n",
    "    ...\n",
    "    \n",
    "a = A()\n",
    "print(a)"
   ]
  },
  {
   "cell_type": "markdown",
   "id": "0d84b774",
   "metadata": {},
   "source": [
    "# Unittest"
   ]
  },
  {
   "cell_type": "code",
   "execution_count": 13,
   "id": "8ea7a5c7",
   "metadata": {},
   "outputs": [],
   "source": [
    "# main.py\n",
    "def add(a, b):\n",
    "    return a + b"
   ]
  },
  {
   "cell_type": "code",
   "execution_count": 55,
   "id": "d3e4b242",
   "metadata": {},
   "outputs": [
    {
     "name": "stderr",
     "output_type": "stream",
     "text": [
      "test_add (__main__.TestNotebook.test_add) ... ok\n",
      "test_add2 (__main__.TestNotebook.test_add2) ... ok\n",
      "\n",
      "----------------------------------------------------------------------\n",
      "Ran 2 tests in 0.002s\n",
      "\n",
      "OK\n"
     ]
    },
    {
     "data": {
      "text/plain": [
       "<unittest.main.TestProgram at 0x705c06ba2d80>"
      ]
     },
     "execution_count": 55,
     "metadata": {},
     "output_type": "execute_result"
    }
   ],
   "source": [
    "import unittest\n",
    "# from main import add\n",
    "\n",
    "class TestNotebook(unittest.TestCase):\n",
    "    \n",
    "    def test_add(self):\n",
    "        self.assertEqual(add(2, 2), 4)\n",
    "    \n",
    "    def test_add2(self):\n",
    "        self.assertEqual(add(3,2), 5)\n",
    "        \n",
    "# if __name__ == \"__main__\":\n",
    "#     unittest.main()\n",
    "unittest.main(argv=[''], verbosity=2, exit=False)"
   ]
  },
  {
   "cell_type": "code",
   "execution_count": 60,
   "id": "2724c25e",
   "metadata": {},
   "outputs": [
    {
     "name": "stderr",
     "output_type": "stream",
     "text": [
      "test_add_first (__main__.TestLinkedList.test_add_first) ... ok\n",
      "test_add_first2 (__main__.TestLinkedList.test_add_first2) ... ok\n",
      "test_add (__main__.TestNotebook.test_add) ... ok\n",
      "test_add2 (__main__.TestNotebook.test_add2) ... ok\n",
      "\n",
      "----------------------------------------------------------------------\n",
      "Ran 4 tests in 0.004s\n",
      "\n",
      "OK\n"
     ]
    },
    {
     "data": {
      "text/plain": [
       "<unittest.main.TestProgram at 0x705c06ba2b10>"
      ]
     },
     "execution_count": 60,
     "metadata": {},
     "output_type": "execute_result"
    }
   ],
   "source": [
    "# test_linked_list.py\n",
    "\n",
    "import unittest\n",
    "# from linked_list import LinkedList\n",
    "\n",
    "class TestLinkedList(unittest.TestCase):\n",
    "#     def setUp(self):\n",
    "#         self.ll = LinkedList()\n",
    "    \n",
    "    def test_add_first(self):\n",
    "        ll = LinkedList()\n",
    "        ll.addfirst(5)\n",
    "        self.assertEqual(ll._head.data, 5)\n",
    "        \n",
    "    def test_add_first2(self):\n",
    "        ll = LinkedList()\n",
    "        ll.addfirst(5)\n",
    "        ll.addfirst(10)\n",
    "        self.assertEqual((ll._head.data, ll._head.link.data), (10, 5))\n",
    "        \n",
    "# if __name__ == \"__main__\":\n",
    "#     unittest.main()\n",
    "unittest.main(argv=[''], verbosity=2, exit=False)"
   ]
  },
  {
   "cell_type": "markdown",
   "id": "8a643592",
   "metadata": {},
   "source": [
    "# ДЗ"
   ]
  },
  {
   "cell_type": "markdown",
   "id": "26c95d52",
   "metadata": {},
   "source": [
    "dz241005/\n",
    "\n",
    "Даны файлы (искать в lec20241005/ скопировать к себе в дз)\n",
    "linked_list.py\n",
    "test_linked_list.py\n",
    "\n",
    "Нужно в файле linked_list.py реализовать все методы которые не реализованы (вместо содержимого три точки), так чтобы тесты проходили и с учетом описания в документации и комментариях.\n",
    "\n",
    "Задачи на литкоде решать с помощью стека, очереди и связного списка написанных в linked_list.py. можно дорабатывать под нужды задачи.\n",
    "\n",
    "1700.py - решать очередью\n",
    "https://leetcode.com/problems/number-of-students-unable-to-eat-lunch/description/?envType=problem-list-v2&envId=array&favoriteSlug=&difficulty=EASY\n",
    "\n",
    "705.py - решать связным списком\n",
    "https://leetcode.com/problems/design-hashset/description/?envType=problem-list-v2&envId=array&favoriteSlug=&difficulty=EASY\n",
    "\n",
    "496.py - решать стеком\n",
    "https://leetcode.com/problems/next-greater-element-i/description/?envType=problem-list-v2&envId=array&favoriteSlug=&difficulty=EASY\n",
    "\n"
   ]
  }
 ],
 "metadata": {
  "kernelspec": {
   "display_name": "Python 3 (ipykernel)",
   "language": "python",
   "name": "python3"
  },
  "language_info": {
   "codemirror_mode": {
    "name": "ipython",
    "version": 3
   },
   "file_extension": ".py",
   "mimetype": "text/x-python",
   "name": "python",
   "nbconvert_exporter": "python",
   "pygments_lexer": "ipython3",
   "version": "3.12.5"
  }
 },
 "nbformat": 4,
 "nbformat_minor": 5
}
