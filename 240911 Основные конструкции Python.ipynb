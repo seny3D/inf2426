{
 "cells": [
  {
   "cell_type": "code",
   "execution_count": 1,
   "id": "22561447",
   "metadata": {},
   "outputs": [],
   "source": [
    "from keyword import kwlist, softkwlist"
   ]
  },
  {
   "cell_type": "code",
   "execution_count": 2,
   "id": "0660005e",
   "metadata": {},
   "outputs": [
    {
     "data": {
      "text/plain": [
       "['False',\n",
       " 'None',\n",
       " 'True',\n",
       " 'and',\n",
       " 'as',\n",
       " 'assert',\n",
       " 'async',\n",
       " 'await',\n",
       " 'break',\n",
       " 'class',\n",
       " 'continue',\n",
       " 'def',\n",
       " 'del',\n",
       " 'elif',\n",
       " 'else',\n",
       " 'except',\n",
       " 'finally',\n",
       " 'for',\n",
       " 'from',\n",
       " 'global',\n",
       " 'if',\n",
       " 'import',\n",
       " 'in',\n",
       " 'is',\n",
       " 'lambda',\n",
       " 'nonlocal',\n",
       " 'not',\n",
       " 'or',\n",
       " 'pass',\n",
       " 'raise',\n",
       " 'return',\n",
       " 'try',\n",
       " 'while',\n",
       " 'with',\n",
       " 'yield']"
      ]
     },
     "execution_count": 2,
     "metadata": {},
     "output_type": "execute_result"
    }
   ],
   "source": [
    "kwlist"
   ]
  },
  {
   "cell_type": "code",
   "execution_count": 3,
   "id": "f1a38252",
   "metadata": {},
   "outputs": [
    {
     "data": {
      "text/plain": [
       "['_', 'case', 'match', 'type']"
      ]
     },
     "execution_count": 3,
     "metadata": {},
     "output_type": "execute_result"
    }
   ],
   "source": [
    "softkwlist"
   ]
  },
  {
   "cell_type": "code",
   "execution_count": 24,
   "id": "32b4069b",
   "metadata": {},
   "outputs": [
    {
     "data": {
      "text/plain": [
       "{'pass'}"
      ]
     },
     "execution_count": 24,
     "metadata": {},
     "output_type": "execute_result"
    }
   ],
   "source": [
    "a = set(kwlist) - set(['None'])\n",
    "a = a - set(['pass'])\n",
    "a = a - set(['is'])\n",
    "a = a - set(['in'])\n",
    "a = a - set(['del'])\n",
    "a = a - set(['False', 'True'])\n",
    "a = a - set(['and', 'or', 'not'])\n",
    "a = a - set(['if', 'else', 'elif'])\n",
    "a = a - set(['import', 'from', 'as'])\n",
    "a = a - set(['async', 'await'])  # для асинхронных операций\n",
    "a = a - set(['for', 'while', 'continue', 'break'])\n",
    "a = a - set(['global', 'nonlocal'])  # не используем \n",
    "a = a - set(['try', 'catch', 'except', 'finally', 'assert', 'raise'])\n",
    "a = a - set(['def', 'lambda', 'return', 'yield'])\n",
    "a = a - set(['class'])\n",
    "a = a - set(['with'])\n",
    "a"
   ]
  },
  {
   "cell_type": "code",
   "execution_count": 76,
   "id": "8d2d551b",
   "metadata": {},
   "outputs": [
    {
     "ename": "SyntaxError",
     "evalue": "invalid syntax (935638655.py, line 1)",
     "output_type": "error",
     "traceback": [
      "\u001b[0;36m  Cell \u001b[0;32mIn[76], line 1\u001b[0;36m\u001b[0m\n\u001b[0;31m    type(in)\u001b[0m\n\u001b[0m         ^\u001b[0m\n\u001b[0;31mSyntaxError\u001b[0m\u001b[0;31m:\u001b[0m invalid syntax\n"
     ]
    }
   ],
   "source": [
    "type(in)"
   ]
  },
  {
   "cell_type": "code",
   "execution_count": 27,
   "id": "371c90c6",
   "metadata": {},
   "outputs": [
    {
     "data": {
      "text/plain": [
       "type"
      ]
     },
     "execution_count": 27,
     "metadata": {},
     "output_type": "execute_result"
    }
   ],
   "source": [
    "type(type)  # Тип, а так же функция возвращающая тип"
   ]
  },
  {
   "cell_type": "code",
   "execution_count": 26,
   "id": "fd09a269",
   "metadata": {},
   "outputs": [
    {
     "data": {
      "text/plain": [
       "NoneType"
      ]
     },
     "execution_count": 26,
     "metadata": {},
     "output_type": "execute_result"
    }
   ],
   "source": [
    "None # означает ничего\n",
    "type(None)"
   ]
  },
  {
   "cell_type": "code",
   "execution_count": 28,
   "id": "d648e2b1",
   "metadata": {},
   "outputs": [
    {
     "data": {
      "text/plain": [
       "(None, None)"
      ]
     },
     "execution_count": 28,
     "metadata": {},
     "output_type": "execute_result"
    }
   ],
   "source": [
    "# Затычка в пустые функции, означает ничего не делать\n",
    "def f():\n",
    "    pass\n",
    "\n",
    "def f1():\n",
    "    ...\n",
    "    \n",
    "f(), f1()"
   ]
  },
  {
   "cell_type": "code",
   "execution_count": 77,
   "id": "9d7c7854",
   "metadata": {},
   "outputs": [
    {
     "data": {
      "text/plain": [
       "(False, True, 132959563060416, 132959373750528, 132959563060416)"
      ]
     },
     "execution_count": 77,
     "metadata": {},
     "output_type": "execute_result"
    }
   ],
   "source": [
    "# is сравнивает один ли это и тот же объект в памяти\n",
    "# id функция возвращает идентификатор объекта\n",
    "a = [1,2,3]\n",
    "b = [1,2,3]\n",
    "c = a\n",
    "a is b, a is c, id(a), id(b), id(c)"
   ]
  },
  {
   "cell_type": "code",
   "execution_count": 78,
   "id": "0518da9c",
   "metadata": {},
   "outputs": [
    {
     "data": {
      "text/plain": [
       "True"
      ]
     },
     "execution_count": 78,
     "metadata": {},
     "output_type": "execute_result"
    }
   ],
   "source": [
    "a == b"
   ]
  },
  {
   "cell_type": "code",
   "execution_count": 32,
   "id": "f0d792b3",
   "metadata": {},
   "outputs": [
    {
     "data": {
      "text/plain": [
       "(False, True, False, True, True)"
      ]
     },
     "execution_count": 32,
     "metadata": {},
     "output_type": "execute_result"
    }
   ],
   "source": [
    "# in проверяет вхождение элемента в итерируемый объект\n",
    "5 in [1,2], 5 in set([1,5]), 5 in {4:5, 3:1}, 5 in (5,), 5 in range(5, 6)"
   ]
  },
  {
   "cell_type": "code",
   "execution_count": 33,
   "id": "873f0cc1",
   "metadata": {},
   "outputs": [
    {
     "ename": "NameError",
     "evalue": "name 'a' is not defined",
     "output_type": "error",
     "traceback": [
      "\u001b[0;31m---------------------------------------------------------------------------\u001b[0m",
      "\u001b[0;31mNameError\u001b[0m                                 Traceback (most recent call last)",
      "Cell \u001b[0;32mIn[33], line 3\u001b[0m\n\u001b[1;32m      1\u001b[0m a \u001b[38;5;241m=\u001b[39m \u001b[38;5;241m5\u001b[39m\n\u001b[1;32m      2\u001b[0m \u001b[38;5;28;01mdel\u001b[39;00m(a)\n\u001b[0;32m----> 3\u001b[0m b \u001b[38;5;241m=\u001b[39m \u001b[43ma\u001b[49m\n",
      "\u001b[0;31mNameError\u001b[0m: name 'a' is not defined"
     ]
    }
   ],
   "source": [
    "a = 5\n",
    "del(a)  # удаляет переменные\n",
    "b = a"
   ]
  },
  {
   "cell_type": "code",
   "execution_count": 79,
   "id": "9a5eaf1f",
   "metadata": {},
   "outputs": [
    {
     "data": {
      "text/plain": [
       "(2, 0, bool, 2)"
      ]
     },
     "execution_count": 79,
     "metadata": {},
     "output_type": "execute_result"
    }
   ],
   "source": [
    "True + True, False + False, type(True), 1 + True"
   ]
  },
  {
   "cell_type": "code",
   "execution_count": 38,
   "id": "e6b29cab",
   "metadata": {},
   "outputs": [
    {
     "data": {
      "text/plain": [
       "(False, False, True)"
      ]
     },
     "execution_count": 38,
     "metadata": {},
     "output_type": "execute_result"
    }
   ],
   "source": [
    "# логические операции\n",
    "not True, False and True, False or True"
   ]
  },
  {
   "cell_type": "code",
   "execution_count": 41,
   "id": "306fd61b",
   "metadata": {},
   "outputs": [
    {
     "data": {
      "text/plain": [
       "False"
      ]
     },
     "execution_count": 41,
     "metadata": {},
     "output_type": "execute_result"
    }
   ],
   "source": [
    "5 not in [1,5]"
   ]
  },
  {
   "cell_type": "code",
   "execution_count": 80,
   "id": "3ed9cbf1",
   "metadata": {},
   "outputs": [
    {
     "data": {
      "text/plain": [
       "(False, True, True, False, False, False, False, False, True, True)"
      ]
     },
     "execution_count": 80,
     "metadata": {},
     "output_type": "execute_result"
    }
   ],
   "source": [
    "bool(0), bool(3), bool(-3), bool([]), bool({}), bool(set()), bool(tuple()), bool(''), bool([1]), bool([[]])"
   ]
  },
  {
   "cell_type": "code",
   "execution_count": 83,
   "id": "b57e4b4f",
   "metadata": {},
   "outputs": [
    {
     "name": "stdout",
     "output_type": "stream",
     "text": [
      "6\n",
      "input 6\n"
     ]
    }
   ],
   "source": [
    "# условный оператор\n",
    "a = int(input())\n",
    "if a == 5:\n",
    "    print('input', 5)\n",
    "elif a == 6:\n",
    "    print('input', 6)\n",
    "elif a == 7:\n",
    "    print('input', 7)\n",
    "else:\n",
    "    print('ha')"
   ]
  },
  {
   "cell_type": "code",
   "execution_count": 43,
   "id": "1da56ee9",
   "metadata": {},
   "outputs": [
    {
     "data": {
      "text/plain": [
       "-0.9589242746631385"
      ]
     },
     "execution_count": 43,
     "metadata": {},
     "output_type": "execute_result"
    }
   ],
   "source": [
    "import math\n",
    "\n",
    "math.sin(5)"
   ]
  },
  {
   "cell_type": "code",
   "execution_count": 44,
   "id": "7db3500b",
   "metadata": {},
   "outputs": [
    {
     "data": {
      "text/plain": [
       "-0.9589242746631385"
      ]
     },
     "execution_count": 44,
     "metadata": {},
     "output_type": "execute_result"
    }
   ],
   "source": [
    "from math import sin\n",
    "\n",
    "sin(5)"
   ]
  },
  {
   "cell_type": "code",
   "execution_count": 45,
   "id": "72cb1985",
   "metadata": {},
   "outputs": [
    {
     "data": {
      "text/plain": [
       "-0.9589242746631385"
      ]
     },
     "execution_count": 45,
     "metadata": {},
     "output_type": "execute_result"
    }
   ],
   "source": [
    "import math as m\n",
    "\n",
    "m.sin(5)"
   ]
  },
  {
   "cell_type": "code",
   "execution_count": null,
   "id": "39416ffc",
   "metadata": {},
   "outputs": [],
   "source": [
    "import pandas as pd\n",
    "import numpy as np"
   ]
  },
  {
   "cell_type": "code",
   "execution_count": null,
   "id": "d58c90bb",
   "metadata": {},
   "outputs": [],
   "source": [
    "# вечный цикл\n",
    "while True:\n",
    "    print('hi')"
   ]
  },
  {
   "cell_type": "code",
   "execution_count": 47,
   "id": "ab75a079",
   "metadata": {},
   "outputs": [
    {
     "data": {
      "text/plain": [
       "('aAa', '   aaa   ', 'aaa')"
      ]
     },
     "execution_count": 47,
     "metadata": {},
     "output_type": "execute_result"
    }
   ],
   "source": [
    "a = '   aAa   '\n",
    "a.strip(), a.lower(), a.strip().lower()"
   ]
  },
  {
   "cell_type": "code",
   "execution_count": 84,
   "id": "bfda4470",
   "metadata": {},
   "outputs": [
    {
     "name": "stdout",
     "output_type": "stream",
     "text": [
      "Купи слона!\n",
      "не хочу\n",
      "Все говорят: 'не хочу'. А ты купи слона!\n",
      "отстань!\n",
      "Все говорят: 'отстань!'. А ты купи слона!\n",
      "   enD\n"
     ]
    }
   ],
   "source": [
    "a = ''\n",
    "while a.strip().lower() != 'end':\n",
    "    if len(a.strip().lower()): \n",
    "        print(f\"Все говорят: '{a}'. А ты купи слона!\")\n",
    "    else:\n",
    "        print(\"Купи слона!\")\n",
    "    a = input()\n"
   ]
  },
  {
   "cell_type": "code",
   "execution_count": 85,
   "id": "03b2fd11",
   "metadata": {},
   "outputs": [
    {
     "name": "stdout",
     "output_type": "stream",
     "text": [
      "3\n",
      "2\n",
      "1\n"
     ]
    }
   ],
   "source": [
    "a = 3\n",
    "while a:\n",
    "    print(a)\n",
    "    a = a - 1"
   ]
  },
  {
   "cell_type": "code",
   "execution_count": 86,
   "id": "8471df0a",
   "metadata": {},
   "outputs": [
    {
     "data": {
      "text/plain": [
       "2"
      ]
     },
     "execution_count": 86,
     "metadata": {},
     "output_type": "execute_result"
    }
   ],
   "source": [
    "a = 3\n",
    "a -= 1  # a*=2, a+=, a/= ... \n",
    "a"
   ]
  },
  {
   "cell_type": "code",
   "execution_count": 87,
   "id": "02c0a58d",
   "metadata": {},
   "outputs": [
    {
     "name": "stdout",
     "output_type": "stream",
     "text": [
      "3\n",
      "2\n"
     ]
    }
   ],
   "source": [
    "a = 3\n",
    "while a:\n",
    "    print(a)\n",
    "    a = a - 1\n",
    "    if a == 1:\n",
    "        break"
   ]
  },
  {
   "cell_type": "code",
   "execution_count": 88,
   "id": "bc5463cd",
   "metadata": {},
   "outputs": [
    {
     "name": "stdout",
     "output_type": "stream",
     "text": [
      "> 3\n",
      "< 2\n",
      "\n",
      "> 2\n",
      "< 1\n",
      "\n",
      "> 1\n",
      "< 0\n",
      "\n"
     ]
    }
   ],
   "source": [
    "a = 3\n",
    "while a:\n",
    "    print(\">\", a)\n",
    "    a = a - 1\n",
    "    print(\"<\", a)\n",
    "    print()"
   ]
  },
  {
   "cell_type": "code",
   "execution_count": 90,
   "id": "6f6c642c",
   "metadata": {},
   "outputs": [
    {
     "name": "stdout",
     "output_type": "stream",
     "text": [
      "> 3\n",
      "> 2\n",
      "> 1\n"
     ]
    }
   ],
   "source": [
    "a = 3\n",
    "while a:\n",
    "    print(\">\", a)\n",
    "    a = a - 1\n",
    "    continue\n",
    "    print(\"<\", a)\n",
    "    print()"
   ]
  },
  {
   "cell_type": "code",
   "execution_count": 91,
   "id": "051cb777",
   "metadata": {},
   "outputs": [
    {
     "name": "stdout",
     "output_type": "stream",
     "text": [
      "> 3\n",
      "< 2\n",
      "\n",
      "> 2\n",
      "> 1\n",
      "< 0\n",
      "\n"
     ]
    }
   ],
   "source": [
    "a = 3\n",
    "while a:\n",
    "    print(\">\", a)\n",
    "    a = a - 1\n",
    "    if a == 1:\n",
    "        continue\n",
    "    print(\"<\", a)\n",
    "    print()"
   ]
  },
  {
   "cell_type": "code",
   "execution_count": 93,
   "id": "b39610ef",
   "metadata": {},
   "outputs": [
    {
     "name": "stdout",
     "output_type": "stream",
     "text": [
      "0\n"
     ]
    },
    {
     "ename": "ZeroDivisionError",
     "evalue": "division by zero",
     "output_type": "error",
     "traceback": [
      "\u001b[0;31m---------------------------------------------------------------------------\u001b[0m",
      "\u001b[0;31mZeroDivisionError\u001b[0m                         Traceback (most recent call last)",
      "Cell \u001b[0;32mIn[93], line 2\u001b[0m\n\u001b[1;32m      1\u001b[0m a \u001b[38;5;241m=\u001b[39m \u001b[38;5;28mint\u001b[39m(\u001b[38;5;28minput\u001b[39m())\n\u001b[0;32m----> 2\u001b[0m \u001b[38;5;28mprint\u001b[39m(\u001b[38;5;241;43m10\u001b[39;49m\u001b[38;5;241;43m/\u001b[39;49m\u001b[43ma\u001b[49m)\n\u001b[1;32m      3\u001b[0m \u001b[38;5;28mprint\u001b[39m(\u001b[38;5;124m\"\u001b[39m\u001b[38;5;124mКорректное завершение программы\u001b[39m\u001b[38;5;124m\"\u001b[39m)\n",
      "\u001b[0;31mZeroDivisionError\u001b[0m: division by zero"
     ]
    }
   ],
   "source": [
    "a = int(input())\n",
    "print(10/a)\n",
    "print(\"Корректное завершение программы\")"
   ]
  },
  {
   "cell_type": "code",
   "execution_count": 94,
   "id": "d21392b9",
   "metadata": {},
   "outputs": [
    {
     "name": "stdout",
     "output_type": "stream",
     "text": [
      "0\n",
      "Вы явно не выспались, на ноль делить нельзя!\n",
      "Корректное завершение программы\n"
     ]
    }
   ],
   "source": [
    "a = int(input())\n",
    "try:\n",
    "    print(10/a)\n",
    "except ZeroDivisionError:\n",
    "    print(\"Вы явно не выспались, на ноль делить нельзя!\")\n",
    "print(\"Корректное завершение программы\")"
   ]
  },
  {
   "cell_type": "code",
   "execution_count": 104,
   "id": "c4fa394a",
   "metadata": {},
   "outputs": [
    {
     "name": "stdout",
     "output_type": "stream",
     "text": [
      "ф\n"
     ]
    },
    {
     "ename": "ValueError",
     "evalue": "invalid literal for int() with base 10: 'ф'",
     "output_type": "error",
     "traceback": [
      "\u001b[0;31m---------------------------------------------------------------------------\u001b[0m",
      "\u001b[0;31mValueError\u001b[0m                                Traceback (most recent call last)",
      "Cell \u001b[0;32mIn[104], line 1\u001b[0m\n\u001b[0;32m----> 1\u001b[0m a \u001b[38;5;241m=\u001b[39m \u001b[38;5;28;43mint\u001b[39;49m\u001b[43m(\u001b[49m\u001b[38;5;28;43minput\u001b[39;49m\u001b[43m(\u001b[49m\u001b[43m)\u001b[49m\u001b[43m)\u001b[49m\n\u001b[1;32m      2\u001b[0m \u001b[38;5;28;01mtry\u001b[39;00m:\n\u001b[1;32m      3\u001b[0m     \u001b[38;5;28;01massert\u001b[39;00m a \u001b[38;5;129;01min\u001b[39;00m [\u001b[38;5;241m1\u001b[39m,\u001b[38;5;241m2\u001b[39m,\u001b[38;5;241m3\u001b[39m], \u001b[38;5;124m\"\u001b[39m\u001b[38;5;124mОшибка! Мне не нравится это значение!\u001b[39m\u001b[38;5;124m\"\u001b[39m\n",
      "\u001b[0;31mValueError\u001b[0m: invalid literal for int() with base 10: 'ф'"
     ]
    }
   ],
   "source": [
    "a = int(input())\n",
    "try:\n",
    "    assert a in [1,2,3], \"Ошибка! Мне не нравится это значение!\"\n",
    "    print(10/a)\n",
    "    raise(Exception(\"я устал я ухожу\"))\n",
    "    print(\"Вы явно не выспались, на ноль делить нельзя!\")\n",
    "except AssertionError as err:\n",
    "    print(\"Вы мне не нравитесь!\")\n",
    "    print(err)\n",
    "except Exception: \n",
    "    print(\"Ладно как-нибудь еще поработаю\")\n",
    "print(\"Корректное завершение программы\")"
   ]
  },
  {
   "cell_type": "code",
   "execution_count": null,
   "id": "c9ffafc5",
   "metadata": {},
   "outputs": [],
   "source": [
    "a = int(input())\n",
    "try:\n",
    "    print(10/a)\n",
    "except ZeroDivisionError:\n",
    "    print(\"Вы явно не выспались, на ноль делить нельзя!\")\n",
    "finally:\n",
    "    del a # можно что-то сделать, что важно в любом случае, есть ошибка или нет\n",
    "else:\n",
    "    print(\"ошибки нет\")\n",
    "print(\"Корректное завершение программы\")"
   ]
  },
  {
   "cell_type": "code",
   "execution_count": 110,
   "id": "17ac0e7b",
   "metadata": {},
   "outputs": [
    {
     "name": "stdout",
     "output_type": "stream",
     "text": [
      "> 4\n",
      "> 3\n",
      "> 2\n",
      "> 1\n",
      "< 2\n",
      "< 6\n",
      "< 24\n"
     ]
    },
    {
     "data": {
      "text/plain": [
       "24"
      ]
     },
     "execution_count": 110,
     "metadata": {},
     "output_type": "execute_result"
    }
   ],
   "source": [
    "import sys\n",
    " \n",
    "sys.setrecursionlimit(10**6)\n",
    "\n",
    "\n",
    "def f(a: int) -> int:\n",
    "    print(\">\", a)\n",
    "    if a == 1:\n",
    "        return 1\n",
    "    b = a * f(a-1)\n",
    "    print(\"<\", b)\n",
    "    return b\n",
    "    \n",
    "    \n",
    "f(4)"
   ]
  },
  {
   "cell_type": "code",
   "execution_count": 111,
   "id": "56a3edf7",
   "metadata": {},
   "outputs": [
    {
     "data": {
      "text/plain": [
       "9"
      ]
     },
     "execution_count": 111,
     "metadata": {},
     "output_type": "execute_result"
    }
   ],
   "source": [
    "d = {\n",
    "    'a': lambda x: x**2,\n",
    "    'b': lambda x: x + 2,\n",
    "}\n",
    "d['a'](3)"
   ]
  },
  {
   "cell_type": "code",
   "execution_count": 113,
   "id": "f5e638c1",
   "metadata": {},
   "outputs": [],
   "source": [
    "from typing import Callable\n",
    "\n",
    "def f(g: Callable) -> int|str:\n",
    "    return g(5) + g(7)"
   ]
  },
  {
   "cell_type": "code",
   "execution_count": 114,
   "id": "15351b6e",
   "metadata": {},
   "outputs": [],
   "source": [
    "def k(a: int):\n",
    "    return str(a)"
   ]
  },
  {
   "cell_type": "code",
   "execution_count": 116,
   "id": "4d55661a",
   "metadata": {},
   "outputs": [
    {
     "data": {
      "text/plain": [
       "('57', 74)"
      ]
     },
     "execution_count": 116,
     "metadata": {},
     "output_type": "execute_result"
    }
   ],
   "source": [
    "f(k), f(lambda x: x**2)"
   ]
  },
  {
   "cell_type": "code",
   "execution_count": 117,
   "id": "ac1752dd",
   "metadata": {},
   "outputs": [
    {
     "data": {
      "text/plain": [
       "4"
      ]
     },
     "execution_count": 117,
     "metadata": {},
     "output_type": "execute_result"
    }
   ],
   "source": [
    "f = lambda x: x+2\n",
    "\n",
    "f(2)"
   ]
  },
  {
   "cell_type": "code",
   "execution_count": 132,
   "id": "a734bc47",
   "metadata": {},
   "outputs": [],
   "source": [
    "def f(n: int) -> int:\n",
    "    while n:\n",
    "        print(\">\", n)\n",
    "        yield n\n",
    "        print(\"<\", n)\n",
    "        n -= 1"
   ]
  },
  {
   "cell_type": "code",
   "execution_count": 136,
   "id": "f702c012",
   "metadata": {},
   "outputs": [],
   "source": [
    "a = f(5)"
   ]
  },
  {
   "cell_type": "code",
   "execution_count": 134,
   "id": "5f5518fb",
   "metadata": {},
   "outputs": [
    {
     "name": "stdout",
     "output_type": "stream",
     "text": [
      "> 5\n"
     ]
    },
    {
     "data": {
      "text/plain": [
       "5"
      ]
     },
     "execution_count": 134,
     "metadata": {},
     "output_type": "execute_result"
    }
   ],
   "source": [
    "next(a)"
   ]
  },
  {
   "cell_type": "code",
   "execution_count": 135,
   "id": "ef5f5e11",
   "metadata": {},
   "outputs": [
    {
     "name": "stdout",
     "output_type": "stream",
     "text": [
      "< 5\n",
      "> 4\n"
     ]
    },
    {
     "data": {
      "text/plain": [
       "4"
      ]
     },
     "execution_count": 135,
     "metadata": {},
     "output_type": "execute_result"
    }
   ],
   "source": [
    "next(a)"
   ]
  },
  {
   "cell_type": "code",
   "execution_count": 138,
   "id": "cfc8a985",
   "metadata": {},
   "outputs": [
    {
     "name": "stdout",
     "output_type": "stream",
     "text": [
      "> 5\n",
      "> 2\n",
      "--- 5 2\n",
      "< 2\n",
      "> 1\n",
      "--- 5 1\n",
      "< 1\n",
      "< 5\n",
      "> 4\n",
      "> 2\n",
      "--- 4 2\n",
      "< 2\n",
      "> 1\n",
      "--- 4 1\n",
      "< 1\n",
      "< 4\n",
      "> 3\n",
      "> 2\n",
      "--- 3 2\n",
      "< 2\n",
      "> 1\n",
      "--- 3 1\n",
      "< 1\n",
      "< 3\n",
      "> 2\n",
      "> 2\n",
      "--- 2 2\n",
      "< 2\n",
      "> 1\n",
      "--- 2 1\n",
      "< 1\n",
      "< 2\n",
      "> 1\n",
      "> 2\n",
      "--- 1 2\n",
      "< 2\n",
      "> 1\n",
      "--- 1 1\n",
      "< 1\n",
      "< 1\n"
     ]
    }
   ],
   "source": [
    "for i in f(5):\n",
    "    for j in f(2):\n",
    "        print(\"---\", i, j)"
   ]
  },
  {
   "cell_type": "code",
   "execution_count": 139,
   "id": "53d8acdd",
   "metadata": {},
   "outputs": [
    {
     "name": "stdout",
     "output_type": "stream",
     "text": [
      "> 5\n",
      "--- 5\n",
      "< 5\n",
      "> 4\n",
      "--- 4\n",
      "< 4\n",
      "> 3\n",
      "--- 3\n",
      "< 3\n",
      "> 2\n",
      "--- 2\n",
      "< 2\n",
      "> 1\n",
      "--- 1\n",
      "< 1\n"
     ]
    }
   ],
   "source": [
    "a = 5\n",
    "for i in f(a):\n",
    "    print(\"---\", i)\n",
    "    if i == 3:\n",
    "        a = 10\n"
   ]
  },
  {
   "cell_type": "code",
   "execution_count": 140,
   "id": "94b8aadc",
   "metadata": {},
   "outputs": [],
   "source": [
    "def f(n: int) -> int:\n",
    "    s = 1\n",
    "    while True:\n",
    "        s += 1\n",
    "        yield s"
   ]
  },
  {
   "cell_type": "code",
   "execution_count": 141,
   "id": "fb5ef3c3",
   "metadata": {},
   "outputs": [],
   "source": [
    "a = f(10000000000000000000000000000000000000000000000000000000000000000000000000000000000000000000000000000000000000000000000000000000000000000000000000000000000000000000000000000000000000000000000000000000000000000000000000000000000000000)"
   ]
  },
  {
   "cell_type": "code",
   "execution_count": 142,
   "id": "024d1c5c",
   "metadata": {},
   "outputs": [
    {
     "data": {
      "text/plain": [
       "2"
      ]
     },
     "execution_count": 142,
     "metadata": {},
     "output_type": "execute_result"
    }
   ],
   "source": [
    "next(a)"
   ]
  },
  {
   "cell_type": "code",
   "execution_count": 143,
   "id": "85aa62d9",
   "metadata": {},
   "outputs": [
    {
     "data": {
      "text/plain": [
       "3"
      ]
     },
     "execution_count": 143,
     "metadata": {},
     "output_type": "execute_result"
    }
   ],
   "source": [
    "next(a)"
   ]
  },
  {
   "cell_type": "code",
   "execution_count": 147,
   "id": "2007aafa",
   "metadata": {},
   "outputs": [
    {
     "data": {
      "text/plain": [
       "[4, 16, 36]"
      ]
     },
     "execution_count": 147,
     "metadata": {},
     "output_type": "execute_result"
    }
   ],
   "source": [
    "a = (1,2,3,4,5,6)\n",
    "[el**2 for el in a if el%2 == 0]"
   ]
  },
  {
   "cell_type": "code",
   "execution_count": 148,
   "id": "7e30a128",
   "metadata": {},
   "outputs": [
    {
     "data": {
      "text/plain": [
       "{1: 1, 2: 4, 3: 9, 4: 16, 5: 25, 6: 36}"
      ]
     },
     "execution_count": 148,
     "metadata": {},
     "output_type": "execute_result"
    }
   ],
   "source": [
    "{k:k**2 for k in a}"
   ]
  },
  {
   "cell_type": "code",
   "execution_count": 149,
   "id": "62a0e455",
   "metadata": {},
   "outputs": [
    {
     "data": {
      "text/plain": [
       "0"
      ]
     },
     "execution_count": 149,
     "metadata": {},
     "output_type": "execute_result"
    }
   ],
   "source": [
    "a = range(5)\n",
    "b = iter(a)\n",
    "next(b)"
   ]
  },
  {
   "cell_type": "code",
   "execution_count": null,
   "id": "810834a4",
   "metadata": {},
   "outputs": [],
   "source": [
    "main1.py\n",
    "функция fib(n: int) -> tuple[int] возвращающая первые n чисел Фиббоначи, \n",
    "реализованная через рекурсию\n",
    "\n",
    "функция sum_list(a: list[int]) -> int|None сумма элементов через цикл\n",
    "\n",
    "функция max_list(a: list[int]) -> int|None максимальный элемент списка\n",
    "\n",
    "функция max2_list(a: list[int]) -> tuple[int|None] два максимальных \n",
    "элемента в порядке убывания\n",
    "\n",
    "функция min_max_list(a: list[int]) -> tuple[int|None] минимум и максимум\n",
    "списка\n",
    "\n",
    "функция mean_list(a: list[int]) -> float|None среднее значение списка\n",
    "\n",
    "функция median_list(a: list[int]) -> float|None вернеть медиану списка"
   ]
  },
  {
   "cell_type": "code",
   "execution_count": 17,
   "id": "c5c53d0c",
   "metadata": {},
   "outputs": [
    {
     "name": "stdout",
     "output_type": "stream",
     "text": [
      "         10,          23,                  100\n",
      "        100,         461,                10000\n",
      "       1000,        6908,              1000000\n",
      "      10000,       92103,            100000000\n",
      "     100000,     1151293,          10000000000\n",
      "    1000000,    13815511,        1000000000000\n",
      "   10000000,   161180957,      100000000000000\n",
      "  100000000,  1842068074,    10000000000000000\n",
      " 1000000000, 20723265837,  1000000000000000000\n"
     ]
    }
   ],
   "source": [
    "from math import log\n",
    "\n",
    "def nlogn(n):\n",
    "    return n * log(n)\n",
    "\n",
    "def n2(n):\n",
    "    return n * n\n",
    "\n",
    "for i in range(1, 10):\n",
    "    print(f\"{10**i:>11}, {round(nlogn(10**i)):>11}, {n2(10**i):>20}\")"
   ]
  },
  {
   "cell_type": "code",
   "execution_count": 21,
   "id": "f88f6e6a",
   "metadata": {},
   "outputs": [
    {
     "data": {
      "text/plain": [
       "11.574074074074074"
      ]
     },
     "execution_count": 21,
     "metadata": {},
     "output_type": "execute_result"
    }
   ],
   "source": [
    "1000_000/(60*60*24)"
   ]
  },
  {
   "cell_type": "code",
   "execution_count": null,
   "id": "744104f5",
   "metadata": {},
   "outputs": [],
   "source": []
  }
 ],
 "metadata": {
  "kernelspec": {
   "display_name": "Python 3",
   "language": "python",
   "name": "python3"
  },
  "language_info": {
   "codemirror_mode": {
    "name": "ipython",
    "version": 3
   },
   "file_extension": ".py",
   "mimetype": "text/x-python",
   "name": "python",
   "nbconvert_exporter": "python",
   "pygments_lexer": "ipython3",
   "version": "3.12.3"
  }
 },
 "nbformat": 4,
 "nbformat_minor": 5
}
