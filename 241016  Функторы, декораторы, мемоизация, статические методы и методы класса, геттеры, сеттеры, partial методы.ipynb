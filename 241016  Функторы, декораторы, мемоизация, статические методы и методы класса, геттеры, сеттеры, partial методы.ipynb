{
 "cells": [
  {
   "cell_type": "markdown",
   "id": "af7caa99",
   "metadata": {},
   "source": [
    "# Функторы. Магический метод \\_\\_call\\_\\_"
   ]
  },
  {
   "cell_type": "code",
   "execution_count": 11,
   "id": "bb3b215c",
   "metadata": {},
   "outputs": [],
   "source": [
    "class A:\n",
    "    def __init__(self, c: int):\n",
    "        self.c = c\n",
    "        \n",
    "    def __call__(self, b: int):\n",
    "        return b**self.c\n",
    "    \n",
    "a = A(3)"
   ]
  },
  {
   "cell_type": "code",
   "execution_count": 12,
   "id": "d56d5f27",
   "metadata": {},
   "outputs": [
    {
     "data": {
      "text/plain": [
       "125"
      ]
     },
     "execution_count": 12,
     "metadata": {},
     "output_type": "execute_result"
    }
   ],
   "source": [
    "a(5)"
   ]
  },
  {
   "cell_type": "code",
   "execution_count": 14,
   "id": "cef4855a",
   "metadata": {},
   "outputs": [
    {
     "data": {
      "text/plain": [
       "125"
      ]
     },
     "execution_count": 14,
     "metadata": {},
     "output_type": "execute_result"
    }
   ],
   "source": [
    "A(3)(5)"
   ]
  },
  {
   "cell_type": "markdown",
   "id": "769a07c7",
   "metadata": {},
   "source": [
    "# Мемоизация"
   ]
  },
  {
   "cell_type": "code",
   "execution_count": 15,
   "id": "3bce9c97",
   "metadata": {},
   "outputs": [],
   "source": [
    "a.d = dict()"
   ]
  },
  {
   "cell_type": "code",
   "execution_count": 16,
   "id": "3e343cf2",
   "metadata": {},
   "outputs": [
    {
     "data": {
      "text/plain": [
       "{}"
      ]
     },
     "execution_count": 16,
     "metadata": {},
     "output_type": "execute_result"
    }
   ],
   "source": [
    "a.d"
   ]
  },
  {
   "cell_type": "code",
   "execution_count": 57,
   "id": "ec62f00e",
   "metadata": {},
   "outputs": [],
   "source": [
    "def factorial(n):\n",
    "    if n in factorial.d:\n",
    "        return factorial.d[n]\n",
    "    \n",
    "    if n == 1:\n",
    "        return 1\n",
    "    m =  n * factorial(n-1)\n",
    "    factorial.d[n] = m\n",
    "    return m\n",
    "    \n",
    "factorial.d = {}"
   ]
  },
  {
   "cell_type": "code",
   "execution_count": 20,
   "id": "d5b7752c",
   "metadata": {},
   "outputs": [
    {
     "data": {
      "text/plain": [
       "120"
      ]
     },
     "execution_count": 20,
     "metadata": {},
     "output_type": "execute_result"
    }
   ],
   "source": [
    "factorial(5)"
   ]
  },
  {
   "cell_type": "code",
   "execution_count": 1,
   "id": "75a56ad3",
   "metadata": {},
   "outputs": [],
   "source": [
    "import sys\n",
    "\n",
    "sys.setrecursionlimit(1000000)"
   ]
  },
  {
   "cell_type": "code",
   "execution_count": 58,
   "id": "8da1b68a",
   "metadata": {},
   "outputs": [],
   "source": [
    "def factorial_old(n):    \n",
    "    if n == 1:\n",
    "        return 1\n",
    "    return n * factorial_old(n-1)"
   ]
  },
  {
   "cell_type": "code",
   "execution_count": 2,
   "id": "22bb79c5",
   "metadata": {},
   "outputs": [],
   "source": [
    "import time\n",
    "import random"
   ]
  },
  {
   "cell_type": "code",
   "execution_count": 59,
   "id": "14e4da5c",
   "metadata": {},
   "outputs": [
    {
     "name": "stdout",
     "output_type": "stream",
     "text": [
      "0.5943868160247803\n"
     ]
    }
   ],
   "source": [
    "t1 = time.time()\n",
    "for i in range(100):\n",
    "    a = factorial_old(random.randint(1, 10000))\n",
    "print(time.time() - t1)"
   ]
  },
  {
   "cell_type": "code",
   "execution_count": 60,
   "id": "6869e1b8",
   "metadata": {},
   "outputs": [
    {
     "name": "stdout",
     "output_type": "stream",
     "text": [
      "0.04458165168762207\n"
     ]
    }
   ],
   "source": [
    "t1 = time.time()\n",
    "for i in range(100):\n",
    "    a = factorial(random.randint(1, 10000))\n",
    "print(time.time() - t1)"
   ]
  },
  {
   "cell_type": "code",
   "execution_count": 62,
   "id": "c3e59523",
   "metadata": {},
   "outputs": [
    {
     "data": {
      "text/plain": [
       "9971"
      ]
     },
     "execution_count": 62,
     "metadata": {},
     "output_type": "execute_result"
    }
   ],
   "source": [
    "len(factorial.d)"
   ]
  },
  {
   "cell_type": "code",
   "execution_count": 3,
   "id": "951cbcac",
   "metadata": {},
   "outputs": [],
   "source": [
    "from functools import lru_cache\n",
    "\n",
    "@lru_cache\n",
    "def factorial_cache(n):\n",
    "    if n == 1:\n",
    "        return 1\n",
    "    return n * factorial_cache(n-1)"
   ]
  },
  {
   "cell_type": "code",
   "execution_count": 4,
   "id": "4690fd71",
   "metadata": {},
   "outputs": [
    {
     "ename": "RecursionError",
     "evalue": "maximum recursion depth exceeded while calling a Python object",
     "output_type": "error",
     "traceback": [
      "\u001b[0;31m---------------------------------------------------------------------------\u001b[0m",
      "\u001b[0;31mRecursionError\u001b[0m                            Traceback (most recent call last)",
      "Cell \u001b[0;32mIn[4], line 3\u001b[0m\n\u001b[1;32m      1\u001b[0m t1 \u001b[38;5;241m=\u001b[39m time\u001b[38;5;241m.\u001b[39mtime()\n\u001b[1;32m      2\u001b[0m \u001b[38;5;28;01mfor\u001b[39;00m i \u001b[38;5;129;01min\u001b[39;00m \u001b[38;5;28mrange\u001b[39m(\u001b[38;5;241m100\u001b[39m):\n\u001b[0;32m----> 3\u001b[0m     a \u001b[38;5;241m=\u001b[39m \u001b[43mfactorial_cache\u001b[49m\u001b[43m(\u001b[49m\u001b[43mrandom\u001b[49m\u001b[38;5;241;43m.\u001b[39;49m\u001b[43mrandint\u001b[49m\u001b[43m(\u001b[49m\u001b[38;5;241;43m1\u001b[39;49m\u001b[43m,\u001b[49m\u001b[43m \u001b[49m\u001b[38;5;241;43m10000\u001b[39;49m\u001b[43m)\u001b[49m\u001b[43m)\u001b[49m\n\u001b[1;32m      4\u001b[0m \u001b[38;5;28mprint\u001b[39m(time\u001b[38;5;241m.\u001b[39mtime() \u001b[38;5;241m-\u001b[39m t1)\n",
      "Cell \u001b[0;32mIn[3], line 7\u001b[0m, in \u001b[0;36mfactorial_cache\u001b[0;34m(n)\u001b[0m\n\u001b[1;32m      5\u001b[0m \u001b[38;5;28;01mif\u001b[39;00m n \u001b[38;5;241m==\u001b[39m \u001b[38;5;241m1\u001b[39m:\n\u001b[1;32m      6\u001b[0m     \u001b[38;5;28;01mreturn\u001b[39;00m \u001b[38;5;241m1\u001b[39m\n\u001b[0;32m----> 7\u001b[0m \u001b[38;5;28;01mreturn\u001b[39;00m n \u001b[38;5;241m*\u001b[39m \u001b[43mfactorial_cache\u001b[49m\u001b[43m(\u001b[49m\u001b[43mn\u001b[49m\u001b[38;5;241;43m-\u001b[39;49m\u001b[38;5;241;43m1\u001b[39;49m\u001b[43m)\u001b[49m\n",
      "Cell \u001b[0;32mIn[3], line 7\u001b[0m, in \u001b[0;36mfactorial_cache\u001b[0;34m(n)\u001b[0m\n\u001b[1;32m      5\u001b[0m \u001b[38;5;28;01mif\u001b[39;00m n \u001b[38;5;241m==\u001b[39m \u001b[38;5;241m1\u001b[39m:\n\u001b[1;32m      6\u001b[0m     \u001b[38;5;28;01mreturn\u001b[39;00m \u001b[38;5;241m1\u001b[39m\n\u001b[0;32m----> 7\u001b[0m \u001b[38;5;28;01mreturn\u001b[39;00m n \u001b[38;5;241m*\u001b[39m \u001b[43mfactorial_cache\u001b[49m\u001b[43m(\u001b[49m\u001b[43mn\u001b[49m\u001b[38;5;241;43m-\u001b[39;49m\u001b[38;5;241;43m1\u001b[39;49m\u001b[43m)\u001b[49m\n",
      "    \u001b[0;31m[... skipping similar frames: factorial_cache at line 7 (3325 times)]\u001b[0m\n",
      "Cell \u001b[0;32mIn[3], line 7\u001b[0m, in \u001b[0;36mfactorial_cache\u001b[0;34m(n)\u001b[0m\n\u001b[1;32m      5\u001b[0m \u001b[38;5;28;01mif\u001b[39;00m n \u001b[38;5;241m==\u001b[39m \u001b[38;5;241m1\u001b[39m:\n\u001b[1;32m      6\u001b[0m     \u001b[38;5;28;01mreturn\u001b[39;00m \u001b[38;5;241m1\u001b[39m\n\u001b[0;32m----> 7\u001b[0m \u001b[38;5;28;01mreturn\u001b[39;00m n \u001b[38;5;241m*\u001b[39m \u001b[43mfactorial_cache\u001b[49m\u001b[43m(\u001b[49m\u001b[43mn\u001b[49m\u001b[38;5;241;43m-\u001b[39;49m\u001b[38;5;241;43m1\u001b[39;49m\u001b[43m)\u001b[49m\n",
      "\u001b[0;31mRecursionError\u001b[0m: maximum recursion depth exceeded while calling a Python object"
     ]
    }
   ],
   "source": [
    "t1 = time.time()\n",
    "for i in range(100):\n",
    "    a = factorial_cache(random.randint(1, 10000))\n",
    "print(time.time() - t1)"
   ]
  },
  {
   "cell_type": "markdown",
   "id": "d61a4bc2",
   "metadata": {},
   "source": [
    "# Декораторы"
   ]
  },
  {
   "cell_type": "markdown",
   "id": "799037e0",
   "metadata": {},
   "source": [
    "https://habr.com/ru/companies/otus/articles/727590/\n",
    "\n",
    "https://tproger.ru/translations/demystifying-decorators-in-python"
   ]
  },
  {
   "cell_type": "markdown",
   "id": "136355f7",
   "metadata": {},
   "source": [
    "# partial функции"
   ]
  },
  {
   "cell_type": "code",
   "execution_count": 26,
   "id": "02087f4c",
   "metadata": {},
   "outputs": [],
   "source": [
    "def f(*args, discount):\n",
    "    return sum(args)*(1 - discount)"
   ]
  },
  {
   "cell_type": "code",
   "execution_count": null,
   "id": "44650cf7",
   "metadata": {},
   "outputs": [],
   "source": []
  },
  {
   "cell_type": "code",
   "execution_count": 27,
   "id": "476fb532",
   "metadata": {},
   "outputs": [],
   "source": [
    "def get_type_client_f(func, discount):\n",
    "    def wrapper(*args, **kwargs):\n",
    "        kwargs[\"discount\"] = discount\n",
    "        return f(*args,**kwargs)\n",
    "    return wrapper"
   ]
  },
  {
   "cell_type": "code",
   "execution_count": 28,
   "id": "b5893670",
   "metadata": {},
   "outputs": [],
   "source": [
    "vip_f = get_type_client_f(f, discount=0.5)\n",
    "not_vip_f = get_type_client_f(f, discount=0.2)"
   ]
  },
  {
   "cell_type": "code",
   "execution_count": 29,
   "id": "f069a73c",
   "metadata": {},
   "outputs": [
    {
     "data": {
      "text/plain": [
       "50.0"
      ]
     },
     "execution_count": 29,
     "metadata": {},
     "output_type": "execute_result"
    }
   ],
   "source": [
    "vip_f(100)"
   ]
  },
  {
   "cell_type": "code",
   "execution_count": 30,
   "id": "7cee5b0d",
   "metadata": {},
   "outputs": [
    {
     "data": {
      "text/plain": [
       "80.0"
      ]
     },
     "execution_count": 30,
     "metadata": {},
     "output_type": "execute_result"
    }
   ],
   "source": [
    "not_vip_f(100)"
   ]
  },
  {
   "cell_type": "markdown",
   "id": "b7529f1e",
   "metadata": {},
   "source": [
    "##   с помощью partial"
   ]
  },
  {
   "cell_type": "code",
   "execution_count": null,
   "id": "34923823",
   "metadata": {},
   "outputs": [],
   "source": [
    "from functools import partial"
   ]
  },
  {
   "cell_type": "code",
   "execution_count": null,
   "id": "b388b1bd",
   "metadata": {},
   "outputs": [],
   "source": [
    "def multiply(x, y):\n",
    "       return x * y"
   ]
  },
  {
   "cell_type": "code",
   "execution_count": null,
   "id": "6b694d56",
   "metadata": {},
   "outputs": [],
   "source": [
    "doubleNum = partial(multiply, 2)\n",
    "tripleNum = partial(multiply, 3)"
   ]
  },
  {
   "cell_type": "code",
   "execution_count": null,
   "id": "99b60830",
   "metadata": {},
   "outputs": [],
   "source": [
    "doubleNum(10)"
   ]
  },
  {
   "cell_type": "markdown",
   "id": "41593208",
   "metadata": {},
   "source": [
    "# Статические методы и методы класса"
   ]
  },
  {
   "cell_type": "code",
   "execution_count": 16,
   "id": "c6d77f17",
   "metadata": {},
   "outputs": [],
   "source": [
    "class A:\n",
    "    @classmethod\n",
    "    def f(cls: type):\n",
    "        print(cls, type(cls))\n",
    "        return 2\n",
    "    \n",
    "    @staticmethod\n",
    "    def f1(a: int, b: int):\n",
    "        return a + b"
   ]
  },
  {
   "cell_type": "code",
   "execution_count": 17,
   "id": "02078112",
   "metadata": {},
   "outputs": [
    {
     "data": {
      "text/plain": [
       "3"
      ]
     },
     "execution_count": 17,
     "metadata": {},
     "output_type": "execute_result"
    }
   ],
   "source": [
    "a = A()\n",
    "a.f1(1, 2)"
   ]
  },
  {
   "cell_type": "code",
   "execution_count": 18,
   "id": "cfc0eda0",
   "metadata": {},
   "outputs": [
    {
     "name": "stdout",
     "output_type": "stream",
     "text": [
      "<class '__main__.A'> <class 'type'>\n"
     ]
    },
    {
     "data": {
      "text/plain": [
       "2"
      ]
     },
     "execution_count": 18,
     "metadata": {},
     "output_type": "execute_result"
    }
   ],
   "source": [
    "a.f()"
   ]
  },
  {
   "cell_type": "code",
   "execution_count": 19,
   "id": "dcd51e00",
   "metadata": {},
   "outputs": [
    {
     "name": "stdout",
     "output_type": "stream",
     "text": [
      "<class '__main__.A'> <class 'type'>\n"
     ]
    },
    {
     "data": {
      "text/plain": [
       "2"
      ]
     },
     "execution_count": 19,
     "metadata": {},
     "output_type": "execute_result"
    }
   ],
   "source": [
    "A.f()"
   ]
  },
  {
   "cell_type": "code",
   "execution_count": 21,
   "id": "24d9e0e8",
   "metadata": {},
   "outputs": [
    {
     "data": {
      "text/plain": [
       "(__main__.A, type)"
      ]
     },
     "execution_count": 21,
     "metadata": {},
     "output_type": "execute_result"
    }
   ],
   "source": [
    "type(a), type(A)"
   ]
  },
  {
   "cell_type": "markdown",
   "id": "0d17c59c",
   "metadata": {},
   "source": [
    "# Гетеры и сетеры"
   ]
  },
  {
   "cell_type": "code",
   "execution_count": 46,
   "id": "fb8124dc",
   "metadata": {},
   "outputs": [],
   "source": [
    "import math\n",
    "\n",
    "class A:\n",
    "    def __init__(self, a:float):\n",
    "        self.a:float = float(a)\n",
    "        \n",
    "    @property\n",
    "    def square(self):\n",
    "        return self.a**2\n",
    "    \n",
    "    @square.setter\n",
    "    def square(self, square):\n",
    "        self.a = math.sqrt(square)"
   ]
  },
  {
   "cell_type": "code",
   "execution_count": 47,
   "id": "984ece9a",
   "metadata": {},
   "outputs": [],
   "source": [
    "a  = A(5)"
   ]
  },
  {
   "cell_type": "code",
   "execution_count": 48,
   "id": "05cf47de",
   "metadata": {},
   "outputs": [
    {
     "data": {
      "text/plain": [
       "25.0"
      ]
     },
     "execution_count": 48,
     "metadata": {},
     "output_type": "execute_result"
    }
   ],
   "source": [
    "a.square"
   ]
  },
  {
   "cell_type": "code",
   "execution_count": 49,
   "id": "33d94080",
   "metadata": {},
   "outputs": [],
   "source": [
    "a.a = 6"
   ]
  },
  {
   "cell_type": "code",
   "execution_count": 50,
   "id": "74973a82",
   "metadata": {},
   "outputs": [
    {
     "data": {
      "text/plain": [
       "36"
      ]
     },
     "execution_count": 50,
     "metadata": {},
     "output_type": "execute_result"
    }
   ],
   "source": [
    "a.square"
   ]
  },
  {
   "cell_type": "code",
   "execution_count": 51,
   "id": "355fa61c",
   "metadata": {},
   "outputs": [],
   "source": [
    "a.square = 49"
   ]
  },
  {
   "cell_type": "code",
   "execution_count": 39,
   "id": "5da9cbe0",
   "metadata": {},
   "outputs": [
    {
     "data": {
      "text/plain": [
       "7.0"
      ]
     },
     "execution_count": 39,
     "metadata": {},
     "output_type": "execute_result"
    }
   ],
   "source": [
    "a.a"
   ]
  },
  {
   "cell_type": "code",
   "execution_count": 40,
   "id": "bb5a3974",
   "metadata": {},
   "outputs": [
    {
     "data": {
      "text/plain": [
       "49.0"
      ]
     },
     "execution_count": 40,
     "metadata": {},
     "output_type": "execute_result"
    }
   ],
   "source": [
    "a.square"
   ]
  },
  {
   "cell_type": "markdown",
   "id": "b7422ffe",
   "metadata": {},
   "source": [
    "# Классная работа"
   ]
  },
  {
   "cell_type": "markdown",
   "id": "22ee8c7c",
   "metadata": {},
   "source": [
    "cw241016/main.py\n",
    "\n",
    "1. Реализовать корректное завершение игры: при конце игры змейка застывает. \n",
    "Если после этого нажать любую клавишу игра начинается заново. \n",
    "Игра должна закрываться при нажатии на крестик корректно.\n",
    "\n",
    "2. Вывести в верхнем левом углу счет съеденной еды"
   ]
  },
  {
   "cell_type": "markdown",
   "id": "980a3087",
   "metadata": {},
   "source": [
    "# Домашняя работа"
   ]
  },
  {
   "cell_type": "markdown",
   "id": "492bc4e5",
   "metadata": {},
   "source": [
    "dz241016/\n",
    "\n",
    "main.py  \n",
    "1. Реализовать классную работу\n",
    "\n",
    "2. Создать класс Stone, разместить на игровом поле камни в случайном порядке. Каждый камень должен занимать одну клетку игрового поля. Количество камней - параметр, который должен передаваться GameManager, который передает его в Game. На камнях не должна пявляться еда. При столкновении змейки с камнем игра заканчивается. Игровая логика должна быть полность в классе Game. Логика вывода на экран в классе RenderManager. Класс GameManager отвечает за их взаимодействие.\n",
    "\n",
    "3. Реализовать класс Gamer. Который управляет змейкой. Он передается GameManager. В GameManager объекту класса Gamer передается объект класса Game, то есть у него естьд оступ к игровому полю и всему, что на нем расположено. В процессе игры GameManager опрашивает класс Gamer о событиях которые он генерирует и передает эти события в метод step объекта класса Game. То есть по сути Gamer замещает класс EventManager. Змейка должна набирать хотя бы 50 очков под управлением класса Gamer."
   ]
  },
  {
   "cell_type": "code",
   "execution_count": null,
   "id": "fde799f0",
   "metadata": {},
   "outputs": [],
   "source": []
  }
 ],
 "metadata": {
  "kernelspec": {
   "display_name": "Python 3 (ipykernel)",
   "language": "python",
   "name": "python3"
  },
  "language_info": {
   "codemirror_mode": {
    "name": "ipython",
    "version": 3
   },
   "file_extension": ".py",
   "mimetype": "text/x-python",
   "name": "python",
   "nbconvert_exporter": "python",
   "pygments_lexer": "ipython3",
   "version": "3.12.5"
  }
 },
 "nbformat": 4,
 "nbformat_minor": 5
}
