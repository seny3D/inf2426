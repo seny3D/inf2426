{
 "cells": [
  {
   "cell_type": "markdown",
   "id": "41ae9281",
   "metadata": {},
   "source": [
    "# Куча"
   ]
  },
  {
   "cell_type": "code",
   "execution_count": null,
   "id": "148a385b",
   "metadata": {},
   "outputs": [],
   "source": [
    "https://habr.com/ru/articles/112222/"
   ]
  },
  {
   "cell_type": "markdown",
   "id": "f37c3134",
   "metadata": {},
   "source": [
    "# Бинарное дерево поиска"
   ]
  },
  {
   "cell_type": "code",
   "execution_count": null,
   "id": "47f5a1ea",
   "metadata": {},
   "outputs": [],
   "source": [
    "https://habr.com/ru/articles/112222/"
   ]
  },
  {
   "cell_type": "markdown",
   "id": "65f2d950",
   "metadata": {},
   "source": [
    "# Красно-черные деревья"
   ]
  },
  {
   "cell_type": "code",
   "execution_count": null,
   "id": "51c65b8e",
   "metadata": {},
   "outputs": [],
   "source": [
    "https://habr.com/ru/articles/330644/  \n",
    "https://ru.wikipedia.org/wiki/Красно-чёрное_дерево  \n",
    "https://neerc.ifmo.ru/wiki/index.php?title=Красно-черное_дерево  "
   ]
  },
  {
   "cell_type": "markdown",
   "id": "08571b79",
   "metadata": {},
   "source": [
    "# ДЗ"
   ]
  },
  {
   "cell_type": "markdown",
   "id": "46e7d1f8",
   "metadata": {},
   "source": [
    "**main.py**  \n",
    "Прочитать про очередь с приоритетом (самостоятельно найти материал, ссылки на материал \n",
    "сохранить в комментарии в файл)\n",
    "\n",
    "\n",
    "**heap.py**  \n",
    "Реализовать мин-кучу и макс-кучу на ссылках (не массиве) и очередь с приоритетом на основе кучи.  \n",
    " \n",
    "мин-кучу реализовать на основе макс-кучи (или просто кучи) наследовавшись от нее и переписав всего лишь\n",
    "один метод _cmp, реализуйте макс-кучу с учетом использования метода _cmp, который отвечает за\n",
    "сравнение двух элементов содержимого кучи.\n",
    "\n",
    "Очередь с приоритетом на основе кучи реализовать так, чтобы не переписывать и не дописывать класс кучи.\n",
    "Используйте для этого дополнительный класс Data, храните в куче объекты класса Data.\n",
    "Реализуйте его так, чтобы когда сравнивались объекты класса Data они сравнивались по self.priority полю в них\n",
    "\n",
    "\n",
    "**bst.py**  \n",
    "Реализовать бинарное дерево поиска на ссылках  \n",
    "\n",
    "\n",
    "\n",
    "\n",
    "\n",
    "Для heap.py и bst.py должны проходить все тесты из файлов **test_heap.py** и  **test_bst.py**.  \n",
    "\n",
    "Для heap.py и bst.py казаны не все методы, которые вам придется реализовать про остальные надо догадаться. \n",
    "\n",
    "\n",
    "## Лит. код\n",
    "\n",
    "**108.py** решать самостоятельно реализованным бинарным деревом поиска  \n",
    "https://leetcode.com/problems/convert-sorted-array-to-binary-search-tree/description/?envType=problem-list-v2&envId=array&favoriteSlug=&difficulty=EASY\n",
    "\n",
    "для решения 108 задачи, добавьте метод to_array в класс BST, результат которого является ответом к задаче.\n",
    "\n",
    "\n",
    "**506.py** решать самостоятельно реализованной очередью с приоритетом  \n",
    "https://leetcode.com/problems/relative-ranks/description/?envType=problem-list-v2&envId=array&favoriteSlug=&difficulty=EASY\n",
    "\n",
    "\n",
    "**150.py** решать с помощью стека или очереди можно встроеных  \n",
    "https://leetcode.com/problems/evaluate-reverse-polish-notation/description/?envType=problem-list-v2&envId=array&favoriteSlug=&difficulty=MEDIUM\n",
    "\n",
    "\n",
    "**2.py** решать с помощью связного списка  \n",
    "https://leetcode.com/problems/add-two-numbers/description/?envType=problem-list-v2&envId=linked-list&difficulty=MEDIUM"
   ]
  }
 ],
 "metadata": {
  "kernelspec": {
   "display_name": "Python 3 (ipykernel)",
   "language": "python",
   "name": "python3"
  },
  "language_info": {
   "codemirror_mode": {
    "name": "ipython",
    "version": 3
   },
   "file_extension": ".py",
   "mimetype": "text/x-python",
   "name": "python",
   "nbconvert_exporter": "python",
   "pygments_lexer": "ipython3",
   "version": "3.12.5"
  }
 },
 "nbformat": 4,
 "nbformat_minor": 5
}
